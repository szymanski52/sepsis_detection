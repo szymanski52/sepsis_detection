{
  "cells": [
    {
      "cell_type": "code",
      "execution_count": 1,
      "metadata": {
        "colab": {
          "base_uri": "https://localhost:8080/"
        },
        "id": "OeUvBuNqBJJj",
        "outputId": "1601fa77-75e7-456a-e74d-83d9698356a8"
      },
      "outputs": [
        {
          "output_type": "stream",
          "name": "stdout",
          "text": [
            "Mounted at /content/drive\n"
          ]
        }
      ],
      "source": [
        "from google.colab import drive\n",
        "drive.mount('/content/drive')"
      ]
    },
    {
      "cell_type": "code",
      "execution_count": 2,
      "metadata": {
        "colab": {
          "base_uri": "https://localhost:8080/"
        },
        "id": "F4ik0szN402g",
        "outputId": "61b4f4d3-0e35-477f-c880-ec83a7b9ffe3"
      },
      "outputs": [
        {
          "output_type": "stream",
          "name": "stdout",
          "text": [
            "Archive:  /content/drive/MyDrive/mimicel-mimic-iv-event-log-for-emergency-department-2.1.0.zip\n",
            "  inflating: mimicel-mimic-iv-event-log-for-emergency-department-2.1.0/LICENSE.txt  \n",
            "  inflating: mimicel-mimic-iv-event-log-for-emergency-department-2.1.0/SHA256SUMS.txt  \n",
            "  inflating: mimicel-mimic-iv-event-log-for-emergency-department-2.1.0/code/1_extract_eventlog/1_preprocessing.sql  \n",
            "  inflating: mimicel-mimic-iv-event-log-for-emergency-department-2.1.0/code/1_extract_eventlog/2_to_activity.sql  \n",
            "  inflating: mimicel-mimic-iv-event-log-for-emergency-department-2.1.0/code/1_extract_eventlog/3_to_eventlog.sql  \n",
            "  inflating: mimicel-mimic-iv-event-log-for-emergency-department-2.1.0/code/1_extract_eventlog/4_clean.sql  \n",
            "  inflating: mimicel-mimic-iv-event-log-for-emergency-department-2.1.0/code/1_extract_eventlog/README.md  \n",
            "  inflating: mimicel-mimic-iv-event-log-for-emergency-department-2.1.0/code/1_extract_eventlog/mimic_eventlog_erd.png  \n",
            "  inflating: mimicel-mimic-iv-event-log-for-emergency-department-2.1.0/code/2_to_xes/csv2xes.ipynb  \n",
            "  inflating: mimicel-mimic-iv-event-log-for-emergency-department-2.1.0/code/2_to_xes/csv2xes.py  \n",
            "  inflating: mimicel-mimic-iv-event-log-for-emergency-department-2.1.0/code/CHANGELOG.md  \n",
            "  inflating: mimicel-mimic-iv-event-log-for-emergency-department-2.1.0/code/README.md  \n",
            "  inflating: mimicel-mimic-iv-event-log-for-emergency-department-2.1.0/data/mimicel.csv  \n",
            "  inflating: mimicel-mimic-iv-event-log-for-emergency-department-2.1.0/data/mimicel.xes  \n"
          ]
        }
      ],
      "source": [
        "!unzip /content/drive/MyDrive/mimicel-mimic-iv-event-log-for-emergency-department-2.1.0.zip"
      ]
    },
    {
      "cell_type": "code",
      "execution_count": 3,
      "metadata": {
        "id": "V7pnfxenljB7"
      },
      "outputs": [],
      "source": [
        "import pandas as pd"
      ]
    },
    {
      "cell_type": "code",
      "execution_count": 4,
      "metadata": {
        "colab": {
          "base_uri": "https://localhost:8080/"
        },
        "id": "7PWP8q0hwcu-",
        "outputId": "8c8bb039-87a0-45be-c841-cabfaaf67063"
      },
      "outputs": [
        {
          "output_type": "stream",
          "name": "stdout",
          "text": [
            "Archive:  /content/drive/MyDrive/mimic-iii-clinical-database-carevue-subset-1.4.zip\n",
            "  inflating: mimic-iii-clinical-database-carevue-subset-1.4/ADMISSIONS.csv.gz  \n",
            "  inflating: mimic-iii-clinical-database-carevue-subset-1.4/CALLOUT.csv.gz  \n",
            "  inflating: mimic-iii-clinical-database-carevue-subset-1.4/CAREGIVERS.csv.gz  \n",
            "  inflating: mimic-iii-clinical-database-carevue-subset-1.4/CHARTEVENTS.csv.gz  \n",
            "  inflating: mimic-iii-clinical-database-carevue-subset-1.4/CPTEVENTS.csv.gz  \n",
            "  inflating: mimic-iii-clinical-database-carevue-subset-1.4/DATETIMEEVENTS.csv.gz  \n",
            "  inflating: mimic-iii-clinical-database-carevue-subset-1.4/DIAGNOSES_ICD.csv.gz  \n",
            "  inflating: mimic-iii-clinical-database-carevue-subset-1.4/DRGCODES.csv.gz  \n",
            " extracting: mimic-iii-clinical-database-carevue-subset-1.4/D_CPT.csv.gz  \n",
            "  inflating: mimic-iii-clinical-database-carevue-subset-1.4/D_ICD_DIAGNOSES.csv.gz  \n",
            "  inflating: mimic-iii-clinical-database-carevue-subset-1.4/D_ICD_PROCEDURES.csv.gz  \n",
            "  inflating: mimic-iii-clinical-database-carevue-subset-1.4/D_ITEMS.csv.gz  \n",
            " extracting: mimic-iii-clinical-database-carevue-subset-1.4/D_LABITEMS.csv.gz  \n",
            "  inflating: mimic-iii-clinical-database-carevue-subset-1.4/ICUSTAYS.csv.gz  \n",
            "  inflating: mimic-iii-clinical-database-carevue-subset-1.4/INPUTEVENTS_CV.csv.gz  \n",
            " extracting: mimic-iii-clinical-database-carevue-subset-1.4/INPUTEVENTS_MV.csv.gz  \n",
            "  inflating: mimic-iii-clinical-database-carevue-subset-1.4/LABEVENTS.csv.gz  \n",
            "  inflating: mimic-iii-clinical-database-carevue-subset-1.4/LICENSE.txt  \n",
            "  inflating: mimic-iii-clinical-database-carevue-subset-1.4/MICROBIOLOGYEVENTS.csv.gz  \n",
            "  inflating: mimic-iii-clinical-database-carevue-subset-1.4/NOTEEVENTS.csv.gz  \n",
            "  inflating: mimic-iii-clinical-database-carevue-subset-1.4/OUTPUTEVENTS.csv.gz  \n",
            "  inflating: mimic-iii-clinical-database-carevue-subset-1.4/PATIENTS.csv.gz  \n",
            "  inflating: mimic-iii-clinical-database-carevue-subset-1.4/PRESCRIPTIONS.csv.gz  \n",
            " extracting: mimic-iii-clinical-database-carevue-subset-1.4/PROCEDUREEVENTS_MV.csv.gz  \n",
            "  inflating: mimic-iii-clinical-database-carevue-subset-1.4/PROCEDURES_ICD.csv.gz  \n",
            "  inflating: mimic-iii-clinical-database-carevue-subset-1.4/SERVICES.csv.gz  \n",
            "  inflating: mimic-iii-clinical-database-carevue-subset-1.4/SHA256SUMS.txt  \n",
            "  inflating: mimic-iii-clinical-database-carevue-subset-1.4/TRANSFERS.csv.gz  \n"
          ]
        }
      ],
      "source": [
        "!unzip /content/drive/MyDrive/mimic-iii-clinical-database-carevue-subset-1.4.zip"
      ]
    },
    {
      "cell_type": "code",
      "execution_count": 5,
      "metadata": {
        "id": "HM9c7On241Hj"
      },
      "outputs": [],
      "source": [
        "import pandas as pd\n",
        "from sklearn.metrics import classification_report"
      ]
    },
    {
      "cell_type": "code",
      "execution_count": 6,
      "metadata": {
        "colab": {
          "base_uri": "https://localhost:8080/",
          "height": 652
        },
        "id": "1U0KgTTz5u43",
        "outputId": "ec57f674-e699-4665-8637-b25f6cc5b566"
      },
      "outputs": [
        {
          "output_type": "execute_result",
          "data": {
            "text/plain": [
              "          stay_id  subject_id     hadm_id           timestamps  \\\n",
              "0        30000012    11714491  21562392.0  2126-02-14 20:22:00   \n",
              "1        30000012    11714491  21562392.0  2126-02-14 20:22:00   \n",
              "2        30000012    11714491  21562392.0  2126-02-14 20:22:01   \n",
              "3        30000012    11714491  21562392.0  2126-02-14 22:21:00   \n",
              "4        30000012    11714491  21562392.0  2126-02-14 22:21:00   \n",
              "...           ...         ...         ...                  ...   \n",
              "7568819  39999964    16479007  29821286.0  2130-06-06 18:27:00   \n",
              "7568820  39999965    14733226  27008423.0  2125-09-14 00:46:00   \n",
              "7568821  39999965    14733226  27008423.0  2125-09-14 00:46:01   \n",
              "7568822  39999965    14733226  27008423.0  2125-09-14 21:22:50   \n",
              "7568823  39999965    14733226  27008423.0  2125-09-14 21:22:50   \n",
              "\n",
              "                        activity gender                    race  \\\n",
              "0               Vital sign check    NaN                     NaN   \n",
              "1                   Enter the ED      F                   WHITE   \n",
              "2               Triage in the ED    NaN                     NaN   \n",
              "3        Medicine reconciliation    NaN                     NaN   \n",
              "4        Medicine reconciliation    NaN                     NaN   \n",
              "...                          ...    ...                     ...   \n",
              "7568819    Discharge from the ED    NaN                     NaN   \n",
              "7568820             Enter the ED      F  BLACK/AFRICAN AMERICAN   \n",
              "7568821         Triage in the ED    NaN                     NaN   \n",
              "7568822    Discharge from the ED    NaN                     NaN   \n",
              "7568823    Discharge from the ED    NaN                     NaN   \n",
              "\n",
              "        arrival_transport disposition  seq_num  ...           chiefcomplaint  \\\n",
              "0                     NaN         NaN      NaN  ...                      NaN   \n",
              "1               AMBULANCE         NaN      NaN  ...                      NaN   \n",
              "2                     NaN         NaN      NaN  ...  CHANGE IN MENTAL STATUS   \n",
              "3                     NaN         NaN      NaN  ...                      NaN   \n",
              "4                     NaN         NaN      NaN  ...                      NaN   \n",
              "...                   ...         ...      ...  ...                      ...   \n",
              "7568819               NaN        HOME      2.0  ...                      NaN   \n",
              "7568820           WALK IN         NaN      NaN  ...                      NaN   \n",
              "7568821               NaN         NaN      NaN  ...                    Labor   \n",
              "7568822               NaN    TRANSFER      1.0  ...                      NaN   \n",
              "7568823               NaN    TRANSFER      2.0  ...                      NaN   \n",
              "\n",
              "         rhythm                      name      gsn           ndc  etc_rn  \\\n",
              "0           NaN                       NaN      NaN           NaN     NaN   \n",
              "1           NaN                       NaN      NaN           NaN     NaN   \n",
              "2           NaN                       NaN      NaN           NaN     NaN   \n",
              "3           NaN                 rifaximin  66295.0  5.486862e+10     1.0   \n",
              "4           NaN  multivitamin,tx-minerals   2510.0  1.026707e+10     1.0   \n",
              "...         ...                       ...      ...           ...     ...   \n",
              "7568819     NaN                       NaN      NaN           NaN     NaN   \n",
              "7568820     NaN                       NaN      NaN           NaN     NaN   \n",
              "7568821     NaN                       NaN      NaN           NaN     NaN   \n",
              "7568822     NaN                       NaN      NaN           NaN     NaN   \n",
              "7568823     NaN                       NaN      NaN           NaN     NaN   \n",
              "\n",
              "         etccode                                 etcdescription  med_rn gsn_rn  \n",
              "0            NaN                                            NaN     NaN    NaN  \n",
              "1            NaN                                            NaN     NaN    NaN  \n",
              "2            NaN                                            NaN     NaN    NaN  \n",
              "3         5844.0  Rifamycins and Related Derivative Antibiotics     NaN    NaN  \n",
              "4          704.0          Multivitamin and Mineral Combinations     NaN    NaN  \n",
              "...          ...                                            ...     ...    ...  \n",
              "7568819      NaN                                            NaN     NaN    NaN  \n",
              "7568820      NaN                                            NaN     NaN    NaN  \n",
              "7568821      NaN                                            NaN     NaN    NaN  \n",
              "7568822      NaN                                            NaN     NaN    NaN  \n",
              "7568823      NaN                                            NaN     NaN    NaN  \n",
              "\n",
              "[7568824 rows x 31 columns]"
            ],
            "text/html": [
              "\n",
              "  <div id=\"df-1fc12927-7d31-499c-80df-09ae67714c42\" class=\"colab-df-container\">\n",
              "    <div>\n",
              "<style scoped>\n",
              "    .dataframe tbody tr th:only-of-type {\n",
              "        vertical-align: middle;\n",
              "    }\n",
              "\n",
              "    .dataframe tbody tr th {\n",
              "        vertical-align: top;\n",
              "    }\n",
              "\n",
              "    .dataframe thead th {\n",
              "        text-align: right;\n",
              "    }\n",
              "</style>\n",
              "<table border=\"1\" class=\"dataframe\">\n",
              "  <thead>\n",
              "    <tr style=\"text-align: right;\">\n",
              "      <th></th>\n",
              "      <th>stay_id</th>\n",
              "      <th>subject_id</th>\n",
              "      <th>hadm_id</th>\n",
              "      <th>timestamps</th>\n",
              "      <th>activity</th>\n",
              "      <th>gender</th>\n",
              "      <th>race</th>\n",
              "      <th>arrival_transport</th>\n",
              "      <th>disposition</th>\n",
              "      <th>seq_num</th>\n",
              "      <th>...</th>\n",
              "      <th>chiefcomplaint</th>\n",
              "      <th>rhythm</th>\n",
              "      <th>name</th>\n",
              "      <th>gsn</th>\n",
              "      <th>ndc</th>\n",
              "      <th>etc_rn</th>\n",
              "      <th>etccode</th>\n",
              "      <th>etcdescription</th>\n",
              "      <th>med_rn</th>\n",
              "      <th>gsn_rn</th>\n",
              "    </tr>\n",
              "  </thead>\n",
              "  <tbody>\n",
              "    <tr>\n",
              "      <th>0</th>\n",
              "      <td>30000012</td>\n",
              "      <td>11714491</td>\n",
              "      <td>21562392.0</td>\n",
              "      <td>2126-02-14 20:22:00</td>\n",
              "      <td>Vital sign check</td>\n",
              "      <td>NaN</td>\n",
              "      <td>NaN</td>\n",
              "      <td>NaN</td>\n",
              "      <td>NaN</td>\n",
              "      <td>NaN</td>\n",
              "      <td>...</td>\n",
              "      <td>NaN</td>\n",
              "      <td>NaN</td>\n",
              "      <td>NaN</td>\n",
              "      <td>NaN</td>\n",
              "      <td>NaN</td>\n",
              "      <td>NaN</td>\n",
              "      <td>NaN</td>\n",
              "      <td>NaN</td>\n",
              "      <td>NaN</td>\n",
              "      <td>NaN</td>\n",
              "    </tr>\n",
              "    <tr>\n",
              "      <th>1</th>\n",
              "      <td>30000012</td>\n",
              "      <td>11714491</td>\n",
              "      <td>21562392.0</td>\n",
              "      <td>2126-02-14 20:22:00</td>\n",
              "      <td>Enter the ED</td>\n",
              "      <td>F</td>\n",
              "      <td>WHITE</td>\n",
              "      <td>AMBULANCE</td>\n",
              "      <td>NaN</td>\n",
              "      <td>NaN</td>\n",
              "      <td>...</td>\n",
              "      <td>NaN</td>\n",
              "      <td>NaN</td>\n",
              "      <td>NaN</td>\n",
              "      <td>NaN</td>\n",
              "      <td>NaN</td>\n",
              "      <td>NaN</td>\n",
              "      <td>NaN</td>\n",
              "      <td>NaN</td>\n",
              "      <td>NaN</td>\n",
              "      <td>NaN</td>\n",
              "    </tr>\n",
              "    <tr>\n",
              "      <th>2</th>\n",
              "      <td>30000012</td>\n",
              "      <td>11714491</td>\n",
              "      <td>21562392.0</td>\n",
              "      <td>2126-02-14 20:22:01</td>\n",
              "      <td>Triage in the ED</td>\n",
              "      <td>NaN</td>\n",
              "      <td>NaN</td>\n",
              "      <td>NaN</td>\n",
              "      <td>NaN</td>\n",
              "      <td>NaN</td>\n",
              "      <td>...</td>\n",
              "      <td>CHANGE IN MENTAL STATUS</td>\n",
              "      <td>NaN</td>\n",
              "      <td>NaN</td>\n",
              "      <td>NaN</td>\n",
              "      <td>NaN</td>\n",
              "      <td>NaN</td>\n",
              "      <td>NaN</td>\n",
              "      <td>NaN</td>\n",
              "      <td>NaN</td>\n",
              "      <td>NaN</td>\n",
              "    </tr>\n",
              "    <tr>\n",
              "      <th>3</th>\n",
              "      <td>30000012</td>\n",
              "      <td>11714491</td>\n",
              "      <td>21562392.0</td>\n",
              "      <td>2126-02-14 22:21:00</td>\n",
              "      <td>Medicine reconciliation</td>\n",
              "      <td>NaN</td>\n",
              "      <td>NaN</td>\n",
              "      <td>NaN</td>\n",
              "      <td>NaN</td>\n",
              "      <td>NaN</td>\n",
              "      <td>...</td>\n",
              "      <td>NaN</td>\n",
              "      <td>NaN</td>\n",
              "      <td>rifaximin</td>\n",
              "      <td>66295.0</td>\n",
              "      <td>5.486862e+10</td>\n",
              "      <td>1.0</td>\n",
              "      <td>5844.0</td>\n",
              "      <td>Rifamycins and Related Derivative Antibiotics</td>\n",
              "      <td>NaN</td>\n",
              "      <td>NaN</td>\n",
              "    </tr>\n",
              "    <tr>\n",
              "      <th>4</th>\n",
              "      <td>30000012</td>\n",
              "      <td>11714491</td>\n",
              "      <td>21562392.0</td>\n",
              "      <td>2126-02-14 22:21:00</td>\n",
              "      <td>Medicine reconciliation</td>\n",
              "      <td>NaN</td>\n",
              "      <td>NaN</td>\n",
              "      <td>NaN</td>\n",
              "      <td>NaN</td>\n",
              "      <td>NaN</td>\n",
              "      <td>...</td>\n",
              "      <td>NaN</td>\n",
              "      <td>NaN</td>\n",
              "      <td>multivitamin,tx-minerals</td>\n",
              "      <td>2510.0</td>\n",
              "      <td>1.026707e+10</td>\n",
              "      <td>1.0</td>\n",
              "      <td>704.0</td>\n",
              "      <td>Multivitamin and Mineral Combinations</td>\n",
              "      <td>NaN</td>\n",
              "      <td>NaN</td>\n",
              "    </tr>\n",
              "    <tr>\n",
              "      <th>...</th>\n",
              "      <td>...</td>\n",
              "      <td>...</td>\n",
              "      <td>...</td>\n",
              "      <td>...</td>\n",
              "      <td>...</td>\n",
              "      <td>...</td>\n",
              "      <td>...</td>\n",
              "      <td>...</td>\n",
              "      <td>...</td>\n",
              "      <td>...</td>\n",
              "      <td>...</td>\n",
              "      <td>...</td>\n",
              "      <td>...</td>\n",
              "      <td>...</td>\n",
              "      <td>...</td>\n",
              "      <td>...</td>\n",
              "      <td>...</td>\n",
              "      <td>...</td>\n",
              "      <td>...</td>\n",
              "      <td>...</td>\n",
              "      <td>...</td>\n",
              "    </tr>\n",
              "    <tr>\n",
              "      <th>7568819</th>\n",
              "      <td>39999964</td>\n",
              "      <td>16479007</td>\n",
              "      <td>29821286.0</td>\n",
              "      <td>2130-06-06 18:27:00</td>\n",
              "      <td>Discharge from the ED</td>\n",
              "      <td>NaN</td>\n",
              "      <td>NaN</td>\n",
              "      <td>NaN</td>\n",
              "      <td>HOME</td>\n",
              "      <td>2.0</td>\n",
              "      <td>...</td>\n",
              "      <td>NaN</td>\n",
              "      <td>NaN</td>\n",
              "      <td>NaN</td>\n",
              "      <td>NaN</td>\n",
              "      <td>NaN</td>\n",
              "      <td>NaN</td>\n",
              "      <td>NaN</td>\n",
              "      <td>NaN</td>\n",
              "      <td>NaN</td>\n",
              "      <td>NaN</td>\n",
              "    </tr>\n",
              "    <tr>\n",
              "      <th>7568820</th>\n",
              "      <td>39999965</td>\n",
              "      <td>14733226</td>\n",
              "      <td>27008423.0</td>\n",
              "      <td>2125-09-14 00:46:00</td>\n",
              "      <td>Enter the ED</td>\n",
              "      <td>F</td>\n",
              "      <td>BLACK/AFRICAN AMERICAN</td>\n",
              "      <td>WALK IN</td>\n",
              "      <td>NaN</td>\n",
              "      <td>NaN</td>\n",
              "      <td>...</td>\n",
              "      <td>NaN</td>\n",
              "      <td>NaN</td>\n",
              "      <td>NaN</td>\n",
              "      <td>NaN</td>\n",
              "      <td>NaN</td>\n",
              "      <td>NaN</td>\n",
              "      <td>NaN</td>\n",
              "      <td>NaN</td>\n",
              "      <td>NaN</td>\n",
              "      <td>NaN</td>\n",
              "    </tr>\n",
              "    <tr>\n",
              "      <th>7568821</th>\n",
              "      <td>39999965</td>\n",
              "      <td>14733226</td>\n",
              "      <td>27008423.0</td>\n",
              "      <td>2125-09-14 00:46:01</td>\n",
              "      <td>Triage in the ED</td>\n",
              "      <td>NaN</td>\n",
              "      <td>NaN</td>\n",
              "      <td>NaN</td>\n",
              "      <td>NaN</td>\n",
              "      <td>NaN</td>\n",
              "      <td>...</td>\n",
              "      <td>Labor</td>\n",
              "      <td>NaN</td>\n",
              "      <td>NaN</td>\n",
              "      <td>NaN</td>\n",
              "      <td>NaN</td>\n",
              "      <td>NaN</td>\n",
              "      <td>NaN</td>\n",
              "      <td>NaN</td>\n",
              "      <td>NaN</td>\n",
              "      <td>NaN</td>\n",
              "    </tr>\n",
              "    <tr>\n",
              "      <th>7568822</th>\n",
              "      <td>39999965</td>\n",
              "      <td>14733226</td>\n",
              "      <td>27008423.0</td>\n",
              "      <td>2125-09-14 21:22:50</td>\n",
              "      <td>Discharge from the ED</td>\n",
              "      <td>NaN</td>\n",
              "      <td>NaN</td>\n",
              "      <td>NaN</td>\n",
              "      <td>TRANSFER</td>\n",
              "      <td>1.0</td>\n",
              "      <td>...</td>\n",
              "      <td>NaN</td>\n",
              "      <td>NaN</td>\n",
              "      <td>NaN</td>\n",
              "      <td>NaN</td>\n",
              "      <td>NaN</td>\n",
              "      <td>NaN</td>\n",
              "      <td>NaN</td>\n",
              "      <td>NaN</td>\n",
              "      <td>NaN</td>\n",
              "      <td>NaN</td>\n",
              "    </tr>\n",
              "    <tr>\n",
              "      <th>7568823</th>\n",
              "      <td>39999965</td>\n",
              "      <td>14733226</td>\n",
              "      <td>27008423.0</td>\n",
              "      <td>2125-09-14 21:22:50</td>\n",
              "      <td>Discharge from the ED</td>\n",
              "      <td>NaN</td>\n",
              "      <td>NaN</td>\n",
              "      <td>NaN</td>\n",
              "      <td>TRANSFER</td>\n",
              "      <td>2.0</td>\n",
              "      <td>...</td>\n",
              "      <td>NaN</td>\n",
              "      <td>NaN</td>\n",
              "      <td>NaN</td>\n",
              "      <td>NaN</td>\n",
              "      <td>NaN</td>\n",
              "      <td>NaN</td>\n",
              "      <td>NaN</td>\n",
              "      <td>NaN</td>\n",
              "      <td>NaN</td>\n",
              "      <td>NaN</td>\n",
              "    </tr>\n",
              "  </tbody>\n",
              "</table>\n",
              "<p>7568824 rows × 31 columns</p>\n",
              "</div>\n",
              "    <div class=\"colab-df-buttons\">\n",
              "\n",
              "  <div class=\"colab-df-container\">\n",
              "    <button class=\"colab-df-convert\" onclick=\"convertToInteractive('df-1fc12927-7d31-499c-80df-09ae67714c42')\"\n",
              "            title=\"Convert this dataframe to an interactive table.\"\n",
              "            style=\"display:none;\">\n",
              "\n",
              "  <svg xmlns=\"http://www.w3.org/2000/svg\" height=\"24px\" viewBox=\"0 -960 960 960\">\n",
              "    <path d=\"M120-120v-720h720v720H120Zm60-500h600v-160H180v160Zm220 220h160v-160H400v160Zm0 220h160v-160H400v160ZM180-400h160v-160H180v160Zm440 0h160v-160H620v160ZM180-180h160v-160H180v160Zm440 0h160v-160H620v160Z\"/>\n",
              "  </svg>\n",
              "    </button>\n",
              "\n",
              "  <style>\n",
              "    .colab-df-container {\n",
              "      display:flex;\n",
              "      gap: 12px;\n",
              "    }\n",
              "\n",
              "    .colab-df-convert {\n",
              "      background-color: #E8F0FE;\n",
              "      border: none;\n",
              "      border-radius: 50%;\n",
              "      cursor: pointer;\n",
              "      display: none;\n",
              "      fill: #1967D2;\n",
              "      height: 32px;\n",
              "      padding: 0 0 0 0;\n",
              "      width: 32px;\n",
              "    }\n",
              "\n",
              "    .colab-df-convert:hover {\n",
              "      background-color: #E2EBFA;\n",
              "      box-shadow: 0px 1px 2px rgba(60, 64, 67, 0.3), 0px 1px 3px 1px rgba(60, 64, 67, 0.15);\n",
              "      fill: #174EA6;\n",
              "    }\n",
              "\n",
              "    .colab-df-buttons div {\n",
              "      margin-bottom: 4px;\n",
              "    }\n",
              "\n",
              "    [theme=dark] .colab-df-convert {\n",
              "      background-color: #3B4455;\n",
              "      fill: #D2E3FC;\n",
              "    }\n",
              "\n",
              "    [theme=dark] .colab-df-convert:hover {\n",
              "      background-color: #434B5C;\n",
              "      box-shadow: 0px 1px 3px 1px rgba(0, 0, 0, 0.15);\n",
              "      filter: drop-shadow(0px 1px 2px rgba(0, 0, 0, 0.3));\n",
              "      fill: #FFFFFF;\n",
              "    }\n",
              "  </style>\n",
              "\n",
              "    <script>\n",
              "      const buttonEl =\n",
              "        document.querySelector('#df-1fc12927-7d31-499c-80df-09ae67714c42 button.colab-df-convert');\n",
              "      buttonEl.style.display =\n",
              "        google.colab.kernel.accessAllowed ? 'block' : 'none';\n",
              "\n",
              "      async function convertToInteractive(key) {\n",
              "        const element = document.querySelector('#df-1fc12927-7d31-499c-80df-09ae67714c42');\n",
              "        const dataTable =\n",
              "          await google.colab.kernel.invokeFunction('convertToInteractive',\n",
              "                                                    [key], {});\n",
              "        if (!dataTable) return;\n",
              "\n",
              "        const docLinkHtml = 'Like what you see? Visit the ' +\n",
              "          '<a target=\"_blank\" href=https://colab.research.google.com/notebooks/data_table.ipynb>data table notebook</a>'\n",
              "          + ' to learn more about interactive tables.';\n",
              "        element.innerHTML = '';\n",
              "        dataTable['output_type'] = 'display_data';\n",
              "        await google.colab.output.renderOutput(dataTable, element);\n",
              "        const docLink = document.createElement('div');\n",
              "        docLink.innerHTML = docLinkHtml;\n",
              "        element.appendChild(docLink);\n",
              "      }\n",
              "    </script>\n",
              "  </div>\n",
              "\n",
              "\n",
              "<div id=\"df-eeed9056-a4f3-4e83-bf57-b589c26ea16f\">\n",
              "  <button class=\"colab-df-quickchart\" onclick=\"quickchart('df-eeed9056-a4f3-4e83-bf57-b589c26ea16f')\"\n",
              "            title=\"Suggest charts\"\n",
              "            style=\"display:none;\">\n",
              "\n",
              "<svg xmlns=\"http://www.w3.org/2000/svg\" height=\"24px\"viewBox=\"0 0 24 24\"\n",
              "     width=\"24px\">\n",
              "    <g>\n",
              "        <path d=\"M19 3H5c-1.1 0-2 .9-2 2v14c0 1.1.9 2 2 2h14c1.1 0 2-.9 2-2V5c0-1.1-.9-2-2-2zM9 17H7v-7h2v7zm4 0h-2V7h2v10zm4 0h-2v-4h2v4z\"/>\n",
              "    </g>\n",
              "</svg>\n",
              "  </button>\n",
              "\n",
              "<style>\n",
              "  .colab-df-quickchart {\n",
              "      --bg-color: #E8F0FE;\n",
              "      --fill-color: #1967D2;\n",
              "      --hover-bg-color: #E2EBFA;\n",
              "      --hover-fill-color: #174EA6;\n",
              "      --disabled-fill-color: #AAA;\n",
              "      --disabled-bg-color: #DDD;\n",
              "  }\n",
              "\n",
              "  [theme=dark] .colab-df-quickchart {\n",
              "      --bg-color: #3B4455;\n",
              "      --fill-color: #D2E3FC;\n",
              "      --hover-bg-color: #434B5C;\n",
              "      --hover-fill-color: #FFFFFF;\n",
              "      --disabled-bg-color: #3B4455;\n",
              "      --disabled-fill-color: #666;\n",
              "  }\n",
              "\n",
              "  .colab-df-quickchart {\n",
              "    background-color: var(--bg-color);\n",
              "    border: none;\n",
              "    border-radius: 50%;\n",
              "    cursor: pointer;\n",
              "    display: none;\n",
              "    fill: var(--fill-color);\n",
              "    height: 32px;\n",
              "    padding: 0;\n",
              "    width: 32px;\n",
              "  }\n",
              "\n",
              "  .colab-df-quickchart:hover {\n",
              "    background-color: var(--hover-bg-color);\n",
              "    box-shadow: 0 1px 2px rgba(60, 64, 67, 0.3), 0 1px 3px 1px rgba(60, 64, 67, 0.15);\n",
              "    fill: var(--button-hover-fill-color);\n",
              "  }\n",
              "\n",
              "  .colab-df-quickchart-complete:disabled,\n",
              "  .colab-df-quickchart-complete:disabled:hover {\n",
              "    background-color: var(--disabled-bg-color);\n",
              "    fill: var(--disabled-fill-color);\n",
              "    box-shadow: none;\n",
              "  }\n",
              "\n",
              "  .colab-df-spinner {\n",
              "    border: 2px solid var(--fill-color);\n",
              "    border-color: transparent;\n",
              "    border-bottom-color: var(--fill-color);\n",
              "    animation:\n",
              "      spin 1s steps(1) infinite;\n",
              "  }\n",
              "\n",
              "  @keyframes spin {\n",
              "    0% {\n",
              "      border-color: transparent;\n",
              "      border-bottom-color: var(--fill-color);\n",
              "      border-left-color: var(--fill-color);\n",
              "    }\n",
              "    20% {\n",
              "      border-color: transparent;\n",
              "      border-left-color: var(--fill-color);\n",
              "      border-top-color: var(--fill-color);\n",
              "    }\n",
              "    30% {\n",
              "      border-color: transparent;\n",
              "      border-left-color: var(--fill-color);\n",
              "      border-top-color: var(--fill-color);\n",
              "      border-right-color: var(--fill-color);\n",
              "    }\n",
              "    40% {\n",
              "      border-color: transparent;\n",
              "      border-right-color: var(--fill-color);\n",
              "      border-top-color: var(--fill-color);\n",
              "    }\n",
              "    60% {\n",
              "      border-color: transparent;\n",
              "      border-right-color: var(--fill-color);\n",
              "    }\n",
              "    80% {\n",
              "      border-color: transparent;\n",
              "      border-right-color: var(--fill-color);\n",
              "      border-bottom-color: var(--fill-color);\n",
              "    }\n",
              "    90% {\n",
              "      border-color: transparent;\n",
              "      border-bottom-color: var(--fill-color);\n",
              "    }\n",
              "  }\n",
              "</style>\n",
              "\n",
              "  <script>\n",
              "    async function quickchart(key) {\n",
              "      const quickchartButtonEl =\n",
              "        document.querySelector('#' + key + ' button');\n",
              "      quickchartButtonEl.disabled = true;  // To prevent multiple clicks.\n",
              "      quickchartButtonEl.classList.add('colab-df-spinner');\n",
              "      try {\n",
              "        const charts = await google.colab.kernel.invokeFunction(\n",
              "            'suggestCharts', [key], {});\n",
              "      } catch (error) {\n",
              "        console.error('Error during call to suggestCharts:', error);\n",
              "      }\n",
              "      quickchartButtonEl.classList.remove('colab-df-spinner');\n",
              "      quickchartButtonEl.classList.add('colab-df-quickchart-complete');\n",
              "    }\n",
              "    (() => {\n",
              "      let quickchartButtonEl =\n",
              "        document.querySelector('#df-eeed9056-a4f3-4e83-bf57-b589c26ea16f button');\n",
              "      quickchartButtonEl.style.display =\n",
              "        google.colab.kernel.accessAllowed ? 'block' : 'none';\n",
              "    })();\n",
              "  </script>\n",
              "</div>\n",
              "    </div>\n",
              "  </div>\n"
            ],
            "application/vnd.google.colaboratory.intrinsic+json": {
              "type": "dataframe"
            }
          },
          "metadata": {},
          "execution_count": 6
        }
      ],
      "source": [
        "pd.read_csv('/content/mimicel-mimic-iv-event-log-for-emergency-department-2.1.0/data/mimicel.csv')"
      ]
    },
    {
      "cell_type": "code",
      "execution_count": 7,
      "metadata": {
        "colab": {
          "base_uri": "https://localhost:8080/"
        },
        "id": "xvpzvZYBBho2",
        "outputId": "444a152e-1c4c-4373-ce3b-b55d67add6d2"
      },
      "outputs": [
        {
          "output_type": "stream",
          "name": "stdout",
          "text": [
            "Archive:  /content/drive/MyDrive/mimic-iv-2.2.zip\n",
            "  inflating: mimic-iv-2.2/CHANGELOG.txt  \n",
            "  inflating: mimic-iv-2.2/LICENSE.txt  \n",
            "  inflating: mimic-iv-2.2/SHA256SUMS.txt  \n",
            "  inflating: mimic-iv-2.2/hosp/admissions.csv.gz  \n",
            "  inflating: mimic-iv-2.2/hosp/d_hcpcs.csv.gz  \n",
            "  inflating: mimic-iv-2.2/hosp/d_icd_diagnoses.csv.gz  \n",
            "  inflating: mimic-iv-2.2/hosp/d_icd_procedures.csv.gz  \n",
            " extracting: mimic-iv-2.2/hosp/d_labitems.csv.gz  \n",
            "  inflating: mimic-iv-2.2/hosp/diagnoses_icd.csv.gz  \n",
            "  inflating: mimic-iv-2.2/hosp/drgcodes.csv.gz  \n",
            "  inflating: mimic-iv-2.2/hosp/emar.csv.gz  \n",
            "  inflating: mimic-iv-2.2/hosp/emar_detail.csv.gz  \n",
            "  inflating: mimic-iv-2.2/hosp/hcpcsevents.csv.gz  \n",
            "  inflating: mimic-iv-2.2/hosp/labevents.csv.gz  \n",
            "  inflating: mimic-iv-2.2/hosp/microbiologyevents.csv.gz  \n",
            "  inflating: mimic-iv-2.2/hosp/omr.csv.gz  \n",
            "  inflating: mimic-iv-2.2/hosp/patients.csv.gz  \n",
            "  inflating: mimic-iv-2.2/hosp/pharmacy.csv.gz  \n",
            "  inflating: mimic-iv-2.2/hosp/poe.csv.gz  \n",
            "  inflating: mimic-iv-2.2/hosp/poe_detail.csv.gz  \n",
            "  inflating: mimic-iv-2.2/hosp/prescriptions.csv.gz  \n",
            "  inflating: mimic-iv-2.2/hosp/procedures_icd.csv.gz  \n",
            "  inflating: mimic-iv-2.2/hosp/provider.csv.gz  \n",
            "  inflating: mimic-iv-2.2/hosp/services.csv.gz  \n",
            "  inflating: mimic-iv-2.2/hosp/transfers.csv.gz  \n",
            "  inflating: mimic-iv-2.2/icu/caregiver.csv.gz  \n",
            "  inflating: mimic-iv-2.2/icu/chartevents.csv.gz  \n",
            "  inflating: mimic-iv-2.2/icu/d_items.csv.gz  \n",
            "  inflating: mimic-iv-2.2/icu/datetimeevents.csv.gz  \n",
            "  inflating: mimic-iv-2.2/icu/icustays.csv.gz  \n",
            "  inflating: mimic-iv-2.2/icu/ingredientevents.csv.gz  \n",
            "  inflating: mimic-iv-2.2/icu/inputevents.csv.gz  \n",
            "  inflating: mimic-iv-2.2/icu/outputevents.csv.gz  \n",
            "  inflating: mimic-iv-2.2/icu/procedureevents.csv.gz  \n"
          ]
        }
      ],
      "source": [
        "!unzip /content/drive/MyDrive/mimic-iv-2.2.zip"
      ]
    },
    {
      "cell_type": "code",
      "execution_count": 8,
      "metadata": {
        "id": "Cnk6e58RC-x0"
      },
      "outputs": [],
      "source": [
        "import pandas as pd"
      ]
    },
    {
      "cell_type": "code",
      "execution_count": 9,
      "metadata": {
        "id": "V4yzobGCQkOW"
      },
      "outputs": [],
      "source": [
        "transfers = pd.read_csv('/content/mimic-iv-2.2/hosp/transfers.csv.gz')"
      ]
    },
    {
      "cell_type": "code",
      "execution_count": 10,
      "metadata": {
        "id": "fqm5Z2IQOroe"
      },
      "outputs": [],
      "source": [
        "admissions = pd.read_csv('/content/mimic-iv-2.2/hosp/admissions.csv.gz')"
      ]
    },
    {
      "cell_type": "code",
      "execution_count": 11,
      "metadata": {
        "colab": {
          "base_uri": "https://localhost:8080/",
          "height": 167
        },
        "id": "fELQ-s9UsLv5",
        "outputId": "262fc2b5-b038-4005-e8d2-6e73c1bb2e24"
      },
      "outputs": [
        {
          "output_type": "execute_result",
          "data": {
            "text/plain": [
              "   subject_id   hadm_id            admittime            dischtime deathtime  \\\n",
              "0    10000032  22595853  2180-05-06 22:23:00  2180-05-07 17:15:00       NaN   \n",
              "1    10000032  22841357  2180-06-26 18:27:00  2180-06-27 18:49:00       NaN   \n",
              "\n",
              "  admission_type admit_provider_id      admission_location discharge_location  \\\n",
              "0         URGENT            P874LG  TRANSFER FROM HOSPITAL               HOME   \n",
              "1       EW EMER.            P09Q6Y          EMERGENCY ROOM               HOME   \n",
              "\n",
              "  insurance language marital_status   race            edregtime  \\\n",
              "0     Other  ENGLISH        WIDOWED  WHITE  2180-05-06 19:17:00   \n",
              "1  Medicaid  ENGLISH        WIDOWED  WHITE  2180-06-26 15:54:00   \n",
              "\n",
              "             edouttime  hospital_expire_flag  \n",
              "0  2180-05-06 23:30:00                     0  \n",
              "1  2180-06-26 21:31:00                     0  "
            ],
            "text/html": [
              "\n",
              "  <div id=\"df-d22eab00-b30d-44d2-ab97-7373e343ab29\" class=\"colab-df-container\">\n",
              "    <div>\n",
              "<style scoped>\n",
              "    .dataframe tbody tr th:only-of-type {\n",
              "        vertical-align: middle;\n",
              "    }\n",
              "\n",
              "    .dataframe tbody tr th {\n",
              "        vertical-align: top;\n",
              "    }\n",
              "\n",
              "    .dataframe thead th {\n",
              "        text-align: right;\n",
              "    }\n",
              "</style>\n",
              "<table border=\"1\" class=\"dataframe\">\n",
              "  <thead>\n",
              "    <tr style=\"text-align: right;\">\n",
              "      <th></th>\n",
              "      <th>subject_id</th>\n",
              "      <th>hadm_id</th>\n",
              "      <th>admittime</th>\n",
              "      <th>dischtime</th>\n",
              "      <th>deathtime</th>\n",
              "      <th>admission_type</th>\n",
              "      <th>admit_provider_id</th>\n",
              "      <th>admission_location</th>\n",
              "      <th>discharge_location</th>\n",
              "      <th>insurance</th>\n",
              "      <th>language</th>\n",
              "      <th>marital_status</th>\n",
              "      <th>race</th>\n",
              "      <th>edregtime</th>\n",
              "      <th>edouttime</th>\n",
              "      <th>hospital_expire_flag</th>\n",
              "    </tr>\n",
              "  </thead>\n",
              "  <tbody>\n",
              "    <tr>\n",
              "      <th>0</th>\n",
              "      <td>10000032</td>\n",
              "      <td>22595853</td>\n",
              "      <td>2180-05-06 22:23:00</td>\n",
              "      <td>2180-05-07 17:15:00</td>\n",
              "      <td>NaN</td>\n",
              "      <td>URGENT</td>\n",
              "      <td>P874LG</td>\n",
              "      <td>TRANSFER FROM HOSPITAL</td>\n",
              "      <td>HOME</td>\n",
              "      <td>Other</td>\n",
              "      <td>ENGLISH</td>\n",
              "      <td>WIDOWED</td>\n",
              "      <td>WHITE</td>\n",
              "      <td>2180-05-06 19:17:00</td>\n",
              "      <td>2180-05-06 23:30:00</td>\n",
              "      <td>0</td>\n",
              "    </tr>\n",
              "    <tr>\n",
              "      <th>1</th>\n",
              "      <td>10000032</td>\n",
              "      <td>22841357</td>\n",
              "      <td>2180-06-26 18:27:00</td>\n",
              "      <td>2180-06-27 18:49:00</td>\n",
              "      <td>NaN</td>\n",
              "      <td>EW EMER.</td>\n",
              "      <td>P09Q6Y</td>\n",
              "      <td>EMERGENCY ROOM</td>\n",
              "      <td>HOME</td>\n",
              "      <td>Medicaid</td>\n",
              "      <td>ENGLISH</td>\n",
              "      <td>WIDOWED</td>\n",
              "      <td>WHITE</td>\n",
              "      <td>2180-06-26 15:54:00</td>\n",
              "      <td>2180-06-26 21:31:00</td>\n",
              "      <td>0</td>\n",
              "    </tr>\n",
              "  </tbody>\n",
              "</table>\n",
              "</div>\n",
              "    <div class=\"colab-df-buttons\">\n",
              "\n",
              "  <div class=\"colab-df-container\">\n",
              "    <button class=\"colab-df-convert\" onclick=\"convertToInteractive('df-d22eab00-b30d-44d2-ab97-7373e343ab29')\"\n",
              "            title=\"Convert this dataframe to an interactive table.\"\n",
              "            style=\"display:none;\">\n",
              "\n",
              "  <svg xmlns=\"http://www.w3.org/2000/svg\" height=\"24px\" viewBox=\"0 -960 960 960\">\n",
              "    <path d=\"M120-120v-720h720v720H120Zm60-500h600v-160H180v160Zm220 220h160v-160H400v160Zm0 220h160v-160H400v160ZM180-400h160v-160H180v160Zm440 0h160v-160H620v160ZM180-180h160v-160H180v160Zm440 0h160v-160H620v160Z\"/>\n",
              "  </svg>\n",
              "    </button>\n",
              "\n",
              "  <style>\n",
              "    .colab-df-container {\n",
              "      display:flex;\n",
              "      gap: 12px;\n",
              "    }\n",
              "\n",
              "    .colab-df-convert {\n",
              "      background-color: #E8F0FE;\n",
              "      border: none;\n",
              "      border-radius: 50%;\n",
              "      cursor: pointer;\n",
              "      display: none;\n",
              "      fill: #1967D2;\n",
              "      height: 32px;\n",
              "      padding: 0 0 0 0;\n",
              "      width: 32px;\n",
              "    }\n",
              "\n",
              "    .colab-df-convert:hover {\n",
              "      background-color: #E2EBFA;\n",
              "      box-shadow: 0px 1px 2px rgba(60, 64, 67, 0.3), 0px 1px 3px 1px rgba(60, 64, 67, 0.15);\n",
              "      fill: #174EA6;\n",
              "    }\n",
              "\n",
              "    .colab-df-buttons div {\n",
              "      margin-bottom: 4px;\n",
              "    }\n",
              "\n",
              "    [theme=dark] .colab-df-convert {\n",
              "      background-color: #3B4455;\n",
              "      fill: #D2E3FC;\n",
              "    }\n",
              "\n",
              "    [theme=dark] .colab-df-convert:hover {\n",
              "      background-color: #434B5C;\n",
              "      box-shadow: 0px 1px 3px 1px rgba(0, 0, 0, 0.15);\n",
              "      filter: drop-shadow(0px 1px 2px rgba(0, 0, 0, 0.3));\n",
              "      fill: #FFFFFF;\n",
              "    }\n",
              "  </style>\n",
              "\n",
              "    <script>\n",
              "      const buttonEl =\n",
              "        document.querySelector('#df-d22eab00-b30d-44d2-ab97-7373e343ab29 button.colab-df-convert');\n",
              "      buttonEl.style.display =\n",
              "        google.colab.kernel.accessAllowed ? 'block' : 'none';\n",
              "\n",
              "      async function convertToInteractive(key) {\n",
              "        const element = document.querySelector('#df-d22eab00-b30d-44d2-ab97-7373e343ab29');\n",
              "        const dataTable =\n",
              "          await google.colab.kernel.invokeFunction('convertToInteractive',\n",
              "                                                    [key], {});\n",
              "        if (!dataTable) return;\n",
              "\n",
              "        const docLinkHtml = 'Like what you see? Visit the ' +\n",
              "          '<a target=\"_blank\" href=https://colab.research.google.com/notebooks/data_table.ipynb>data table notebook</a>'\n",
              "          + ' to learn more about interactive tables.';\n",
              "        element.innerHTML = '';\n",
              "        dataTable['output_type'] = 'display_data';\n",
              "        await google.colab.output.renderOutput(dataTable, element);\n",
              "        const docLink = document.createElement('div');\n",
              "        docLink.innerHTML = docLinkHtml;\n",
              "        element.appendChild(docLink);\n",
              "      }\n",
              "    </script>\n",
              "  </div>\n",
              "\n",
              "\n",
              "<div id=\"df-5eebf49d-4d5b-43b9-898b-23bea8ed69c7\">\n",
              "  <button class=\"colab-df-quickchart\" onclick=\"quickchart('df-5eebf49d-4d5b-43b9-898b-23bea8ed69c7')\"\n",
              "            title=\"Suggest charts\"\n",
              "            style=\"display:none;\">\n",
              "\n",
              "<svg xmlns=\"http://www.w3.org/2000/svg\" height=\"24px\"viewBox=\"0 0 24 24\"\n",
              "     width=\"24px\">\n",
              "    <g>\n",
              "        <path d=\"M19 3H5c-1.1 0-2 .9-2 2v14c0 1.1.9 2 2 2h14c1.1 0 2-.9 2-2V5c0-1.1-.9-2-2-2zM9 17H7v-7h2v7zm4 0h-2V7h2v10zm4 0h-2v-4h2v4z\"/>\n",
              "    </g>\n",
              "</svg>\n",
              "  </button>\n",
              "\n",
              "<style>\n",
              "  .colab-df-quickchart {\n",
              "      --bg-color: #E8F0FE;\n",
              "      --fill-color: #1967D2;\n",
              "      --hover-bg-color: #E2EBFA;\n",
              "      --hover-fill-color: #174EA6;\n",
              "      --disabled-fill-color: #AAA;\n",
              "      --disabled-bg-color: #DDD;\n",
              "  }\n",
              "\n",
              "  [theme=dark] .colab-df-quickchart {\n",
              "      --bg-color: #3B4455;\n",
              "      --fill-color: #D2E3FC;\n",
              "      --hover-bg-color: #434B5C;\n",
              "      --hover-fill-color: #FFFFFF;\n",
              "      --disabled-bg-color: #3B4455;\n",
              "      --disabled-fill-color: #666;\n",
              "  }\n",
              "\n",
              "  .colab-df-quickchart {\n",
              "    background-color: var(--bg-color);\n",
              "    border: none;\n",
              "    border-radius: 50%;\n",
              "    cursor: pointer;\n",
              "    display: none;\n",
              "    fill: var(--fill-color);\n",
              "    height: 32px;\n",
              "    padding: 0;\n",
              "    width: 32px;\n",
              "  }\n",
              "\n",
              "  .colab-df-quickchart:hover {\n",
              "    background-color: var(--hover-bg-color);\n",
              "    box-shadow: 0 1px 2px rgba(60, 64, 67, 0.3), 0 1px 3px 1px rgba(60, 64, 67, 0.15);\n",
              "    fill: var(--button-hover-fill-color);\n",
              "  }\n",
              "\n",
              "  .colab-df-quickchart-complete:disabled,\n",
              "  .colab-df-quickchart-complete:disabled:hover {\n",
              "    background-color: var(--disabled-bg-color);\n",
              "    fill: var(--disabled-fill-color);\n",
              "    box-shadow: none;\n",
              "  }\n",
              "\n",
              "  .colab-df-spinner {\n",
              "    border: 2px solid var(--fill-color);\n",
              "    border-color: transparent;\n",
              "    border-bottom-color: var(--fill-color);\n",
              "    animation:\n",
              "      spin 1s steps(1) infinite;\n",
              "  }\n",
              "\n",
              "  @keyframes spin {\n",
              "    0% {\n",
              "      border-color: transparent;\n",
              "      border-bottom-color: var(--fill-color);\n",
              "      border-left-color: var(--fill-color);\n",
              "    }\n",
              "    20% {\n",
              "      border-color: transparent;\n",
              "      border-left-color: var(--fill-color);\n",
              "      border-top-color: var(--fill-color);\n",
              "    }\n",
              "    30% {\n",
              "      border-color: transparent;\n",
              "      border-left-color: var(--fill-color);\n",
              "      border-top-color: var(--fill-color);\n",
              "      border-right-color: var(--fill-color);\n",
              "    }\n",
              "    40% {\n",
              "      border-color: transparent;\n",
              "      border-right-color: var(--fill-color);\n",
              "      border-top-color: var(--fill-color);\n",
              "    }\n",
              "    60% {\n",
              "      border-color: transparent;\n",
              "      border-right-color: var(--fill-color);\n",
              "    }\n",
              "    80% {\n",
              "      border-color: transparent;\n",
              "      border-right-color: var(--fill-color);\n",
              "      border-bottom-color: var(--fill-color);\n",
              "    }\n",
              "    90% {\n",
              "      border-color: transparent;\n",
              "      border-bottom-color: var(--fill-color);\n",
              "    }\n",
              "  }\n",
              "</style>\n",
              "\n",
              "  <script>\n",
              "    async function quickchart(key) {\n",
              "      const quickchartButtonEl =\n",
              "        document.querySelector('#' + key + ' button');\n",
              "      quickchartButtonEl.disabled = true;  // To prevent multiple clicks.\n",
              "      quickchartButtonEl.classList.add('colab-df-spinner');\n",
              "      try {\n",
              "        const charts = await google.colab.kernel.invokeFunction(\n",
              "            'suggestCharts', [key], {});\n",
              "      } catch (error) {\n",
              "        console.error('Error during call to suggestCharts:', error);\n",
              "      }\n",
              "      quickchartButtonEl.classList.remove('colab-df-spinner');\n",
              "      quickchartButtonEl.classList.add('colab-df-quickchart-complete');\n",
              "    }\n",
              "    (() => {\n",
              "      let quickchartButtonEl =\n",
              "        document.querySelector('#df-5eebf49d-4d5b-43b9-898b-23bea8ed69c7 button');\n",
              "      quickchartButtonEl.style.display =\n",
              "        google.colab.kernel.accessAllowed ? 'block' : 'none';\n",
              "    })();\n",
              "  </script>\n",
              "</div>\n",
              "    </div>\n",
              "  </div>\n"
            ],
            "application/vnd.google.colaboratory.intrinsic+json": {
              "type": "dataframe",
              "variable_name": "admissions"
            }
          },
          "metadata": {},
          "execution_count": 11
        }
      ],
      "source": [
        "admissions.head(2)"
      ]
    },
    {
      "cell_type": "code",
      "execution_count": 12,
      "metadata": {
        "id": "d5JaFCL6rzO0"
      },
      "outputs": [],
      "source": [
        "diagnoses = pd.read_csv('/content/mimic-iv-2.2/hosp/diagnoses_icd.csv.gz', nrows=5000000)"
      ]
    },
    {
      "cell_type": "code",
      "execution_count": 13,
      "metadata": {
        "colab": {
          "base_uri": "https://localhost:8080/",
          "height": 112
        },
        "id": "rbIwPHOusOFg",
        "outputId": "32360f16-7922-4972-84e5-f3f0f44fc4b5"
      },
      "outputs": [
        {
          "output_type": "execute_result",
          "data": {
            "text/plain": [
              "   subject_id   hadm_id  seq_num icd_code  icd_version\n",
              "0    10000032  22595853        1     5723            9\n",
              "1    10000032  22595853        2    78959            9"
            ],
            "text/html": [
              "\n",
              "  <div id=\"df-cb005ca5-eccd-42d7-b489-d6a780e74324\" class=\"colab-df-container\">\n",
              "    <div>\n",
              "<style scoped>\n",
              "    .dataframe tbody tr th:only-of-type {\n",
              "        vertical-align: middle;\n",
              "    }\n",
              "\n",
              "    .dataframe tbody tr th {\n",
              "        vertical-align: top;\n",
              "    }\n",
              "\n",
              "    .dataframe thead th {\n",
              "        text-align: right;\n",
              "    }\n",
              "</style>\n",
              "<table border=\"1\" class=\"dataframe\">\n",
              "  <thead>\n",
              "    <tr style=\"text-align: right;\">\n",
              "      <th></th>\n",
              "      <th>subject_id</th>\n",
              "      <th>hadm_id</th>\n",
              "      <th>seq_num</th>\n",
              "      <th>icd_code</th>\n",
              "      <th>icd_version</th>\n",
              "    </tr>\n",
              "  </thead>\n",
              "  <tbody>\n",
              "    <tr>\n",
              "      <th>0</th>\n",
              "      <td>10000032</td>\n",
              "      <td>22595853</td>\n",
              "      <td>1</td>\n",
              "      <td>5723</td>\n",
              "      <td>9</td>\n",
              "    </tr>\n",
              "    <tr>\n",
              "      <th>1</th>\n",
              "      <td>10000032</td>\n",
              "      <td>22595853</td>\n",
              "      <td>2</td>\n",
              "      <td>78959</td>\n",
              "      <td>9</td>\n",
              "    </tr>\n",
              "  </tbody>\n",
              "</table>\n",
              "</div>\n",
              "    <div class=\"colab-df-buttons\">\n",
              "\n",
              "  <div class=\"colab-df-container\">\n",
              "    <button class=\"colab-df-convert\" onclick=\"convertToInteractive('df-cb005ca5-eccd-42d7-b489-d6a780e74324')\"\n",
              "            title=\"Convert this dataframe to an interactive table.\"\n",
              "            style=\"display:none;\">\n",
              "\n",
              "  <svg xmlns=\"http://www.w3.org/2000/svg\" height=\"24px\" viewBox=\"0 -960 960 960\">\n",
              "    <path d=\"M120-120v-720h720v720H120Zm60-500h600v-160H180v160Zm220 220h160v-160H400v160Zm0 220h160v-160H400v160ZM180-400h160v-160H180v160Zm440 0h160v-160H620v160ZM180-180h160v-160H180v160Zm440 0h160v-160H620v160Z\"/>\n",
              "  </svg>\n",
              "    </button>\n",
              "\n",
              "  <style>\n",
              "    .colab-df-container {\n",
              "      display:flex;\n",
              "      gap: 12px;\n",
              "    }\n",
              "\n",
              "    .colab-df-convert {\n",
              "      background-color: #E8F0FE;\n",
              "      border: none;\n",
              "      border-radius: 50%;\n",
              "      cursor: pointer;\n",
              "      display: none;\n",
              "      fill: #1967D2;\n",
              "      height: 32px;\n",
              "      padding: 0 0 0 0;\n",
              "      width: 32px;\n",
              "    }\n",
              "\n",
              "    .colab-df-convert:hover {\n",
              "      background-color: #E2EBFA;\n",
              "      box-shadow: 0px 1px 2px rgba(60, 64, 67, 0.3), 0px 1px 3px 1px rgba(60, 64, 67, 0.15);\n",
              "      fill: #174EA6;\n",
              "    }\n",
              "\n",
              "    .colab-df-buttons div {\n",
              "      margin-bottom: 4px;\n",
              "    }\n",
              "\n",
              "    [theme=dark] .colab-df-convert {\n",
              "      background-color: #3B4455;\n",
              "      fill: #D2E3FC;\n",
              "    }\n",
              "\n",
              "    [theme=dark] .colab-df-convert:hover {\n",
              "      background-color: #434B5C;\n",
              "      box-shadow: 0px 1px 3px 1px rgba(0, 0, 0, 0.15);\n",
              "      filter: drop-shadow(0px 1px 2px rgba(0, 0, 0, 0.3));\n",
              "      fill: #FFFFFF;\n",
              "    }\n",
              "  </style>\n",
              "\n",
              "    <script>\n",
              "      const buttonEl =\n",
              "        document.querySelector('#df-cb005ca5-eccd-42d7-b489-d6a780e74324 button.colab-df-convert');\n",
              "      buttonEl.style.display =\n",
              "        google.colab.kernel.accessAllowed ? 'block' : 'none';\n",
              "\n",
              "      async function convertToInteractive(key) {\n",
              "        const element = document.querySelector('#df-cb005ca5-eccd-42d7-b489-d6a780e74324');\n",
              "        const dataTable =\n",
              "          await google.colab.kernel.invokeFunction('convertToInteractive',\n",
              "                                                    [key], {});\n",
              "        if (!dataTable) return;\n",
              "\n",
              "        const docLinkHtml = 'Like what you see? Visit the ' +\n",
              "          '<a target=\"_blank\" href=https://colab.research.google.com/notebooks/data_table.ipynb>data table notebook</a>'\n",
              "          + ' to learn more about interactive tables.';\n",
              "        element.innerHTML = '';\n",
              "        dataTable['output_type'] = 'display_data';\n",
              "        await google.colab.output.renderOutput(dataTable, element);\n",
              "        const docLink = document.createElement('div');\n",
              "        docLink.innerHTML = docLinkHtml;\n",
              "        element.appendChild(docLink);\n",
              "      }\n",
              "    </script>\n",
              "  </div>\n",
              "\n",
              "\n",
              "<div id=\"df-d3b9731a-a712-4e4b-9bcb-819010941d45\">\n",
              "  <button class=\"colab-df-quickchart\" onclick=\"quickchart('df-d3b9731a-a712-4e4b-9bcb-819010941d45')\"\n",
              "            title=\"Suggest charts\"\n",
              "            style=\"display:none;\">\n",
              "\n",
              "<svg xmlns=\"http://www.w3.org/2000/svg\" height=\"24px\"viewBox=\"0 0 24 24\"\n",
              "     width=\"24px\">\n",
              "    <g>\n",
              "        <path d=\"M19 3H5c-1.1 0-2 .9-2 2v14c0 1.1.9 2 2 2h14c1.1 0 2-.9 2-2V5c0-1.1-.9-2-2-2zM9 17H7v-7h2v7zm4 0h-2V7h2v10zm4 0h-2v-4h2v4z\"/>\n",
              "    </g>\n",
              "</svg>\n",
              "  </button>\n",
              "\n",
              "<style>\n",
              "  .colab-df-quickchart {\n",
              "      --bg-color: #E8F0FE;\n",
              "      --fill-color: #1967D2;\n",
              "      --hover-bg-color: #E2EBFA;\n",
              "      --hover-fill-color: #174EA6;\n",
              "      --disabled-fill-color: #AAA;\n",
              "      --disabled-bg-color: #DDD;\n",
              "  }\n",
              "\n",
              "  [theme=dark] .colab-df-quickchart {\n",
              "      --bg-color: #3B4455;\n",
              "      --fill-color: #D2E3FC;\n",
              "      --hover-bg-color: #434B5C;\n",
              "      --hover-fill-color: #FFFFFF;\n",
              "      --disabled-bg-color: #3B4455;\n",
              "      --disabled-fill-color: #666;\n",
              "  }\n",
              "\n",
              "  .colab-df-quickchart {\n",
              "    background-color: var(--bg-color);\n",
              "    border: none;\n",
              "    border-radius: 50%;\n",
              "    cursor: pointer;\n",
              "    display: none;\n",
              "    fill: var(--fill-color);\n",
              "    height: 32px;\n",
              "    padding: 0;\n",
              "    width: 32px;\n",
              "  }\n",
              "\n",
              "  .colab-df-quickchart:hover {\n",
              "    background-color: var(--hover-bg-color);\n",
              "    box-shadow: 0 1px 2px rgba(60, 64, 67, 0.3), 0 1px 3px 1px rgba(60, 64, 67, 0.15);\n",
              "    fill: var(--button-hover-fill-color);\n",
              "  }\n",
              "\n",
              "  .colab-df-quickchart-complete:disabled,\n",
              "  .colab-df-quickchart-complete:disabled:hover {\n",
              "    background-color: var(--disabled-bg-color);\n",
              "    fill: var(--disabled-fill-color);\n",
              "    box-shadow: none;\n",
              "  }\n",
              "\n",
              "  .colab-df-spinner {\n",
              "    border: 2px solid var(--fill-color);\n",
              "    border-color: transparent;\n",
              "    border-bottom-color: var(--fill-color);\n",
              "    animation:\n",
              "      spin 1s steps(1) infinite;\n",
              "  }\n",
              "\n",
              "  @keyframes spin {\n",
              "    0% {\n",
              "      border-color: transparent;\n",
              "      border-bottom-color: var(--fill-color);\n",
              "      border-left-color: var(--fill-color);\n",
              "    }\n",
              "    20% {\n",
              "      border-color: transparent;\n",
              "      border-left-color: var(--fill-color);\n",
              "      border-top-color: var(--fill-color);\n",
              "    }\n",
              "    30% {\n",
              "      border-color: transparent;\n",
              "      border-left-color: var(--fill-color);\n",
              "      border-top-color: var(--fill-color);\n",
              "      border-right-color: var(--fill-color);\n",
              "    }\n",
              "    40% {\n",
              "      border-color: transparent;\n",
              "      border-right-color: var(--fill-color);\n",
              "      border-top-color: var(--fill-color);\n",
              "    }\n",
              "    60% {\n",
              "      border-color: transparent;\n",
              "      border-right-color: var(--fill-color);\n",
              "    }\n",
              "    80% {\n",
              "      border-color: transparent;\n",
              "      border-right-color: var(--fill-color);\n",
              "      border-bottom-color: var(--fill-color);\n",
              "    }\n",
              "    90% {\n",
              "      border-color: transparent;\n",
              "      border-bottom-color: var(--fill-color);\n",
              "    }\n",
              "  }\n",
              "</style>\n",
              "\n",
              "  <script>\n",
              "    async function quickchart(key) {\n",
              "      const quickchartButtonEl =\n",
              "        document.querySelector('#' + key + ' button');\n",
              "      quickchartButtonEl.disabled = true;  // To prevent multiple clicks.\n",
              "      quickchartButtonEl.classList.add('colab-df-spinner');\n",
              "      try {\n",
              "        const charts = await google.colab.kernel.invokeFunction(\n",
              "            'suggestCharts', [key], {});\n",
              "      } catch (error) {\n",
              "        console.error('Error during call to suggestCharts:', error);\n",
              "      }\n",
              "      quickchartButtonEl.classList.remove('colab-df-spinner');\n",
              "      quickchartButtonEl.classList.add('colab-df-quickchart-complete');\n",
              "    }\n",
              "    (() => {\n",
              "      let quickchartButtonEl =\n",
              "        document.querySelector('#df-d3b9731a-a712-4e4b-9bcb-819010941d45 button');\n",
              "      quickchartButtonEl.style.display =\n",
              "        google.colab.kernel.accessAllowed ? 'block' : 'none';\n",
              "    })();\n",
              "  </script>\n",
              "</div>\n",
              "    </div>\n",
              "  </div>\n"
            ],
            "application/vnd.google.colaboratory.intrinsic+json": {
              "type": "dataframe",
              "variable_name": "diagnoses"
            }
          },
          "metadata": {},
          "execution_count": 13
        }
      ],
      "source": [
        "diagnoses.head(2)"
      ]
    },
    {
      "cell_type": "code",
      "execution_count": 14,
      "metadata": {
        "id": "_IeC4M4OsqXe"
      },
      "outputs": [],
      "source": [
        "diagn_icd = pd.read_csv('/content/mimic-iv-2.2/hosp/d_icd_diagnoses.csv.gz')"
      ]
    },
    {
      "cell_type": "code",
      "execution_count": 15,
      "metadata": {
        "colab": {
          "base_uri": "https://localhost:8080/",
          "height": 112
        },
        "id": "KnjyFUCEsvdp",
        "outputId": "28f7055a-35a6-40d0-b72d-810b3dbe3128"
      },
      "outputs": [
        {
          "output_type": "execute_result",
          "data": {
            "text/plain": [
              "  icd_code  icd_version                             long_title\n",
              "0     0010            9         Cholera due to vibrio cholerae\n",
              "1     0011            9  Cholera due to vibrio cholerae el tor"
            ],
            "text/html": [
              "\n",
              "  <div id=\"df-b7137314-049d-4d67-b26f-fd5a81ddcc9d\" class=\"colab-df-container\">\n",
              "    <div>\n",
              "<style scoped>\n",
              "    .dataframe tbody tr th:only-of-type {\n",
              "        vertical-align: middle;\n",
              "    }\n",
              "\n",
              "    .dataframe tbody tr th {\n",
              "        vertical-align: top;\n",
              "    }\n",
              "\n",
              "    .dataframe thead th {\n",
              "        text-align: right;\n",
              "    }\n",
              "</style>\n",
              "<table border=\"1\" class=\"dataframe\">\n",
              "  <thead>\n",
              "    <tr style=\"text-align: right;\">\n",
              "      <th></th>\n",
              "      <th>icd_code</th>\n",
              "      <th>icd_version</th>\n",
              "      <th>long_title</th>\n",
              "    </tr>\n",
              "  </thead>\n",
              "  <tbody>\n",
              "    <tr>\n",
              "      <th>0</th>\n",
              "      <td>0010</td>\n",
              "      <td>9</td>\n",
              "      <td>Cholera due to vibrio cholerae</td>\n",
              "    </tr>\n",
              "    <tr>\n",
              "      <th>1</th>\n",
              "      <td>0011</td>\n",
              "      <td>9</td>\n",
              "      <td>Cholera due to vibrio cholerae el tor</td>\n",
              "    </tr>\n",
              "  </tbody>\n",
              "</table>\n",
              "</div>\n",
              "    <div class=\"colab-df-buttons\">\n",
              "\n",
              "  <div class=\"colab-df-container\">\n",
              "    <button class=\"colab-df-convert\" onclick=\"convertToInteractive('df-b7137314-049d-4d67-b26f-fd5a81ddcc9d')\"\n",
              "            title=\"Convert this dataframe to an interactive table.\"\n",
              "            style=\"display:none;\">\n",
              "\n",
              "  <svg xmlns=\"http://www.w3.org/2000/svg\" height=\"24px\" viewBox=\"0 -960 960 960\">\n",
              "    <path d=\"M120-120v-720h720v720H120Zm60-500h600v-160H180v160Zm220 220h160v-160H400v160Zm0 220h160v-160H400v160ZM180-400h160v-160H180v160Zm440 0h160v-160H620v160ZM180-180h160v-160H180v160Zm440 0h160v-160H620v160Z\"/>\n",
              "  </svg>\n",
              "    </button>\n",
              "\n",
              "  <style>\n",
              "    .colab-df-container {\n",
              "      display:flex;\n",
              "      gap: 12px;\n",
              "    }\n",
              "\n",
              "    .colab-df-convert {\n",
              "      background-color: #E8F0FE;\n",
              "      border: none;\n",
              "      border-radius: 50%;\n",
              "      cursor: pointer;\n",
              "      display: none;\n",
              "      fill: #1967D2;\n",
              "      height: 32px;\n",
              "      padding: 0 0 0 0;\n",
              "      width: 32px;\n",
              "    }\n",
              "\n",
              "    .colab-df-convert:hover {\n",
              "      background-color: #E2EBFA;\n",
              "      box-shadow: 0px 1px 2px rgba(60, 64, 67, 0.3), 0px 1px 3px 1px rgba(60, 64, 67, 0.15);\n",
              "      fill: #174EA6;\n",
              "    }\n",
              "\n",
              "    .colab-df-buttons div {\n",
              "      margin-bottom: 4px;\n",
              "    }\n",
              "\n",
              "    [theme=dark] .colab-df-convert {\n",
              "      background-color: #3B4455;\n",
              "      fill: #D2E3FC;\n",
              "    }\n",
              "\n",
              "    [theme=dark] .colab-df-convert:hover {\n",
              "      background-color: #434B5C;\n",
              "      box-shadow: 0px 1px 3px 1px rgba(0, 0, 0, 0.15);\n",
              "      filter: drop-shadow(0px 1px 2px rgba(0, 0, 0, 0.3));\n",
              "      fill: #FFFFFF;\n",
              "    }\n",
              "  </style>\n",
              "\n",
              "    <script>\n",
              "      const buttonEl =\n",
              "        document.querySelector('#df-b7137314-049d-4d67-b26f-fd5a81ddcc9d button.colab-df-convert');\n",
              "      buttonEl.style.display =\n",
              "        google.colab.kernel.accessAllowed ? 'block' : 'none';\n",
              "\n",
              "      async function convertToInteractive(key) {\n",
              "        const element = document.querySelector('#df-b7137314-049d-4d67-b26f-fd5a81ddcc9d');\n",
              "        const dataTable =\n",
              "          await google.colab.kernel.invokeFunction('convertToInteractive',\n",
              "                                                    [key], {});\n",
              "        if (!dataTable) return;\n",
              "\n",
              "        const docLinkHtml = 'Like what you see? Visit the ' +\n",
              "          '<a target=\"_blank\" href=https://colab.research.google.com/notebooks/data_table.ipynb>data table notebook</a>'\n",
              "          + ' to learn more about interactive tables.';\n",
              "        element.innerHTML = '';\n",
              "        dataTable['output_type'] = 'display_data';\n",
              "        await google.colab.output.renderOutput(dataTable, element);\n",
              "        const docLink = document.createElement('div');\n",
              "        docLink.innerHTML = docLinkHtml;\n",
              "        element.appendChild(docLink);\n",
              "      }\n",
              "    </script>\n",
              "  </div>\n",
              "\n",
              "\n",
              "<div id=\"df-9cfb3474-1f62-4c19-b47f-a89a7eb5e9b5\">\n",
              "  <button class=\"colab-df-quickchart\" onclick=\"quickchart('df-9cfb3474-1f62-4c19-b47f-a89a7eb5e9b5')\"\n",
              "            title=\"Suggest charts\"\n",
              "            style=\"display:none;\">\n",
              "\n",
              "<svg xmlns=\"http://www.w3.org/2000/svg\" height=\"24px\"viewBox=\"0 0 24 24\"\n",
              "     width=\"24px\">\n",
              "    <g>\n",
              "        <path d=\"M19 3H5c-1.1 0-2 .9-2 2v14c0 1.1.9 2 2 2h14c1.1 0 2-.9 2-2V5c0-1.1-.9-2-2-2zM9 17H7v-7h2v7zm4 0h-2V7h2v10zm4 0h-2v-4h2v4z\"/>\n",
              "    </g>\n",
              "</svg>\n",
              "  </button>\n",
              "\n",
              "<style>\n",
              "  .colab-df-quickchart {\n",
              "      --bg-color: #E8F0FE;\n",
              "      --fill-color: #1967D2;\n",
              "      --hover-bg-color: #E2EBFA;\n",
              "      --hover-fill-color: #174EA6;\n",
              "      --disabled-fill-color: #AAA;\n",
              "      --disabled-bg-color: #DDD;\n",
              "  }\n",
              "\n",
              "  [theme=dark] .colab-df-quickchart {\n",
              "      --bg-color: #3B4455;\n",
              "      --fill-color: #D2E3FC;\n",
              "      --hover-bg-color: #434B5C;\n",
              "      --hover-fill-color: #FFFFFF;\n",
              "      --disabled-bg-color: #3B4455;\n",
              "      --disabled-fill-color: #666;\n",
              "  }\n",
              "\n",
              "  .colab-df-quickchart {\n",
              "    background-color: var(--bg-color);\n",
              "    border: none;\n",
              "    border-radius: 50%;\n",
              "    cursor: pointer;\n",
              "    display: none;\n",
              "    fill: var(--fill-color);\n",
              "    height: 32px;\n",
              "    padding: 0;\n",
              "    width: 32px;\n",
              "  }\n",
              "\n",
              "  .colab-df-quickchart:hover {\n",
              "    background-color: var(--hover-bg-color);\n",
              "    box-shadow: 0 1px 2px rgba(60, 64, 67, 0.3), 0 1px 3px 1px rgba(60, 64, 67, 0.15);\n",
              "    fill: var(--button-hover-fill-color);\n",
              "  }\n",
              "\n",
              "  .colab-df-quickchart-complete:disabled,\n",
              "  .colab-df-quickchart-complete:disabled:hover {\n",
              "    background-color: var(--disabled-bg-color);\n",
              "    fill: var(--disabled-fill-color);\n",
              "    box-shadow: none;\n",
              "  }\n",
              "\n",
              "  .colab-df-spinner {\n",
              "    border: 2px solid var(--fill-color);\n",
              "    border-color: transparent;\n",
              "    border-bottom-color: var(--fill-color);\n",
              "    animation:\n",
              "      spin 1s steps(1) infinite;\n",
              "  }\n",
              "\n",
              "  @keyframes spin {\n",
              "    0% {\n",
              "      border-color: transparent;\n",
              "      border-bottom-color: var(--fill-color);\n",
              "      border-left-color: var(--fill-color);\n",
              "    }\n",
              "    20% {\n",
              "      border-color: transparent;\n",
              "      border-left-color: var(--fill-color);\n",
              "      border-top-color: var(--fill-color);\n",
              "    }\n",
              "    30% {\n",
              "      border-color: transparent;\n",
              "      border-left-color: var(--fill-color);\n",
              "      border-top-color: var(--fill-color);\n",
              "      border-right-color: var(--fill-color);\n",
              "    }\n",
              "    40% {\n",
              "      border-color: transparent;\n",
              "      border-right-color: var(--fill-color);\n",
              "      border-top-color: var(--fill-color);\n",
              "    }\n",
              "    60% {\n",
              "      border-color: transparent;\n",
              "      border-right-color: var(--fill-color);\n",
              "    }\n",
              "    80% {\n",
              "      border-color: transparent;\n",
              "      border-right-color: var(--fill-color);\n",
              "      border-bottom-color: var(--fill-color);\n",
              "    }\n",
              "    90% {\n",
              "      border-color: transparent;\n",
              "      border-bottom-color: var(--fill-color);\n",
              "    }\n",
              "  }\n",
              "</style>\n",
              "\n",
              "  <script>\n",
              "    async function quickchart(key) {\n",
              "      const quickchartButtonEl =\n",
              "        document.querySelector('#' + key + ' button');\n",
              "      quickchartButtonEl.disabled = true;  // To prevent multiple clicks.\n",
              "      quickchartButtonEl.classList.add('colab-df-spinner');\n",
              "      try {\n",
              "        const charts = await google.colab.kernel.invokeFunction(\n",
              "            'suggestCharts', [key], {});\n",
              "      } catch (error) {\n",
              "        console.error('Error during call to suggestCharts:', error);\n",
              "      }\n",
              "      quickchartButtonEl.classList.remove('colab-df-spinner');\n",
              "      quickchartButtonEl.classList.add('colab-df-quickchart-complete');\n",
              "    }\n",
              "    (() => {\n",
              "      let quickchartButtonEl =\n",
              "        document.querySelector('#df-9cfb3474-1f62-4c19-b47f-a89a7eb5e9b5 button');\n",
              "      quickchartButtonEl.style.display =\n",
              "        google.colab.kernel.accessAllowed ? 'block' : 'none';\n",
              "    })();\n",
              "  </script>\n",
              "</div>\n",
              "    </div>\n",
              "  </div>\n"
            ],
            "application/vnd.google.colaboratory.intrinsic+json": {
              "type": "dataframe",
              "variable_name": "diagn_icd"
            }
          },
          "metadata": {},
          "execution_count": 15
        }
      ],
      "source": [
        "diagn_icd.head(2)"
      ]
    },
    {
      "cell_type": "code",
      "execution_count": 16,
      "metadata": {
        "id": "wupVzIVprkg3"
      },
      "outputs": [],
      "source": [
        "t1 = admissions.merge(diagnoses, on=['subject_id', 'hadm_id'], how='inner').merge(diagn_icd, on='icd_code', how='inner')"
      ]
    },
    {
      "cell_type": "code",
      "execution_count": 17,
      "metadata": {
        "colab": {
          "base_uri": "https://localhost:8080/"
        },
        "id": "9TSfCIw3teoX",
        "outputId": "868f7911-0573-4bb9-a2cf-1033feee83a9"
      },
      "outputs": [
        {
          "output_type": "execute_result",
          "data": {
            "text/plain": [
              "4860280"
            ]
          },
          "metadata": {},
          "execution_count": 17
        }
      ],
      "source": [
        "len(t1)"
      ]
    },
    {
      "cell_type": "code",
      "execution_count": 18,
      "metadata": {
        "id": "HUhkmAmCtjOg"
      },
      "outputs": [],
      "source": [
        "t1['l_title'] = t1.long_title.str.lower()\n",
        "t1['target'] = t1.l_title.str.contains('|'.join(['seps', 'septi'])).apply(int)"
      ]
    },
    {
      "cell_type": "code",
      "execution_count": 19,
      "metadata": {
        "colab": {
          "base_uri": "https://localhost:8080/"
        },
        "id": "s8rJMLLsuVgp",
        "outputId": "a76ecfd6-c3af-48e6-cdc5-59ba92461081"
      },
      "outputs": [
        {
          "output_type": "execute_result",
          "data": {
            "text/plain": [
              "32747"
            ]
          },
          "metadata": {},
          "execution_count": 19
        }
      ],
      "source": [
        "t1.target.sum()"
      ]
    },
    {
      "cell_type": "code",
      "execution_count": 20,
      "metadata": {
        "id": "9RWQzf2SvDCk"
      },
      "outputs": [],
      "source": [
        "\n",
        "t2 = pd.DataFrame(t1[['subject_id',\n",
        "    'admittime',\n",
        "    'dischtime',\n",
        "    'admission_type',\n",
        "    'admission_location',\n",
        "    'target']].groupby(['subject_id', 'admittime'])['target'].max())"
      ]
    },
    {
      "cell_type": "code",
      "execution_count": 21,
      "metadata": {
        "colab": {
          "base_uri": "https://localhost:8080/",
          "height": 455
        },
        "id": "yIFBlQ9BvWsm",
        "outputId": "0de604e9-2a75-4159-c7bb-cc62be5160a7"
      },
      "outputs": [
        {
          "output_type": "execute_result",
          "data": {
            "text/plain": [
              "                                target\n",
              "subject_id admittime                  \n",
              "10000826   2146-12-18 17:39:00       1\n",
              "10001401   2131-10-01 01:33:00       1\n",
              "           2133-07-09 22:22:00       1\n",
              "10002013   2162-07-08 00:08:00       1\n",
              "           2166-04-06 18:47:00       1\n",
              "...                                ...\n",
              "19990427   2182-01-04 00:00:00       1\n",
              "19992202   2153-02-26 00:48:00       1\n",
              "19997367   2126-04-20 07:15:00       1\n",
              "           2127-04-02 01:03:00       1\n",
              "19997886   2186-11-12 07:10:00       1\n",
              "\n",
              "[16761 rows x 1 columns]"
            ],
            "text/html": [
              "\n",
              "  <div id=\"df-45394b12-1627-4382-a879-5ac85adb1acb\" class=\"colab-df-container\">\n",
              "    <div>\n",
              "<style scoped>\n",
              "    .dataframe tbody tr th:only-of-type {\n",
              "        vertical-align: middle;\n",
              "    }\n",
              "\n",
              "    .dataframe tbody tr th {\n",
              "        vertical-align: top;\n",
              "    }\n",
              "\n",
              "    .dataframe thead th {\n",
              "        text-align: right;\n",
              "    }\n",
              "</style>\n",
              "<table border=\"1\" class=\"dataframe\">\n",
              "  <thead>\n",
              "    <tr style=\"text-align: right;\">\n",
              "      <th></th>\n",
              "      <th></th>\n",
              "      <th>target</th>\n",
              "    </tr>\n",
              "    <tr>\n",
              "      <th>subject_id</th>\n",
              "      <th>admittime</th>\n",
              "      <th></th>\n",
              "    </tr>\n",
              "  </thead>\n",
              "  <tbody>\n",
              "    <tr>\n",
              "      <th>10000826</th>\n",
              "      <th>2146-12-18 17:39:00</th>\n",
              "      <td>1</td>\n",
              "    </tr>\n",
              "    <tr>\n",
              "      <th rowspan=\"2\" valign=\"top\">10001401</th>\n",
              "      <th>2131-10-01 01:33:00</th>\n",
              "      <td>1</td>\n",
              "    </tr>\n",
              "    <tr>\n",
              "      <th>2133-07-09 22:22:00</th>\n",
              "      <td>1</td>\n",
              "    </tr>\n",
              "    <tr>\n",
              "      <th rowspan=\"2\" valign=\"top\">10002013</th>\n",
              "      <th>2162-07-08 00:08:00</th>\n",
              "      <td>1</td>\n",
              "    </tr>\n",
              "    <tr>\n",
              "      <th>2166-04-06 18:47:00</th>\n",
              "      <td>1</td>\n",
              "    </tr>\n",
              "    <tr>\n",
              "      <th>...</th>\n",
              "      <th>...</th>\n",
              "      <td>...</td>\n",
              "    </tr>\n",
              "    <tr>\n",
              "      <th>19990427</th>\n",
              "      <th>2182-01-04 00:00:00</th>\n",
              "      <td>1</td>\n",
              "    </tr>\n",
              "    <tr>\n",
              "      <th>19992202</th>\n",
              "      <th>2153-02-26 00:48:00</th>\n",
              "      <td>1</td>\n",
              "    </tr>\n",
              "    <tr>\n",
              "      <th rowspan=\"2\" valign=\"top\">19997367</th>\n",
              "      <th>2126-04-20 07:15:00</th>\n",
              "      <td>1</td>\n",
              "    </tr>\n",
              "    <tr>\n",
              "      <th>2127-04-02 01:03:00</th>\n",
              "      <td>1</td>\n",
              "    </tr>\n",
              "    <tr>\n",
              "      <th>19997886</th>\n",
              "      <th>2186-11-12 07:10:00</th>\n",
              "      <td>1</td>\n",
              "    </tr>\n",
              "  </tbody>\n",
              "</table>\n",
              "<p>16761 rows × 1 columns</p>\n",
              "</div>\n",
              "    <div class=\"colab-df-buttons\">\n",
              "\n",
              "  <div class=\"colab-df-container\">\n",
              "    <button class=\"colab-df-convert\" onclick=\"convertToInteractive('df-45394b12-1627-4382-a879-5ac85adb1acb')\"\n",
              "            title=\"Convert this dataframe to an interactive table.\"\n",
              "            style=\"display:none;\">\n",
              "\n",
              "  <svg xmlns=\"http://www.w3.org/2000/svg\" height=\"24px\" viewBox=\"0 -960 960 960\">\n",
              "    <path d=\"M120-120v-720h720v720H120Zm60-500h600v-160H180v160Zm220 220h160v-160H400v160Zm0 220h160v-160H400v160ZM180-400h160v-160H180v160Zm440 0h160v-160H620v160ZM180-180h160v-160H180v160Zm440 0h160v-160H620v160Z\"/>\n",
              "  </svg>\n",
              "    </button>\n",
              "\n",
              "  <style>\n",
              "    .colab-df-container {\n",
              "      display:flex;\n",
              "      gap: 12px;\n",
              "    }\n",
              "\n",
              "    .colab-df-convert {\n",
              "      background-color: #E8F0FE;\n",
              "      border: none;\n",
              "      border-radius: 50%;\n",
              "      cursor: pointer;\n",
              "      display: none;\n",
              "      fill: #1967D2;\n",
              "      height: 32px;\n",
              "      padding: 0 0 0 0;\n",
              "      width: 32px;\n",
              "    }\n",
              "\n",
              "    .colab-df-convert:hover {\n",
              "      background-color: #E2EBFA;\n",
              "      box-shadow: 0px 1px 2px rgba(60, 64, 67, 0.3), 0px 1px 3px 1px rgba(60, 64, 67, 0.15);\n",
              "      fill: #174EA6;\n",
              "    }\n",
              "\n",
              "    .colab-df-buttons div {\n",
              "      margin-bottom: 4px;\n",
              "    }\n",
              "\n",
              "    [theme=dark] .colab-df-convert {\n",
              "      background-color: #3B4455;\n",
              "      fill: #D2E3FC;\n",
              "    }\n",
              "\n",
              "    [theme=dark] .colab-df-convert:hover {\n",
              "      background-color: #434B5C;\n",
              "      box-shadow: 0px 1px 3px 1px rgba(0, 0, 0, 0.15);\n",
              "      filter: drop-shadow(0px 1px 2px rgba(0, 0, 0, 0.3));\n",
              "      fill: #FFFFFF;\n",
              "    }\n",
              "  </style>\n",
              "\n",
              "    <script>\n",
              "      const buttonEl =\n",
              "        document.querySelector('#df-45394b12-1627-4382-a879-5ac85adb1acb button.colab-df-convert');\n",
              "      buttonEl.style.display =\n",
              "        google.colab.kernel.accessAllowed ? 'block' : 'none';\n",
              "\n",
              "      async function convertToInteractive(key) {\n",
              "        const element = document.querySelector('#df-45394b12-1627-4382-a879-5ac85adb1acb');\n",
              "        const dataTable =\n",
              "          await google.colab.kernel.invokeFunction('convertToInteractive',\n",
              "                                                    [key], {});\n",
              "        if (!dataTable) return;\n",
              "\n",
              "        const docLinkHtml = 'Like what you see? Visit the ' +\n",
              "          '<a target=\"_blank\" href=https://colab.research.google.com/notebooks/data_table.ipynb>data table notebook</a>'\n",
              "          + ' to learn more about interactive tables.';\n",
              "        element.innerHTML = '';\n",
              "        dataTable['output_type'] = 'display_data';\n",
              "        await google.colab.output.renderOutput(dataTable, element);\n",
              "        const docLink = document.createElement('div');\n",
              "        docLink.innerHTML = docLinkHtml;\n",
              "        element.appendChild(docLink);\n",
              "      }\n",
              "    </script>\n",
              "  </div>\n",
              "\n",
              "\n",
              "<div id=\"df-f3122498-a1b2-4978-a31f-92128653d8d4\">\n",
              "  <button class=\"colab-df-quickchart\" onclick=\"quickchart('df-f3122498-a1b2-4978-a31f-92128653d8d4')\"\n",
              "            title=\"Suggest charts\"\n",
              "            style=\"display:none;\">\n",
              "\n",
              "<svg xmlns=\"http://www.w3.org/2000/svg\" height=\"24px\"viewBox=\"0 0 24 24\"\n",
              "     width=\"24px\">\n",
              "    <g>\n",
              "        <path d=\"M19 3H5c-1.1 0-2 .9-2 2v14c0 1.1.9 2 2 2h14c1.1 0 2-.9 2-2V5c0-1.1-.9-2-2-2zM9 17H7v-7h2v7zm4 0h-2V7h2v10zm4 0h-2v-4h2v4z\"/>\n",
              "    </g>\n",
              "</svg>\n",
              "  </button>\n",
              "\n",
              "<style>\n",
              "  .colab-df-quickchart {\n",
              "      --bg-color: #E8F0FE;\n",
              "      --fill-color: #1967D2;\n",
              "      --hover-bg-color: #E2EBFA;\n",
              "      --hover-fill-color: #174EA6;\n",
              "      --disabled-fill-color: #AAA;\n",
              "      --disabled-bg-color: #DDD;\n",
              "  }\n",
              "\n",
              "  [theme=dark] .colab-df-quickchart {\n",
              "      --bg-color: #3B4455;\n",
              "      --fill-color: #D2E3FC;\n",
              "      --hover-bg-color: #434B5C;\n",
              "      --hover-fill-color: #FFFFFF;\n",
              "      --disabled-bg-color: #3B4455;\n",
              "      --disabled-fill-color: #666;\n",
              "  }\n",
              "\n",
              "  .colab-df-quickchart {\n",
              "    background-color: var(--bg-color);\n",
              "    border: none;\n",
              "    border-radius: 50%;\n",
              "    cursor: pointer;\n",
              "    display: none;\n",
              "    fill: var(--fill-color);\n",
              "    height: 32px;\n",
              "    padding: 0;\n",
              "    width: 32px;\n",
              "  }\n",
              "\n",
              "  .colab-df-quickchart:hover {\n",
              "    background-color: var(--hover-bg-color);\n",
              "    box-shadow: 0 1px 2px rgba(60, 64, 67, 0.3), 0 1px 3px 1px rgba(60, 64, 67, 0.15);\n",
              "    fill: var(--button-hover-fill-color);\n",
              "  }\n",
              "\n",
              "  .colab-df-quickchart-complete:disabled,\n",
              "  .colab-df-quickchart-complete:disabled:hover {\n",
              "    background-color: var(--disabled-bg-color);\n",
              "    fill: var(--disabled-fill-color);\n",
              "    box-shadow: none;\n",
              "  }\n",
              "\n",
              "  .colab-df-spinner {\n",
              "    border: 2px solid var(--fill-color);\n",
              "    border-color: transparent;\n",
              "    border-bottom-color: var(--fill-color);\n",
              "    animation:\n",
              "      spin 1s steps(1) infinite;\n",
              "  }\n",
              "\n",
              "  @keyframes spin {\n",
              "    0% {\n",
              "      border-color: transparent;\n",
              "      border-bottom-color: var(--fill-color);\n",
              "      border-left-color: var(--fill-color);\n",
              "    }\n",
              "    20% {\n",
              "      border-color: transparent;\n",
              "      border-left-color: var(--fill-color);\n",
              "      border-top-color: var(--fill-color);\n",
              "    }\n",
              "    30% {\n",
              "      border-color: transparent;\n",
              "      border-left-color: var(--fill-color);\n",
              "      border-top-color: var(--fill-color);\n",
              "      border-right-color: var(--fill-color);\n",
              "    }\n",
              "    40% {\n",
              "      border-color: transparent;\n",
              "      border-right-color: var(--fill-color);\n",
              "      border-top-color: var(--fill-color);\n",
              "    }\n",
              "    60% {\n",
              "      border-color: transparent;\n",
              "      border-right-color: var(--fill-color);\n",
              "    }\n",
              "    80% {\n",
              "      border-color: transparent;\n",
              "      border-right-color: var(--fill-color);\n",
              "      border-bottom-color: var(--fill-color);\n",
              "    }\n",
              "    90% {\n",
              "      border-color: transparent;\n",
              "      border-bottom-color: var(--fill-color);\n",
              "    }\n",
              "  }\n",
              "</style>\n",
              "\n",
              "  <script>\n",
              "    async function quickchart(key) {\n",
              "      const quickchartButtonEl =\n",
              "        document.querySelector('#' + key + ' button');\n",
              "      quickchartButtonEl.disabled = true;  // To prevent multiple clicks.\n",
              "      quickchartButtonEl.classList.add('colab-df-spinner');\n",
              "      try {\n",
              "        const charts = await google.colab.kernel.invokeFunction(\n",
              "            'suggestCharts', [key], {});\n",
              "      } catch (error) {\n",
              "        console.error('Error during call to suggestCharts:', error);\n",
              "      }\n",
              "      quickchartButtonEl.classList.remove('colab-df-spinner');\n",
              "      quickchartButtonEl.classList.add('colab-df-quickchart-complete');\n",
              "    }\n",
              "    (() => {\n",
              "      let quickchartButtonEl =\n",
              "        document.querySelector('#df-f3122498-a1b2-4978-a31f-92128653d8d4 button');\n",
              "      quickchartButtonEl.style.display =\n",
              "        google.colab.kernel.accessAllowed ? 'block' : 'none';\n",
              "    })();\n",
              "  </script>\n",
              "</div>\n",
              "    </div>\n",
              "  </div>\n"
            ],
            "application/vnd.google.colaboratory.intrinsic+json": {
              "type": "dataframe",
              "summary": "{\n  \"name\": \"t2\",\n  \"rows\": 16761,\n  \"fields\": [\n    {\n      \"column\": \"target\",\n      \"properties\": {\n        \"dtype\": \"number\",\n        \"std\": 0,\n        \"min\": 1,\n        \"max\": 1,\n        \"num_unique_values\": 1,\n        \"samples\": [\n          1\n        ],\n        \"semantic_type\": \"\",\n        \"description\": \"\"\n      }\n    }\n  ]\n}"
            }
          },
          "metadata": {},
          "execution_count": 21
        }
      ],
      "source": [
        "t2.loc[t2.target == 1]"
      ]
    },
    {
      "cell_type": "code",
      "execution_count": 22,
      "metadata": {
        "colab": {
          "base_uri": "https://localhost:8080/",
          "height": 415
        },
        "id": "27pIZd5sH5dG",
        "outputId": "aeabee1f-67b5-44c5-c3bc-0713ee7f2ae5"
      },
      "outputs": [
        {
          "output_type": "execute_result",
          "data": {
            "text/plain": [
              "         subject_id   hadm_id            admittime            dischtime  \\\n",
              "1782683    10001401  27012892  2133-07-09 22:22:00  2133-07-13 18:43:00   \n",
              "1783000    10001401  27012892  2133-07-09 22:22:00  2133-07-13 18:43:00   \n",
              "1785526    10001401  27012892  2133-07-09 22:22:00  2133-07-13 18:43:00   \n",
              "1795283    10001401  27060146  2131-10-01 01:33:00  2131-10-05 15:45:00   \n",
              "\n",
              "        deathtime     admission_type admit_provider_id  admission_location  \\\n",
              "1782683       NaN  OBSERVATION ADMIT            P08ZLF  PHYSICIAN REFERRAL   \n",
              "1783000       NaN  OBSERVATION ADMIT            P08ZLF  PHYSICIAN REFERRAL   \n",
              "1785526       NaN  OBSERVATION ADMIT            P08ZLF  PHYSICIAN REFERRAL   \n",
              "1795283       NaN  OBSERVATION ADMIT            P08YAB      EMERGENCY ROOM   \n",
              "\n",
              "               discharge_location insurance  ...            edregtime  \\\n",
              "1782683                     REHAB  Medicare  ...                  NaN   \n",
              "1783000                     REHAB  Medicare  ...                  NaN   \n",
              "1785526                     REHAB  Medicare  ...                  NaN   \n",
              "1795283  SKILLED NURSING FACILITY  Medicare  ...  2131-09-30 16:47:00   \n",
              "\n",
              "                   edouttime hospital_expire_flag seq_num icd_code  \\\n",
              "1782683                  NaN                    0       2    A4181   \n",
              "1783000                  NaN                    0       3    R6520   \n",
              "1785526                  NaN                    0       7  T8144XA   \n",
              "1795283  2131-10-01 02:24:00                    0       2     A419   \n",
              "\n",
              "         icd_version_x  icd_version_y  \\\n",
              "1782683             10             10   \n",
              "1783000             10             10   \n",
              "1785526             10             10   \n",
              "1795283             10             10   \n",
              "\n",
              "                                              long_title  \\\n",
              "1782683                       Sepsis due to Enterococcus   \n",
              "1783000               Severe sepsis without septic shock   \n",
              "1785526  Sepsis following a procedure, initial encounter   \n",
              "1795283                     Sepsis, unspecified organism   \n",
              "\n",
              "                                                 l_title  target  \n",
              "1782683                       sepsis due to enterococcus       1  \n",
              "1783000               severe sepsis without septic shock       1  \n",
              "1785526  sepsis following a procedure, initial encounter       1  \n",
              "1795283                     sepsis, unspecified organism       1  \n",
              "\n",
              "[4 rows x 23 columns]"
            ],
            "text/html": [
              "\n",
              "  <div id=\"df-ac63734a-2dbb-45fa-bda2-edb816b3e0a9\" class=\"colab-df-container\">\n",
              "    <div>\n",
              "<style scoped>\n",
              "    .dataframe tbody tr th:only-of-type {\n",
              "        vertical-align: middle;\n",
              "    }\n",
              "\n",
              "    .dataframe tbody tr th {\n",
              "        vertical-align: top;\n",
              "    }\n",
              "\n",
              "    .dataframe thead th {\n",
              "        text-align: right;\n",
              "    }\n",
              "</style>\n",
              "<table border=\"1\" class=\"dataframe\">\n",
              "  <thead>\n",
              "    <tr style=\"text-align: right;\">\n",
              "      <th></th>\n",
              "      <th>subject_id</th>\n",
              "      <th>hadm_id</th>\n",
              "      <th>admittime</th>\n",
              "      <th>dischtime</th>\n",
              "      <th>deathtime</th>\n",
              "      <th>admission_type</th>\n",
              "      <th>admit_provider_id</th>\n",
              "      <th>admission_location</th>\n",
              "      <th>discharge_location</th>\n",
              "      <th>insurance</th>\n",
              "      <th>...</th>\n",
              "      <th>edregtime</th>\n",
              "      <th>edouttime</th>\n",
              "      <th>hospital_expire_flag</th>\n",
              "      <th>seq_num</th>\n",
              "      <th>icd_code</th>\n",
              "      <th>icd_version_x</th>\n",
              "      <th>icd_version_y</th>\n",
              "      <th>long_title</th>\n",
              "      <th>l_title</th>\n",
              "      <th>target</th>\n",
              "    </tr>\n",
              "  </thead>\n",
              "  <tbody>\n",
              "    <tr>\n",
              "      <th>1782683</th>\n",
              "      <td>10001401</td>\n",
              "      <td>27012892</td>\n",
              "      <td>2133-07-09 22:22:00</td>\n",
              "      <td>2133-07-13 18:43:00</td>\n",
              "      <td>NaN</td>\n",
              "      <td>OBSERVATION ADMIT</td>\n",
              "      <td>P08ZLF</td>\n",
              "      <td>PHYSICIAN REFERRAL</td>\n",
              "      <td>REHAB</td>\n",
              "      <td>Medicare</td>\n",
              "      <td>...</td>\n",
              "      <td>NaN</td>\n",
              "      <td>NaN</td>\n",
              "      <td>0</td>\n",
              "      <td>2</td>\n",
              "      <td>A4181</td>\n",
              "      <td>10</td>\n",
              "      <td>10</td>\n",
              "      <td>Sepsis due to Enterococcus</td>\n",
              "      <td>sepsis due to enterococcus</td>\n",
              "      <td>1</td>\n",
              "    </tr>\n",
              "    <tr>\n",
              "      <th>1783000</th>\n",
              "      <td>10001401</td>\n",
              "      <td>27012892</td>\n",
              "      <td>2133-07-09 22:22:00</td>\n",
              "      <td>2133-07-13 18:43:00</td>\n",
              "      <td>NaN</td>\n",
              "      <td>OBSERVATION ADMIT</td>\n",
              "      <td>P08ZLF</td>\n",
              "      <td>PHYSICIAN REFERRAL</td>\n",
              "      <td>REHAB</td>\n",
              "      <td>Medicare</td>\n",
              "      <td>...</td>\n",
              "      <td>NaN</td>\n",
              "      <td>NaN</td>\n",
              "      <td>0</td>\n",
              "      <td>3</td>\n",
              "      <td>R6520</td>\n",
              "      <td>10</td>\n",
              "      <td>10</td>\n",
              "      <td>Severe sepsis without septic shock</td>\n",
              "      <td>severe sepsis without septic shock</td>\n",
              "      <td>1</td>\n",
              "    </tr>\n",
              "    <tr>\n",
              "      <th>1785526</th>\n",
              "      <td>10001401</td>\n",
              "      <td>27012892</td>\n",
              "      <td>2133-07-09 22:22:00</td>\n",
              "      <td>2133-07-13 18:43:00</td>\n",
              "      <td>NaN</td>\n",
              "      <td>OBSERVATION ADMIT</td>\n",
              "      <td>P08ZLF</td>\n",
              "      <td>PHYSICIAN REFERRAL</td>\n",
              "      <td>REHAB</td>\n",
              "      <td>Medicare</td>\n",
              "      <td>...</td>\n",
              "      <td>NaN</td>\n",
              "      <td>NaN</td>\n",
              "      <td>0</td>\n",
              "      <td>7</td>\n",
              "      <td>T8144XA</td>\n",
              "      <td>10</td>\n",
              "      <td>10</td>\n",
              "      <td>Sepsis following a procedure, initial encounter</td>\n",
              "      <td>sepsis following a procedure, initial encounter</td>\n",
              "      <td>1</td>\n",
              "    </tr>\n",
              "    <tr>\n",
              "      <th>1795283</th>\n",
              "      <td>10001401</td>\n",
              "      <td>27060146</td>\n",
              "      <td>2131-10-01 01:33:00</td>\n",
              "      <td>2131-10-05 15:45:00</td>\n",
              "      <td>NaN</td>\n",
              "      <td>OBSERVATION ADMIT</td>\n",
              "      <td>P08YAB</td>\n",
              "      <td>EMERGENCY ROOM</td>\n",
              "      <td>SKILLED NURSING FACILITY</td>\n",
              "      <td>Medicare</td>\n",
              "      <td>...</td>\n",
              "      <td>2131-09-30 16:47:00</td>\n",
              "      <td>2131-10-01 02:24:00</td>\n",
              "      <td>0</td>\n",
              "      <td>2</td>\n",
              "      <td>A419</td>\n",
              "      <td>10</td>\n",
              "      <td>10</td>\n",
              "      <td>Sepsis, unspecified organism</td>\n",
              "      <td>sepsis, unspecified organism</td>\n",
              "      <td>1</td>\n",
              "    </tr>\n",
              "  </tbody>\n",
              "</table>\n",
              "<p>4 rows × 23 columns</p>\n",
              "</div>\n",
              "    <div class=\"colab-df-buttons\">\n",
              "\n",
              "  <div class=\"colab-df-container\">\n",
              "    <button class=\"colab-df-convert\" onclick=\"convertToInteractive('df-ac63734a-2dbb-45fa-bda2-edb816b3e0a9')\"\n",
              "            title=\"Convert this dataframe to an interactive table.\"\n",
              "            style=\"display:none;\">\n",
              "\n",
              "  <svg xmlns=\"http://www.w3.org/2000/svg\" height=\"24px\" viewBox=\"0 -960 960 960\">\n",
              "    <path d=\"M120-120v-720h720v720H120Zm60-500h600v-160H180v160Zm220 220h160v-160H400v160Zm0 220h160v-160H400v160ZM180-400h160v-160H180v160Zm440 0h160v-160H620v160ZM180-180h160v-160H180v160Zm440 0h160v-160H620v160Z\"/>\n",
              "  </svg>\n",
              "    </button>\n",
              "\n",
              "  <style>\n",
              "    .colab-df-container {\n",
              "      display:flex;\n",
              "      gap: 12px;\n",
              "    }\n",
              "\n",
              "    .colab-df-convert {\n",
              "      background-color: #E8F0FE;\n",
              "      border: none;\n",
              "      border-radius: 50%;\n",
              "      cursor: pointer;\n",
              "      display: none;\n",
              "      fill: #1967D2;\n",
              "      height: 32px;\n",
              "      padding: 0 0 0 0;\n",
              "      width: 32px;\n",
              "    }\n",
              "\n",
              "    .colab-df-convert:hover {\n",
              "      background-color: #E2EBFA;\n",
              "      box-shadow: 0px 1px 2px rgba(60, 64, 67, 0.3), 0px 1px 3px 1px rgba(60, 64, 67, 0.15);\n",
              "      fill: #174EA6;\n",
              "    }\n",
              "\n",
              "    .colab-df-buttons div {\n",
              "      margin-bottom: 4px;\n",
              "    }\n",
              "\n",
              "    [theme=dark] .colab-df-convert {\n",
              "      background-color: #3B4455;\n",
              "      fill: #D2E3FC;\n",
              "    }\n",
              "\n",
              "    [theme=dark] .colab-df-convert:hover {\n",
              "      background-color: #434B5C;\n",
              "      box-shadow: 0px 1px 3px 1px rgba(0, 0, 0, 0.15);\n",
              "      filter: drop-shadow(0px 1px 2px rgba(0, 0, 0, 0.3));\n",
              "      fill: #FFFFFF;\n",
              "    }\n",
              "  </style>\n",
              "\n",
              "    <script>\n",
              "      const buttonEl =\n",
              "        document.querySelector('#df-ac63734a-2dbb-45fa-bda2-edb816b3e0a9 button.colab-df-convert');\n",
              "      buttonEl.style.display =\n",
              "        google.colab.kernel.accessAllowed ? 'block' : 'none';\n",
              "\n",
              "      async function convertToInteractive(key) {\n",
              "        const element = document.querySelector('#df-ac63734a-2dbb-45fa-bda2-edb816b3e0a9');\n",
              "        const dataTable =\n",
              "          await google.colab.kernel.invokeFunction('convertToInteractive',\n",
              "                                                    [key], {});\n",
              "        if (!dataTable) return;\n",
              "\n",
              "        const docLinkHtml = 'Like what you see? Visit the ' +\n",
              "          '<a target=\"_blank\" href=https://colab.research.google.com/notebooks/data_table.ipynb>data table notebook</a>'\n",
              "          + ' to learn more about interactive tables.';\n",
              "        element.innerHTML = '';\n",
              "        dataTable['output_type'] = 'display_data';\n",
              "        await google.colab.output.renderOutput(dataTable, element);\n",
              "        const docLink = document.createElement('div');\n",
              "        docLink.innerHTML = docLinkHtml;\n",
              "        element.appendChild(docLink);\n",
              "      }\n",
              "    </script>\n",
              "  </div>\n",
              "\n",
              "\n",
              "<div id=\"df-13bef1ff-918f-45d5-abd1-ec5cee76ffbb\">\n",
              "  <button class=\"colab-df-quickchart\" onclick=\"quickchart('df-13bef1ff-918f-45d5-abd1-ec5cee76ffbb')\"\n",
              "            title=\"Suggest charts\"\n",
              "            style=\"display:none;\">\n",
              "\n",
              "<svg xmlns=\"http://www.w3.org/2000/svg\" height=\"24px\"viewBox=\"0 0 24 24\"\n",
              "     width=\"24px\">\n",
              "    <g>\n",
              "        <path d=\"M19 3H5c-1.1 0-2 .9-2 2v14c0 1.1.9 2 2 2h14c1.1 0 2-.9 2-2V5c0-1.1-.9-2-2-2zM9 17H7v-7h2v7zm4 0h-2V7h2v10zm4 0h-2v-4h2v4z\"/>\n",
              "    </g>\n",
              "</svg>\n",
              "  </button>\n",
              "\n",
              "<style>\n",
              "  .colab-df-quickchart {\n",
              "      --bg-color: #E8F0FE;\n",
              "      --fill-color: #1967D2;\n",
              "      --hover-bg-color: #E2EBFA;\n",
              "      --hover-fill-color: #174EA6;\n",
              "      --disabled-fill-color: #AAA;\n",
              "      --disabled-bg-color: #DDD;\n",
              "  }\n",
              "\n",
              "  [theme=dark] .colab-df-quickchart {\n",
              "      --bg-color: #3B4455;\n",
              "      --fill-color: #D2E3FC;\n",
              "      --hover-bg-color: #434B5C;\n",
              "      --hover-fill-color: #FFFFFF;\n",
              "      --disabled-bg-color: #3B4455;\n",
              "      --disabled-fill-color: #666;\n",
              "  }\n",
              "\n",
              "  .colab-df-quickchart {\n",
              "    background-color: var(--bg-color);\n",
              "    border: none;\n",
              "    border-radius: 50%;\n",
              "    cursor: pointer;\n",
              "    display: none;\n",
              "    fill: var(--fill-color);\n",
              "    height: 32px;\n",
              "    padding: 0;\n",
              "    width: 32px;\n",
              "  }\n",
              "\n",
              "  .colab-df-quickchart:hover {\n",
              "    background-color: var(--hover-bg-color);\n",
              "    box-shadow: 0 1px 2px rgba(60, 64, 67, 0.3), 0 1px 3px 1px rgba(60, 64, 67, 0.15);\n",
              "    fill: var(--button-hover-fill-color);\n",
              "  }\n",
              "\n",
              "  .colab-df-quickchart-complete:disabled,\n",
              "  .colab-df-quickchart-complete:disabled:hover {\n",
              "    background-color: var(--disabled-bg-color);\n",
              "    fill: var(--disabled-fill-color);\n",
              "    box-shadow: none;\n",
              "  }\n",
              "\n",
              "  .colab-df-spinner {\n",
              "    border: 2px solid var(--fill-color);\n",
              "    border-color: transparent;\n",
              "    border-bottom-color: var(--fill-color);\n",
              "    animation:\n",
              "      spin 1s steps(1) infinite;\n",
              "  }\n",
              "\n",
              "  @keyframes spin {\n",
              "    0% {\n",
              "      border-color: transparent;\n",
              "      border-bottom-color: var(--fill-color);\n",
              "      border-left-color: var(--fill-color);\n",
              "    }\n",
              "    20% {\n",
              "      border-color: transparent;\n",
              "      border-left-color: var(--fill-color);\n",
              "      border-top-color: var(--fill-color);\n",
              "    }\n",
              "    30% {\n",
              "      border-color: transparent;\n",
              "      border-left-color: var(--fill-color);\n",
              "      border-top-color: var(--fill-color);\n",
              "      border-right-color: var(--fill-color);\n",
              "    }\n",
              "    40% {\n",
              "      border-color: transparent;\n",
              "      border-right-color: var(--fill-color);\n",
              "      border-top-color: var(--fill-color);\n",
              "    }\n",
              "    60% {\n",
              "      border-color: transparent;\n",
              "      border-right-color: var(--fill-color);\n",
              "    }\n",
              "    80% {\n",
              "      border-color: transparent;\n",
              "      border-right-color: var(--fill-color);\n",
              "      border-bottom-color: var(--fill-color);\n",
              "    }\n",
              "    90% {\n",
              "      border-color: transparent;\n",
              "      border-bottom-color: var(--fill-color);\n",
              "    }\n",
              "  }\n",
              "</style>\n",
              "\n",
              "  <script>\n",
              "    async function quickchart(key) {\n",
              "      const quickchartButtonEl =\n",
              "        document.querySelector('#' + key + ' button');\n",
              "      quickchartButtonEl.disabled = true;  // To prevent multiple clicks.\n",
              "      quickchartButtonEl.classList.add('colab-df-spinner');\n",
              "      try {\n",
              "        const charts = await google.colab.kernel.invokeFunction(\n",
              "            'suggestCharts', [key], {});\n",
              "      } catch (error) {\n",
              "        console.error('Error during call to suggestCharts:', error);\n",
              "      }\n",
              "      quickchartButtonEl.classList.remove('colab-df-spinner');\n",
              "      quickchartButtonEl.classList.add('colab-df-quickchart-complete');\n",
              "    }\n",
              "    (() => {\n",
              "      let quickchartButtonEl =\n",
              "        document.querySelector('#df-13bef1ff-918f-45d5-abd1-ec5cee76ffbb button');\n",
              "      quickchartButtonEl.style.display =\n",
              "        google.colab.kernel.accessAllowed ? 'block' : 'none';\n",
              "    })();\n",
              "  </script>\n",
              "</div>\n",
              "    </div>\n",
              "  </div>\n"
            ],
            "application/vnd.google.colaboratory.intrinsic+json": {
              "type": "dataframe"
            }
          },
          "metadata": {},
          "execution_count": 22
        }
      ],
      "source": [
        "t1.loc[(t1.subject_id == 10001401) & (t1.target == 1)]"
      ]
    },
    {
      "cell_type": "code",
      "execution_count": 23,
      "metadata": {
        "id": "Sb_uDFjQvHUe"
      },
      "outputs": [],
      "source": [
        "labevents = pd.read_csv('/content/mimic-iv-2.2/hosp/labevents.csv.gz', nrows=3000000)"
      ]
    },
    {
      "cell_type": "code",
      "execution_count": 24,
      "metadata": {
        "id": "Z-tng8wZWyQK"
      },
      "outputs": [],
      "source": [
        "d_lab = pd.read_csv('/content/mimic-iv-2.2/hosp/d_labitems.csv.gz')"
      ]
    },
    {
      "cell_type": "code",
      "execution_count": 25,
      "metadata": {
        "id": "R_VhtrXHrlLb"
      },
      "outputs": [],
      "source": [
        "import pandas as pd\n",
        "import numpy as np\n",
        "import re\n",
        "\n",
        "def extract_numeric(value):\n",
        "    if isinstance(value, str):\n",
        "        if value.startswith('<'):\n",
        "            return int(re.findall(r'\\d+', value)[0]) - 1\n",
        "        elif value.startswith('>'):\n",
        "            return int(re.findall(r'\\d+', value)[0]) + 100\n",
        "        elif '-' in value:\n",
        "            range_values = re.findall(r'\\d+', value)\n",
        "            try:\n",
        "                return (int(range_values[0]) + int(range_values[1])) / 2\n",
        "            except:\n",
        "                return value\n",
        "        else:\n",
        "            try:\n",
        "                return int(re.findall(r'\\d+', value)[0])\n",
        "            except IndexError:\n",
        "                return value\n",
        "    return value"
      ]
    },
    {
      "cell_type": "code",
      "execution_count": 26,
      "metadata": {
        "id": "lhs2Pz5MWud-"
      },
      "outputs": [],
      "source": [
        "t_lab = labevents.merge(d_lab, on='itemid', how='inner')"
      ]
    },
    {
      "cell_type": "code",
      "execution_count": 27,
      "metadata": {
        "id": "bb2Kw9yOfOvq"
      },
      "outputs": [],
      "source": [
        "t_lab.loc[t_lab.valuenum.notna(), 'value'] = t_lab.loc[t_lab.valuenum.notna()]['valuenum']"
      ]
    },
    {
      "cell_type": "code",
      "execution_count": 28,
      "metadata": {
        "id": "5XybEe9pfpwx"
      },
      "outputs": [],
      "source": [
        "t_lab.loc[t_lab.value=='___', 'value'] = -1"
      ]
    },
    {
      "cell_type": "code",
      "execution_count": 29,
      "metadata": {
        "id": "rxNFGrxWrqWp"
      },
      "outputs": [],
      "source": [
        "t_lab.value = t_lab['value'].apply(extract_numeric)"
      ]
    },
    {
      "cell_type": "code",
      "execution_count": 30,
      "metadata": {
        "id": "uBM3qT5cUhO1"
      },
      "outputs": [],
      "source": [
        "lab_pivot = t_lab.pivot_table(index=('subject_id', 'charttime'), columns='label', values='value', aggfunc='first')"
      ]
    },
    {
      "cell_type": "code",
      "execution_count": 31,
      "metadata": {
        "id": "rzIZz56-C0n5"
      },
      "outputs": [],
      "source": [
        "lab_pivot = lab_pivot.reset_index()"
      ]
    },
    {
      "cell_type": "code",
      "execution_count": 32,
      "metadata": {
        "id": "318gUlioJCU2"
      },
      "outputs": [],
      "source": [
        "from datetime import datetime as dt\n",
        "from datetime import timedelta"
      ]
    },
    {
      "cell_type": "code",
      "execution_count": 33,
      "metadata": {
        "id": "i8xQiyr4LtPJ"
      },
      "outputs": [],
      "source": [
        "def get_dif(const_date, curr_date):\n",
        "    return dt.strptime(const_date, '%Y-%m-%d %H:%M:%S') - dt.strptime(curr_date, '%Y-%m-%d %H:%M:%S')"
      ]
    },
    {
      "cell_type": "code",
      "execution_count": 34,
      "metadata": {
        "id": "v02v4QOX5CmX"
      },
      "outputs": [],
      "source": [
        "const_date = '2133-07-09 22:22:00'\n",
        "curr_row = lab_pivot.loc[(lab_pivot.charttime.apply(lambda x: timedelta(days=0) <= get_dif(const_date, x) <= timedelta(days=1)) & (lab_pivot.subject_id == 10001401))]"
      ]
    },
    {
      "cell_type": "code",
      "execution_count": 35,
      "metadata": {
        "colab": {
          "base_uri": "https://localhost:8080/"
        },
        "id": "gjpkUpSZUhuM",
        "outputId": "3edebbb8-fd7f-4d06-b641-107344da62dc"
      },
      "outputs": [
        {
          "output_type": "stream",
          "name": "stdout",
          "text": [
            "subject_id 10001401\n",
            "charttime 2133-07-09 19:23:00\n",
            "Anion Gap 11.0\n",
            "Bicarbonate 27.0\n",
            "Chloride 108.0\n",
            "Creatinine 1.4\n",
            "Glucose 108.0\n",
            "H 7.0\n",
            "Hematocrit 33.8\n",
            "Hemoglobin 10.3\n",
            "I 1.0\n",
            "L 1.0\n",
            "MCH 30.1\n",
            "MCHC 30.5\n",
            "MCV 99.0\n",
            "Platelet Count 262.0\n",
            "Potassium 4.3\n",
            "RDW 14.2\n",
            "RDW-SD 51.5\n",
            "Red Blood Cells 3.42\n",
            "Sodium 146.0\n",
            "Urea Nitrogen 33.0\n",
            "White Blood Cells 2.1\n"
          ]
        }
      ],
      "source": [
        "for i in zip(curr_row, curr_row.notna().values[0]):\n",
        "    if i[1]:\n",
        "        print(i[0], curr_row[i[0]].values[0])"
      ]
    },
    {
      "cell_type": "code",
      "execution_count": 36,
      "metadata": {
        "id": "8YXzkzybWTu4"
      },
      "outputs": [],
      "source": [
        "feats = []\n",
        "\n",
        "for i in lab_pivot.columns:\n",
        "    if lab_pivot[i].isna().sum() / len(lab_pivot) < 0.98 and len(lab_pivot[i].unique()) > 2:\n",
        "        feats.append(i)\n",
        "        #print(i, lab_pivot[i].isna().sum() / len(lab_pivot), len(lab_pivot[i].unique()))"
      ]
    },
    {
      "cell_type": "code",
      "execution_count": 37,
      "metadata": {
        "id": "2fnvHiu74Ax4"
      },
      "outputs": [],
      "source": [
        "feats.remove('Epithelial Cells')\n",
        "feats.remove('Glucose')\n",
        "feats.remove('INR(PT)')\n",
        "feats.remove('Intubated')\n",
        "feats.remove('Ketone')\n",
        "feats.remove('PT')\n",
        "feats.remove('Protein')\n",
        "feats.remove('RBC')\n",
        "feats.remove('Specific Gravity')\n",
        "feats.remove('Specimen Type')\n",
        "feats.remove('Uhold')\n",
        "feats.remove('Urine tube, held')\n",
        "feats.remove('Urobilinogen')\n",
        "feats.remove('WBC')\n",
        "feats.remove('Yeast')\n",
        "feats.remove('Basophils')\n",
        "#cat_feats.append('Blue Top Hold')\n",
        "#cat_feats.append('Green Top Hold (plasma)')\n",
        "feats.remove('PTT')\n",
        "feats.remove('RDW')\n",
        "feats.remove('Urine Color')\n",
        "feats.remove('pH')"
      ]
    },
    {
      "cell_type": "code",
      "execution_count": 38,
      "metadata": {
        "id": "4__mheRmPvWj"
      },
      "outputs": [],
      "source": [
        "cat_feats = []\n",
        "cat_feats.append('Epithelial Cells')\n",
        "cat_feats.append('Glucose')\n",
        "cat_feats.append('INR(PT)')\n",
        "cat_feats.append('Intubated')\n",
        "cat_feats.append('Ketone')\n",
        "cat_feats.append('PT')\n",
        "cat_feats.append('Protein')\n",
        "cat_feats.append('RBC')\n",
        "cat_feats.append('Specific Gravity')\n",
        "cat_feats.append('Specimen Type')\n",
        "cat_feats.append('Uhold')\n",
        "cat_feats.append('Urine tube, held')\n",
        "cat_feats.append('Urobilinogen')\n",
        "cat_feats.append('WBC')\n",
        "cat_feats.append('Yeast')\n",
        "cat_feats.append('Basophils')\n",
        "#cat_feats.append('Blue Top Hold')\n",
        "#cat_feats.append('Green Top Hold (plasma)')\n",
        "cat_feats.append('PTT')\n",
        "cat_feats.append('RDW')\n",
        "cat_feats.append('Urine Color')\n",
        "cat_feats.append('pH')"
      ]
    },
    {
      "cell_type": "code",
      "execution_count": 39,
      "metadata": {
        "id": "9bfV0Zu3dkP6"
      },
      "outputs": [],
      "source": [
        "x_lab = lab_pivot[feats]"
      ]
    },
    {
      "cell_type": "code",
      "execution_count": 40,
      "metadata": {
        "id": "BHapFUHECFWA"
      },
      "outputs": [],
      "source": [
        "cat_lab = lab_pivot[['subject_id','charttime'] + cat_feats]"
      ]
    },
    {
      "cell_type": "code",
      "execution_count": 41,
      "metadata": {
        "colab": {
          "base_uri": "https://localhost:8080/"
        },
        "id": "0t2Sdsbp4J_j",
        "outputId": "4c151c82-1a6f-4e80-d2de-d0f93a2f282d"
      },
      "outputs": [
        {
          "output_type": "stream",
          "name": "stderr",
          "text": [
            "<ipython-input-41-273e2f0092e4>:6: SettingWithCopyWarning: \n",
            "A value is trying to be set on a copy of a slice from a DataFrame.\n",
            "Try using .loc[row_indexer,col_indexer] = value instead\n",
            "\n",
            "See the caveats in the documentation: https://pandas.pydata.org/pandas-docs/stable/user_guide/indexing.html#returning-a-view-versus-a-copy\n",
            "  cat_lab[i + '_num'] = lab_pivot[i]\n",
            "<ipython-input-41-273e2f0092e4>:6: SettingWithCopyWarning: \n",
            "A value is trying to be set on a copy of a slice from a DataFrame.\n",
            "Try using .loc[row_indexer,col_indexer] = value instead\n",
            "\n",
            "See the caveats in the documentation: https://pandas.pydata.org/pandas-docs/stable/user_guide/indexing.html#returning-a-view-versus-a-copy\n",
            "  cat_lab[i + '_num'] = lab_pivot[i]\n",
            "<ipython-input-41-273e2f0092e4>:8: SettingWithCopyWarning: \n",
            "A value is trying to be set on a copy of a slice from a DataFrame.\n",
            "Try using .loc[row_indexer,col_indexer] = value instead\n",
            "\n",
            "See the caveats in the documentation: https://pandas.pydata.org/pandas-docs/stable/user_guide/indexing.html#returning-a-view-versus-a-copy\n",
            "  cat_lab[i + '_cat'] = cat_lab[i]\n",
            "<ipython-input-41-273e2f0092e4>:6: SettingWithCopyWarning: \n",
            "A value is trying to be set on a copy of a slice from a DataFrame.\n",
            "Try using .loc[row_indexer,col_indexer] = value instead\n",
            "\n",
            "See the caveats in the documentation: https://pandas.pydata.org/pandas-docs/stable/user_guide/indexing.html#returning-a-view-versus-a-copy\n",
            "  cat_lab[i + '_num'] = lab_pivot[i]\n",
            "<ipython-input-41-273e2f0092e4>:8: SettingWithCopyWarning: \n",
            "A value is trying to be set on a copy of a slice from a DataFrame.\n",
            "Try using .loc[row_indexer,col_indexer] = value instead\n",
            "\n",
            "See the caveats in the documentation: https://pandas.pydata.org/pandas-docs/stable/user_guide/indexing.html#returning-a-view-versus-a-copy\n",
            "  cat_lab[i + '_cat'] = cat_lab[i]\n",
            "<ipython-input-41-273e2f0092e4>:6: SettingWithCopyWarning: \n",
            "A value is trying to be set on a copy of a slice from a DataFrame.\n",
            "Try using .loc[row_indexer,col_indexer] = value instead\n",
            "\n",
            "See the caveats in the documentation: https://pandas.pydata.org/pandas-docs/stable/user_guide/indexing.html#returning-a-view-versus-a-copy\n",
            "  cat_lab[i + '_num'] = lab_pivot[i]\n",
            "<ipython-input-41-273e2f0092e4>:8: SettingWithCopyWarning: \n",
            "A value is trying to be set on a copy of a slice from a DataFrame.\n",
            "Try using .loc[row_indexer,col_indexer] = value instead\n",
            "\n",
            "See the caveats in the documentation: https://pandas.pydata.org/pandas-docs/stable/user_guide/indexing.html#returning-a-view-versus-a-copy\n",
            "  cat_lab[i + '_cat'] = cat_lab[i]\n",
            "<ipython-input-41-273e2f0092e4>:6: SettingWithCopyWarning: \n",
            "A value is trying to be set on a copy of a slice from a DataFrame.\n",
            "Try using .loc[row_indexer,col_indexer] = value instead\n",
            "\n",
            "See the caveats in the documentation: https://pandas.pydata.org/pandas-docs/stable/user_guide/indexing.html#returning-a-view-versus-a-copy\n",
            "  cat_lab[i + '_num'] = lab_pivot[i]\n",
            "<ipython-input-41-273e2f0092e4>:8: SettingWithCopyWarning: \n",
            "A value is trying to be set on a copy of a slice from a DataFrame.\n",
            "Try using .loc[row_indexer,col_indexer] = value instead\n",
            "\n",
            "See the caveats in the documentation: https://pandas.pydata.org/pandas-docs/stable/user_guide/indexing.html#returning-a-view-versus-a-copy\n",
            "  cat_lab[i + '_cat'] = cat_lab[i]\n",
            "<ipython-input-41-273e2f0092e4>:6: SettingWithCopyWarning: \n",
            "A value is trying to be set on a copy of a slice from a DataFrame.\n",
            "Try using .loc[row_indexer,col_indexer] = value instead\n",
            "\n",
            "See the caveats in the documentation: https://pandas.pydata.org/pandas-docs/stable/user_guide/indexing.html#returning-a-view-versus-a-copy\n",
            "  cat_lab[i + '_num'] = lab_pivot[i]\n",
            "<ipython-input-41-273e2f0092e4>:8: SettingWithCopyWarning: \n",
            "A value is trying to be set on a copy of a slice from a DataFrame.\n",
            "Try using .loc[row_indexer,col_indexer] = value instead\n",
            "\n",
            "See the caveats in the documentation: https://pandas.pydata.org/pandas-docs/stable/user_guide/indexing.html#returning-a-view-versus-a-copy\n",
            "  cat_lab[i + '_cat'] = cat_lab[i]\n",
            "<ipython-input-41-273e2f0092e4>:6: SettingWithCopyWarning: \n",
            "A value is trying to be set on a copy of a slice from a DataFrame.\n",
            "Try using .loc[row_indexer,col_indexer] = value instead\n",
            "\n",
            "See the caveats in the documentation: https://pandas.pydata.org/pandas-docs/stable/user_guide/indexing.html#returning-a-view-versus-a-copy\n",
            "  cat_lab[i + '_num'] = lab_pivot[i]\n",
            "<ipython-input-41-273e2f0092e4>:6: SettingWithCopyWarning: \n",
            "A value is trying to be set on a copy of a slice from a DataFrame.\n",
            "Try using .loc[row_indexer,col_indexer] = value instead\n",
            "\n",
            "See the caveats in the documentation: https://pandas.pydata.org/pandas-docs/stable/user_guide/indexing.html#returning-a-view-versus-a-copy\n",
            "  cat_lab[i + '_num'] = lab_pivot[i]\n",
            "<ipython-input-41-273e2f0092e4>:8: SettingWithCopyWarning: \n",
            "A value is trying to be set on a copy of a slice from a DataFrame.\n",
            "Try using .loc[row_indexer,col_indexer] = value instead\n",
            "\n",
            "See the caveats in the documentation: https://pandas.pydata.org/pandas-docs/stable/user_guide/indexing.html#returning-a-view-versus-a-copy\n",
            "  cat_lab[i + '_cat'] = cat_lab[i]\n",
            "<ipython-input-41-273e2f0092e4>:6: SettingWithCopyWarning: \n",
            "A value is trying to be set on a copy of a slice from a DataFrame.\n",
            "Try using .loc[row_indexer,col_indexer] = value instead\n",
            "\n",
            "See the caveats in the documentation: https://pandas.pydata.org/pandas-docs/stable/user_guide/indexing.html#returning-a-view-versus-a-copy\n",
            "  cat_lab[i + '_num'] = lab_pivot[i]\n",
            "<ipython-input-41-273e2f0092e4>:8: SettingWithCopyWarning: \n",
            "A value is trying to be set on a copy of a slice from a DataFrame.\n",
            "Try using .loc[row_indexer,col_indexer] = value instead\n",
            "\n",
            "See the caveats in the documentation: https://pandas.pydata.org/pandas-docs/stable/user_guide/indexing.html#returning-a-view-versus-a-copy\n",
            "  cat_lab[i + '_cat'] = cat_lab[i]\n",
            "<ipython-input-41-273e2f0092e4>:6: SettingWithCopyWarning: \n",
            "A value is trying to be set on a copy of a slice from a DataFrame.\n",
            "Try using .loc[row_indexer,col_indexer] = value instead\n",
            "\n",
            "See the caveats in the documentation: https://pandas.pydata.org/pandas-docs/stable/user_guide/indexing.html#returning-a-view-versus-a-copy\n",
            "  cat_lab[i + '_num'] = lab_pivot[i]\n",
            "<ipython-input-41-273e2f0092e4>:6: SettingWithCopyWarning: \n",
            "A value is trying to be set on a copy of a slice from a DataFrame.\n",
            "Try using .loc[row_indexer,col_indexer] = value instead\n",
            "\n",
            "See the caveats in the documentation: https://pandas.pydata.org/pandas-docs/stable/user_guide/indexing.html#returning-a-view-versus-a-copy\n",
            "  cat_lab[i + '_num'] = lab_pivot[i]\n",
            "<ipython-input-41-273e2f0092e4>:6: SettingWithCopyWarning: \n",
            "A value is trying to be set on a copy of a slice from a DataFrame.\n",
            "Try using .loc[row_indexer,col_indexer] = value instead\n",
            "\n",
            "See the caveats in the documentation: https://pandas.pydata.org/pandas-docs/stable/user_guide/indexing.html#returning-a-view-versus-a-copy\n",
            "  cat_lab[i + '_num'] = lab_pivot[i]\n",
            "<ipython-input-41-273e2f0092e4>:8: SettingWithCopyWarning: \n",
            "A value is trying to be set on a copy of a slice from a DataFrame.\n",
            "Try using .loc[row_indexer,col_indexer] = value instead\n",
            "\n",
            "See the caveats in the documentation: https://pandas.pydata.org/pandas-docs/stable/user_guide/indexing.html#returning-a-view-versus-a-copy\n",
            "  cat_lab[i + '_cat'] = cat_lab[i]\n",
            "<ipython-input-41-273e2f0092e4>:6: SettingWithCopyWarning: \n",
            "A value is trying to be set on a copy of a slice from a DataFrame.\n",
            "Try using .loc[row_indexer,col_indexer] = value instead\n",
            "\n",
            "See the caveats in the documentation: https://pandas.pydata.org/pandas-docs/stable/user_guide/indexing.html#returning-a-view-versus-a-copy\n",
            "  cat_lab[i + '_num'] = lab_pivot[i]\n",
            "<ipython-input-41-273e2f0092e4>:8: SettingWithCopyWarning: \n",
            "A value is trying to be set on a copy of a slice from a DataFrame.\n",
            "Try using .loc[row_indexer,col_indexer] = value instead\n",
            "\n",
            "See the caveats in the documentation: https://pandas.pydata.org/pandas-docs/stable/user_guide/indexing.html#returning-a-view-versus-a-copy\n",
            "  cat_lab[i + '_cat'] = cat_lab[i]\n",
            "<ipython-input-41-273e2f0092e4>:6: SettingWithCopyWarning: \n",
            "A value is trying to be set on a copy of a slice from a DataFrame.\n",
            "Try using .loc[row_indexer,col_indexer] = value instead\n",
            "\n",
            "See the caveats in the documentation: https://pandas.pydata.org/pandas-docs/stable/user_guide/indexing.html#returning-a-view-versus-a-copy\n",
            "  cat_lab[i + '_num'] = lab_pivot[i]\n",
            "<ipython-input-41-273e2f0092e4>:8: SettingWithCopyWarning: \n",
            "A value is trying to be set on a copy of a slice from a DataFrame.\n",
            "Try using .loc[row_indexer,col_indexer] = value instead\n",
            "\n",
            "See the caveats in the documentation: https://pandas.pydata.org/pandas-docs/stable/user_guide/indexing.html#returning-a-view-versus-a-copy\n",
            "  cat_lab[i + '_cat'] = cat_lab[i]\n",
            "<ipython-input-41-273e2f0092e4>:6: SettingWithCopyWarning: \n",
            "A value is trying to be set on a copy of a slice from a DataFrame.\n",
            "Try using .loc[row_indexer,col_indexer] = value instead\n",
            "\n",
            "See the caveats in the documentation: https://pandas.pydata.org/pandas-docs/stable/user_guide/indexing.html#returning-a-view-versus-a-copy\n",
            "  cat_lab[i + '_num'] = lab_pivot[i]\n",
            "<ipython-input-41-273e2f0092e4>:8: SettingWithCopyWarning: \n",
            "A value is trying to be set on a copy of a slice from a DataFrame.\n",
            "Try using .loc[row_indexer,col_indexer] = value instead\n",
            "\n",
            "See the caveats in the documentation: https://pandas.pydata.org/pandas-docs/stable/user_guide/indexing.html#returning-a-view-versus-a-copy\n",
            "  cat_lab[i + '_cat'] = cat_lab[i]\n",
            "<ipython-input-41-273e2f0092e4>:6: SettingWithCopyWarning: \n",
            "A value is trying to be set on a copy of a slice from a DataFrame.\n",
            "Try using .loc[row_indexer,col_indexer] = value instead\n",
            "\n",
            "See the caveats in the documentation: https://pandas.pydata.org/pandas-docs/stable/user_guide/indexing.html#returning-a-view-versus-a-copy\n",
            "  cat_lab[i + '_num'] = lab_pivot[i]\n",
            "<ipython-input-41-273e2f0092e4>:8: SettingWithCopyWarning: \n",
            "A value is trying to be set on a copy of a slice from a DataFrame.\n",
            "Try using .loc[row_indexer,col_indexer] = value instead\n",
            "\n",
            "See the caveats in the documentation: https://pandas.pydata.org/pandas-docs/stable/user_guide/indexing.html#returning-a-view-versus-a-copy\n",
            "  cat_lab[i + '_cat'] = cat_lab[i]\n"
          ]
        }
      ],
      "source": [
        "cat_cols = []\n",
        "num_cols = []\n",
        "\n",
        "for i in cat_feats:\n",
        "    try:\n",
        "        cat_lab[i + '_num'] = lab_pivot[i]\n",
        "        cat_lab.loc[cat_lab[i].fillna(-1).str.isnumeric().notna(), i + '_num'] = -1\n",
        "        cat_lab[i + '_cat'] = cat_lab[i]\n",
        "        cat_lab.loc[cat_lab[i].fillna(-1).str.isnumeric().isna(), i + '_cat'] = -1\n",
        "        num_cols.append(i + '_num')\n",
        "        cat_cols.append(i + '_cat')\n",
        "    except AttributeError:\n",
        "       cat_feats.remove(i)"
      ]
    },
    {
      "cell_type": "code",
      "execution_count": 42,
      "metadata": {
        "id": "fUSd1XqrnzkU"
      },
      "outputs": [],
      "source": [
        "cat_subjects = cat_lab['subject_id']"
      ]
    },
    {
      "cell_type": "code",
      "execution_count": 43,
      "metadata": {
        "id": "l_K1MW_ClHhX"
      },
      "outputs": [],
      "source": [
        "cat_lab = cat_lab.groupby('subject_id').ffill().fillna(-1)"
      ]
    },
    {
      "cell_type": "code",
      "execution_count": 44,
      "metadata": {
        "id": "8GoUfSf5oCvy"
      },
      "outputs": [],
      "source": [
        "cat_lab['subject_id'] = cat_subjects"
      ]
    },
    {
      "cell_type": "code",
      "execution_count": 45,
      "metadata": {
        "colab": {
          "base_uri": "https://localhost:8080/"
        },
        "id": "T6BHd1nn4LCS",
        "outputId": "ae502804-be90-439e-bc8b-eba7d4b2c140"
      },
      "outputs": [
        {
          "output_type": "stream",
          "name": "stderr",
          "text": [
            "<ipython-input-45-e8e76bbe0e1b>:6: PerformanceWarning: DataFrame is highly fragmented.  This is usually the result of calling `frame.insert` many times, which has poor performance.  Consider joining all columns at once using pd.concat(axis=1) instead. To get a de-fragmented frame, use `newframe = frame.copy()`\n",
            "  cat_lab[enc.get_feature_names_out()] = enc.transform(cat_lab[[i]].astype('str')).toarray()\n",
            "<ipython-input-45-e8e76bbe0e1b>:6: PerformanceWarning: DataFrame is highly fragmented.  This is usually the result of calling `frame.insert` many times, which has poor performance.  Consider joining all columns at once using pd.concat(axis=1) instead. To get a de-fragmented frame, use `newframe = frame.copy()`\n",
            "  cat_lab[enc.get_feature_names_out()] = enc.transform(cat_lab[[i]].astype('str')).toarray()\n",
            "<ipython-input-45-e8e76bbe0e1b>:6: PerformanceWarning: DataFrame is highly fragmented.  This is usually the result of calling `frame.insert` many times, which has poor performance.  Consider joining all columns at once using pd.concat(axis=1) instead. To get a de-fragmented frame, use `newframe = frame.copy()`\n",
            "  cat_lab[enc.get_feature_names_out()] = enc.transform(cat_lab[[i]].astype('str')).toarray()\n",
            "<ipython-input-45-e8e76bbe0e1b>:6: PerformanceWarning: DataFrame is highly fragmented.  This is usually the result of calling `frame.insert` many times, which has poor performance.  Consider joining all columns at once using pd.concat(axis=1) instead. To get a de-fragmented frame, use `newframe = frame.copy()`\n",
            "  cat_lab[enc.get_feature_names_out()] = enc.transform(cat_lab[[i]].astype('str')).toarray()\n",
            "<ipython-input-45-e8e76bbe0e1b>:6: PerformanceWarning: DataFrame is highly fragmented.  This is usually the result of calling `frame.insert` many times, which has poor performance.  Consider joining all columns at once using pd.concat(axis=1) instead. To get a de-fragmented frame, use `newframe = frame.copy()`\n",
            "  cat_lab[enc.get_feature_names_out()] = enc.transform(cat_lab[[i]].astype('str')).toarray()\n",
            "<ipython-input-45-e8e76bbe0e1b>:6: PerformanceWarning: DataFrame is highly fragmented.  This is usually the result of calling `frame.insert` many times, which has poor performance.  Consider joining all columns at once using pd.concat(axis=1) instead. To get a de-fragmented frame, use `newframe = frame.copy()`\n",
            "  cat_lab[enc.get_feature_names_out()] = enc.transform(cat_lab[[i]].astype('str')).toarray()\n",
            "<ipython-input-45-e8e76bbe0e1b>:6: PerformanceWarning: DataFrame is highly fragmented.  This is usually the result of calling `frame.insert` many times, which has poor performance.  Consider joining all columns at once using pd.concat(axis=1) instead. To get a de-fragmented frame, use `newframe = frame.copy()`\n",
            "  cat_lab[enc.get_feature_names_out()] = enc.transform(cat_lab[[i]].astype('str')).toarray()\n",
            "<ipython-input-45-e8e76bbe0e1b>:6: PerformanceWarning: DataFrame is highly fragmented.  This is usually the result of calling `frame.insert` many times, which has poor performance.  Consider joining all columns at once using pd.concat(axis=1) instead. To get a de-fragmented frame, use `newframe = frame.copy()`\n",
            "  cat_lab[enc.get_feature_names_out()] = enc.transform(cat_lab[[i]].astype('str')).toarray()\n",
            "<ipython-input-45-e8e76bbe0e1b>:6: PerformanceWarning: DataFrame is highly fragmented.  This is usually the result of calling `frame.insert` many times, which has poor performance.  Consider joining all columns at once using pd.concat(axis=1) instead. To get a de-fragmented frame, use `newframe = frame.copy()`\n",
            "  cat_lab[enc.get_feature_names_out()] = enc.transform(cat_lab[[i]].astype('str')).toarray()\n",
            "<ipython-input-45-e8e76bbe0e1b>:6: PerformanceWarning: DataFrame is highly fragmented.  This is usually the result of calling `frame.insert` many times, which has poor performance.  Consider joining all columns at once using pd.concat(axis=1) instead. To get a de-fragmented frame, use `newframe = frame.copy()`\n",
            "  cat_lab[enc.get_feature_names_out()] = enc.transform(cat_lab[[i]].astype('str')).toarray()\n",
            "<ipython-input-45-e8e76bbe0e1b>:6: PerformanceWarning: DataFrame is highly fragmented.  This is usually the result of calling `frame.insert` many times, which has poor performance.  Consider joining all columns at once using pd.concat(axis=1) instead. To get a de-fragmented frame, use `newframe = frame.copy()`\n",
            "  cat_lab[enc.get_feature_names_out()] = enc.transform(cat_lab[[i]].astype('str')).toarray()\n",
            "<ipython-input-45-e8e76bbe0e1b>:6: PerformanceWarning: DataFrame is highly fragmented.  This is usually the result of calling `frame.insert` many times, which has poor performance.  Consider joining all columns at once using pd.concat(axis=1) instead. To get a de-fragmented frame, use `newframe = frame.copy()`\n",
            "  cat_lab[enc.get_feature_names_out()] = enc.transform(cat_lab[[i]].astype('str')).toarray()\n",
            "<ipython-input-45-e8e76bbe0e1b>:6: PerformanceWarning: DataFrame is highly fragmented.  This is usually the result of calling `frame.insert` many times, which has poor performance.  Consider joining all columns at once using pd.concat(axis=1) instead. To get a de-fragmented frame, use `newframe = frame.copy()`\n",
            "  cat_lab[enc.get_feature_names_out()] = enc.transform(cat_lab[[i]].astype('str')).toarray()\n",
            "<ipython-input-45-e8e76bbe0e1b>:6: PerformanceWarning: DataFrame is highly fragmented.  This is usually the result of calling `frame.insert` many times, which has poor performance.  Consider joining all columns at once using pd.concat(axis=1) instead. To get a de-fragmented frame, use `newframe = frame.copy()`\n",
            "  cat_lab[enc.get_feature_names_out()] = enc.transform(cat_lab[[i]].astype('str')).toarray()\n",
            "<ipython-input-45-e8e76bbe0e1b>:6: PerformanceWarning: DataFrame is highly fragmented.  This is usually the result of calling `frame.insert` many times, which has poor performance.  Consider joining all columns at once using pd.concat(axis=1) instead. To get a de-fragmented frame, use `newframe = frame.copy()`\n",
            "  cat_lab[enc.get_feature_names_out()] = enc.transform(cat_lab[[i]].astype('str')).toarray()\n",
            "<ipython-input-45-e8e76bbe0e1b>:6: PerformanceWarning: DataFrame is highly fragmented.  This is usually the result of calling `frame.insert` many times, which has poor performance.  Consider joining all columns at once using pd.concat(axis=1) instead. To get a de-fragmented frame, use `newframe = frame.copy()`\n",
            "  cat_lab[enc.get_feature_names_out()] = enc.transform(cat_lab[[i]].astype('str')).toarray()\n",
            "<ipython-input-45-e8e76bbe0e1b>:6: PerformanceWarning: DataFrame is highly fragmented.  This is usually the result of calling `frame.insert` many times, which has poor performance.  Consider joining all columns at once using pd.concat(axis=1) instead. To get a de-fragmented frame, use `newframe = frame.copy()`\n",
            "  cat_lab[enc.get_feature_names_out()] = enc.transform(cat_lab[[i]].astype('str')).toarray()\n"
          ]
        }
      ],
      "source": [
        "from sklearn.preprocessing import OneHotEncoder\n",
        "\n",
        "for i in cat_cols:\n",
        "    enc = OneHotEncoder(handle_unknown='ignore')\n",
        "    enc.fit(cat_lab[[i]].astype('str'))\n",
        "    cat_lab[enc.get_feature_names_out()] = enc.transform(cat_lab[[i]].astype('str')).toarray()"
      ]
    },
    {
      "cell_type": "code",
      "execution_count": 46,
      "metadata": {
        "id": "g7hlEUg3XXYJ"
      },
      "outputs": [],
      "source": [
        "cat_lab['charttime'] = pd.to_datetime(cat_lab['charttime'])"
      ]
    },
    {
      "cell_type": "code",
      "execution_count": 47,
      "metadata": {
        "id": "cWSxYEA5tH_c"
      },
      "outputs": [],
      "source": [
        "x_cat = cat_lab[['subject_id', 'charttime'] + cat_cols + num_cols]"
      ]
    },
    {
      "cell_type": "code",
      "execution_count": 48,
      "metadata": {
        "id": "JRKTSeSy4LGd"
      },
      "outputs": [],
      "source": [
        "del t_lab, t2"
      ]
    },
    {
      "cell_type": "code",
      "execution_count": 49,
      "metadata": {
        "id": "r1YdWS-A6n5v"
      },
      "outputs": [],
      "source": [
        "del admissions, diagnoses"
      ]
    },
    {
      "cell_type": "code",
      "execution_count": 50,
      "metadata": {
        "colab": {
          "base_uri": "https://localhost:8080/"
        },
        "id": "7Qt4tXU8EW0l",
        "outputId": "4a13a937-28a4-4e94-f302-118a833062e9"
      },
      "outputs": [
        {
          "output_type": "stream",
          "name": "stderr",
          "text": [
            "<ipython-input-50-8c98bd3df882>:3: SettingWithCopyWarning: \n",
            "A value is trying to be set on a copy of a slice from a DataFrame.\n",
            "Try using .loc[row_indexer,col_indexer] = value instead\n",
            "\n",
            "See the caveats in the documentation: https://pandas.pydata.org/pandas-docs/stable/user_guide/indexing.html#returning-a-view-versus-a-copy\n",
            "  x_lab['charttime'] = pd.to_datetime(x_lab['charttime'])\n"
          ]
        }
      ],
      "source": [
        "t1['admittime'] = pd.to_datetime(t1['admittime'])\n",
        "t1['dischtime'] = pd.to_datetime(t1['dischtime'])\n",
        "x_lab['charttime'] = pd.to_datetime(x_lab['charttime'])"
      ]
    },
    {
      "cell_type": "code",
      "execution_count": 51,
      "metadata": {
        "id": "xjhQVYrbOT7j"
      },
      "outputs": [],
      "source": [
        "result1 = pd.merge(t1[:500000], x_lab, on='subject_id', how='inner')"
      ]
    },
    {
      "cell_type": "code",
      "execution_count": 52,
      "metadata": {
        "id": "lnbcj7VfmeIa"
      },
      "outputs": [],
      "source": [
        "a1 = t1[:500000].target.sum()"
      ]
    },
    {
      "cell_type": "code",
      "execution_count": 53,
      "metadata": {
        "id": "eKVpsxFmFC24"
      },
      "outputs": [],
      "source": [
        "result1 = result1[(result1['charttime'] >= result1['admittime'] - pd.Timedelta(days=1)) & (result1['charttime'] <= result1['dischtime'])]"
      ]
    },
    {
      "cell_type": "code",
      "execution_count": 54,
      "metadata": {
        "id": "BUtToPBjElxH"
      },
      "outputs": [],
      "source": [
        "result2 = pd.merge(t1[500_000:1_000_000], x_lab, on='subject_id', how='inner')"
      ]
    },
    {
      "cell_type": "code",
      "execution_count": 55,
      "metadata": {
        "id": "0N-GXILmml3v"
      },
      "outputs": [],
      "source": [
        "a2 = t1[500000:1_000_000].target.sum()"
      ]
    },
    {
      "cell_type": "code",
      "execution_count": 56,
      "metadata": {
        "id": "raZbqQ0gFEC9"
      },
      "outputs": [],
      "source": [
        "result2 = result2[(result2['charttime'] >= result2['admittime'] - pd.Timedelta(days=1)) & (result2['charttime'] <= result2['dischtime'])]"
      ]
    },
    {
      "cell_type": "code",
      "execution_count": 57,
      "metadata": {
        "id": "CyR8jFVPEl1h"
      },
      "outputs": [],
      "source": [
        "result3 = pd.merge(t1[1_000_000:1_500_000], x_lab, on='subject_id', how='inner')"
      ]
    },
    {
      "cell_type": "code",
      "execution_count": 58,
      "metadata": {
        "id": "8UoAcn45mxDr"
      },
      "outputs": [],
      "source": [
        "a3 = t1[1_000_000:1500000].target.sum()"
      ]
    },
    {
      "cell_type": "code",
      "execution_count": 59,
      "metadata": {
        "id": "pnCiWpnsFJ12"
      },
      "outputs": [],
      "source": [
        "result3 = result3[(result3['charttime'] >= result3['admittime'] - pd.Timedelta(days=1)) & (result3['charttime'] <= result3['dischtime'])]"
      ]
    },
    {
      "cell_type": "code",
      "execution_count": 60,
      "metadata": {
        "id": "HCNjYzUjEmWD"
      },
      "outputs": [],
      "source": [
        "result4 = pd.merge(t1[1_500_000:2_000_000], x_lab, on='subject_id', how='inner')"
      ]
    },
    {
      "cell_type": "code",
      "execution_count": 61,
      "metadata": {
        "id": "20d7Sgl9m7JE"
      },
      "outputs": [],
      "source": [
        "a4 = t1[1_500_000:2000000].target.sum()"
      ]
    },
    {
      "cell_type": "code",
      "execution_count": 62,
      "metadata": {
        "id": "UlW24M6zFPnM"
      },
      "outputs": [],
      "source": [
        "result4 = result4[(result4['charttime'] >= result4['admittime'] - pd.Timedelta(days=1)) & (result4['charttime'] <= result4['dischtime'])]"
      ]
    },
    {
      "cell_type": "code",
      "execution_count": 63,
      "metadata": {
        "id": "eYRJt0igQ709"
      },
      "outputs": [],
      "source": [
        "targets = pd.merge(t1.loc[t1.target==1], x_lab, on='subject_id', how='inner')"
      ]
    },
    {
      "cell_type": "code",
      "execution_count": 64,
      "metadata": {
        "id": "jVoWMz5kusFU"
      },
      "outputs": [],
      "source": [
        "result = pd.concat((result1, result2, result3, result4, targets), ignore_index=True)"
      ]
    },
    {
      "cell_type": "code",
      "execution_count": 65,
      "metadata": {
        "id": "2KxWp4hppF7I"
      },
      "outputs": [],
      "source": [
        "subjects = result.subject_id"
      ]
    },
    {
      "cell_type": "code",
      "execution_count": 66,
      "metadata": {
        "id": "8HLS9DUAiw7n"
      },
      "outputs": [],
      "source": [
        "del result1, result2, result3, result4, targets"
      ]
    },
    {
      "cell_type": "code",
      "execution_count": 67,
      "metadata": {
        "id": "Wcl0iShWhHts"
      },
      "outputs": [],
      "source": [
        "result = result.groupby('subject_id').ffill().fillna(-1)"
      ]
    },
    {
      "cell_type": "code",
      "execution_count": 68,
      "metadata": {
        "id": "V4q3t-_yikfE"
      },
      "outputs": [],
      "source": [
        "result['subject_id'] = subjects"
      ]
    },
    {
      "cell_type": "code",
      "execution_count": 70,
      "metadata": {
        "id": "Z_Qrl_3E6SXW"
      },
      "outputs": [],
      "source": [
        "del d_lab, labevents"
      ]
    },
    {
      "cell_type": "code",
      "execution_count": 71,
      "metadata": {
        "id": "0IaDZIsx7M_z"
      },
      "outputs": [],
      "source": [
        "del transfers"
      ]
    },
    {
      "cell_type": "code",
      "execution_count": 73,
      "metadata": {
        "id": "QYvkcS3KYtK6"
      },
      "outputs": [],
      "source": [
        "res_ds = result.merge(cat_lab, on=['subject_id', 'charttime'], how='inner')"
      ]
    },
    {
      "cell_type": "code",
      "execution_count": 74,
      "metadata": {
        "id": "iy9lVZP5LTIb"
      },
      "outputs": [],
      "source": [
        "rdc = res_ds.groupby(['subject_id', 'charttime']).last().reset_index()"
      ]
    },
    {
      "cell_type": "code",
      "execution_count": 75,
      "metadata": {
        "id": "HiuVl9x9RzUH"
      },
      "outputs": [],
      "source": [
        "rdc[['subject_id', 'charttime']] = list(res_ds.groupby(['subject_id', 'charttime']).last().index)"
      ]
    },
    {
      "cell_type": "code",
      "execution_count": 76,
      "metadata": {
        "id": "OPAAs_8YR-rv"
      },
      "outputs": [],
      "source": [
        "res_ds = rdc"
      ]
    },
    {
      "cell_type": "code",
      "execution_count": 77,
      "metadata": {
        "colab": {
          "base_uri": "https://localhost:8080/"
        },
        "id": "KzIpxoZYnEeJ",
        "outputId": "b067bd79-a578-4f1b-e1a0-5bac08e944a4"
      },
      "outputs": [
        {
          "output_type": "stream",
          "name": "stdout",
          "text": [
            "28.693770254669875 1.2311948051948052\n",
            "0.14067283513586093\n"
          ]
        }
      ],
      "source": [
        "f = 2_000_000 - (a1 + a2 + a3 + a4)\n",
        "sf = len(res_ds) - res_ds.target.sum()\n",
        "wf = (f + sf) / sf\n",
        "t = a1  + a2 + a3 + a4\n",
        "st = res_ds.target.sum()\n",
        "wt = (t + st) / st\n",
        "print(wf, wt)\n",
        "print(result.target.sum() / len(result))"
      ]
    },
    {
      "cell_type": "code",
      "execution_count": 78,
      "metadata": {
        "id": "grWmOlbcaV9a"
      },
      "outputs": [],
      "source": [
        "all_feats = feats + num_cols# + cat_cols"
      ]
    },
    {
      "cell_type": "code",
      "execution_count": 80,
      "metadata": {
        "colab": {
          "base_uri": "https://localhost:8080/"
        },
        "id": "c2RwOy2LOgmd",
        "outputId": "d2880425-5dce-462e-c637-77bcfc02b9bc"
      },
      "outputs": [
        {
          "output_type": "execute_result",
          "data": {
            "text/plain": [
              "110397"
            ]
          },
          "metadata": {},
          "execution_count": 80
        }
      ],
      "source": [
        "len(res_ds)"
      ]
    },
    {
      "cell_type": "code",
      "execution_count": 81,
      "metadata": {
        "colab": {
          "base_uri": "https://localhost:8080/"
        },
        "id": "xO4CqYbXOm68",
        "outputId": "8b058c70-31ab-41f4-8ab5-b0a5527cb932"
      },
      "outputs": [
        {
          "output_type": "execute_result",
          "data": {
            "text/plain": [
              "4194"
            ]
          },
          "metadata": {},
          "execution_count": 81
        }
      ],
      "source": [
        "len(res_ds.subject_id.unique())"
      ]
    },
    {
      "cell_type": "code",
      "execution_count": 82,
      "metadata": {
        "id": "UgEN_CltFned"
      },
      "outputs": [],
      "source": [
        "train_ids = res_ds.subject_id.unique()[:3300]\n",
        "test_ids = res_ds.subject_id.unique()[3300:]"
      ]
    },
    {
      "cell_type": "code",
      "execution_count": 83,
      "metadata": {
        "id": "_bYfvYO-7CKt"
      },
      "outputs": [],
      "source": [
        "train_feats = feats + num_cols# + list(res_ds.columns[139:])"
      ]
    },
    {
      "cell_type": "code",
      "execution_count": 84,
      "metadata": {
        "id": "uoS0uHLxGuBZ"
      },
      "outputs": [],
      "source": [
        "X_train = res_ds.loc[res_ds.subject_id.isin(train_ids)][train_feats[2:]]\n",
        "X_test = res_ds.loc[res_ds.subject_id.isin(test_ids)][train_feats[2:]]\n",
        "y_train = res_ds.loc[res_ds.subject_id.isin(train_ids)].target\n",
        "y_test = res_ds.loc[res_ds.subject_id.isin(test_ids)].target"
      ]
    },
    {
      "cell_type": "code",
      "execution_count": 85,
      "metadata": {
        "id": "Digv-IclYD1f"
      },
      "outputs": [],
      "source": [
        "from xgboost import XGBClassifier\n",
        "from sklearn.metrics import accuracy_score, roc_auc_score"
      ]
    },
    {
      "cell_type": "code",
      "execution_count": 86,
      "metadata": {
        "id": "LT4ar8sbHB5M"
      },
      "outputs": [],
      "source": [
        "def PSI(seq1, seq2, decil=range(1, 99, 1)):\n",
        "    seq1 = seq1.fillna(-1).sort_values()\n",
        "    l_range = [-np.inf] + list(np.percentile(seq1, list (decil))) + [np.inf]\n",
        "    l_per_train = []\n",
        "    l_per_test = []\n",
        "    l_decil = []\n",
        "    for i, j in zip(l_range[:-1], l_range[1:]):\n",
        "        l_per_train.append(len(seq1[(seq1 > i) & (seq1 <= j)]) / len(seq1) * 100)\n",
        "        l_per_test.append(len(seq2[(seq2 > i) & (seq2 <= j)]) / len(seq2) * 100)\n",
        "        l_decil.append([i, j])\n",
        "    data_psi = pd.DataFrame({'decil': l_decil, 'train, %': l_per_train, 'test, %': l_per_test})\n",
        "    quotient = data_psi['test, %'] / data_psi['train, %']\n",
        "    quotient[quotient==0] = 0.5\n",
        "    data_psi['PSI, %'] = (data_psi['test, %'] - data_psi['train, %']) * [math.log(i) for i in quotient]\n",
        "    data_psi['PSI, %'][(data_psi['test, %'] - data_psi['train, %']) == 0] = 0\n",
        "    return data_psi"
      ]
    },
    {
      "cell_type": "code",
      "execution_count": 87,
      "metadata": {
        "id": "8R1FXKO3KpLB"
      },
      "outputs": [],
      "source": [
        "import math"
      ]
    },
    {
      "cell_type": "code",
      "execution_count": 88,
      "metadata": {
        "colab": {
          "base_uri": "https://localhost:8080/"
        },
        "id": "quodrNwNJy3k",
        "outputId": "c93f99ac-ff64-4cab-ef0e-4b7d984ca426"
      },
      "outputs": [
        {
          "output_type": "stream",
          "name": "stdout",
          "text": [
            "% Hemoglobin A1c\n",
            "Absolute Basophil Count\n",
            "Absolute Eosinophil Count\n",
            "Absolute Lymphocyte Count\n",
            "Absolute Monocyte Count\n",
            "Absolute Neutrophil Count\n",
            "Alanine Aminotransferase (ALT)\n",
            "Albumin\n",
            "Alkaline Phosphatase\n"
          ]
        },
        {
          "output_type": "stream",
          "name": "stderr",
          "text": [
            "<ipython-input-86-53c554007e9e>:15: SettingWithCopyWarning: \n",
            "A value is trying to be set on a copy of a slice from a DataFrame\n",
            "\n",
            "See the caveats in the documentation: https://pandas.pydata.org/pandas-docs/stable/user_guide/indexing.html#returning-a-view-versus-a-copy\n",
            "  data_psi['PSI, %'][(data_psi['test, %'] - data_psi['train, %']) == 0] = 0\n",
            "<ipython-input-86-53c554007e9e>:15: SettingWithCopyWarning: \n",
            "A value is trying to be set on a copy of a slice from a DataFrame\n",
            "\n",
            "See the caveats in the documentation: https://pandas.pydata.org/pandas-docs/stable/user_guide/indexing.html#returning-a-view-versus-a-copy\n",
            "  data_psi['PSI, %'][(data_psi['test, %'] - data_psi['train, %']) == 0] = 0\n",
            "<ipython-input-86-53c554007e9e>:15: SettingWithCopyWarning: \n",
            "A value is trying to be set on a copy of a slice from a DataFrame\n",
            "\n",
            "See the caveats in the documentation: https://pandas.pydata.org/pandas-docs/stable/user_guide/indexing.html#returning-a-view-versus-a-copy\n",
            "  data_psi['PSI, %'][(data_psi['test, %'] - data_psi['train, %']) == 0] = 0\n",
            "<ipython-input-86-53c554007e9e>:15: SettingWithCopyWarning: \n",
            "A value is trying to be set on a copy of a slice from a DataFrame\n",
            "\n",
            "See the caveats in the documentation: https://pandas.pydata.org/pandas-docs/stable/user_guide/indexing.html#returning-a-view-versus-a-copy\n",
            "  data_psi['PSI, %'][(data_psi['test, %'] - data_psi['train, %']) == 0] = 0\n",
            "<ipython-input-86-53c554007e9e>:15: SettingWithCopyWarning: \n",
            "A value is trying to be set on a copy of a slice from a DataFrame\n",
            "\n",
            "See the caveats in the documentation: https://pandas.pydata.org/pandas-docs/stable/user_guide/indexing.html#returning-a-view-versus-a-copy\n",
            "  data_psi['PSI, %'][(data_psi['test, %'] - data_psi['train, %']) == 0] = 0\n",
            "<ipython-input-86-53c554007e9e>:15: SettingWithCopyWarning: \n",
            "A value is trying to be set on a copy of a slice from a DataFrame\n",
            "\n",
            "See the caveats in the documentation: https://pandas.pydata.org/pandas-docs/stable/user_guide/indexing.html#returning-a-view-versus-a-copy\n",
            "  data_psi['PSI, %'][(data_psi['test, %'] - data_psi['train, %']) == 0] = 0\n",
            "<ipython-input-86-53c554007e9e>:15: SettingWithCopyWarning: \n",
            "A value is trying to be set on a copy of a slice from a DataFrame\n",
            "\n",
            "See the caveats in the documentation: https://pandas.pydata.org/pandas-docs/stable/user_guide/indexing.html#returning-a-view-versus-a-copy\n",
            "  data_psi['PSI, %'][(data_psi['test, %'] - data_psi['train, %']) == 0] = 0\n",
            "<ipython-input-86-53c554007e9e>:15: SettingWithCopyWarning: \n",
            "A value is trying to be set on a copy of a slice from a DataFrame\n",
            "\n",
            "See the caveats in the documentation: https://pandas.pydata.org/pandas-docs/stable/user_guide/indexing.html#returning-a-view-versus-a-copy\n",
            "  data_psi['PSI, %'][(data_psi['test, %'] - data_psi['train, %']) == 0] = 0\n",
            "<ipython-input-86-53c554007e9e>:15: SettingWithCopyWarning: \n",
            "A value is trying to be set on a copy of a slice from a DataFrame\n",
            "\n",
            "See the caveats in the documentation: https://pandas.pydata.org/pandas-docs/stable/user_guide/indexing.html#returning-a-view-versus-a-copy\n",
            "  data_psi['PSI, %'][(data_psi['test, %'] - data_psi['train, %']) == 0] = 0\n"
          ]
        },
        {
          "output_type": "stream",
          "name": "stdout",
          "text": [
            "Anion Gap\n",
            "Asparate Aminotransferase (AST)\n",
            "Atypical Lymphocytes\n",
            "Bands\n",
            "Base Excess\n",
            "Bicarbonate\n",
            "Bilirubin, Total\n",
            "Calcium, Total\n",
            "Calculated Total CO2\n"
          ]
        },
        {
          "output_type": "stream",
          "name": "stderr",
          "text": [
            "<ipython-input-86-53c554007e9e>:15: SettingWithCopyWarning: \n",
            "A value is trying to be set on a copy of a slice from a DataFrame\n",
            "\n",
            "See the caveats in the documentation: https://pandas.pydata.org/pandas-docs/stable/user_guide/indexing.html#returning-a-view-versus-a-copy\n",
            "  data_psi['PSI, %'][(data_psi['test, %'] - data_psi['train, %']) == 0] = 0\n",
            "<ipython-input-86-53c554007e9e>:15: SettingWithCopyWarning: \n",
            "A value is trying to be set on a copy of a slice from a DataFrame\n",
            "\n",
            "See the caveats in the documentation: https://pandas.pydata.org/pandas-docs/stable/user_guide/indexing.html#returning-a-view-versus-a-copy\n",
            "  data_psi['PSI, %'][(data_psi['test, %'] - data_psi['train, %']) == 0] = 0\n",
            "<ipython-input-86-53c554007e9e>:15: SettingWithCopyWarning: \n",
            "A value is trying to be set on a copy of a slice from a DataFrame\n",
            "\n",
            "See the caveats in the documentation: https://pandas.pydata.org/pandas-docs/stable/user_guide/indexing.html#returning-a-view-versus-a-copy\n",
            "  data_psi['PSI, %'][(data_psi['test, %'] - data_psi['train, %']) == 0] = 0\n",
            "<ipython-input-86-53c554007e9e>:15: SettingWithCopyWarning: \n",
            "A value is trying to be set on a copy of a slice from a DataFrame\n",
            "\n",
            "See the caveats in the documentation: https://pandas.pydata.org/pandas-docs/stable/user_guide/indexing.html#returning-a-view-versus-a-copy\n",
            "  data_psi['PSI, %'][(data_psi['test, %'] - data_psi['train, %']) == 0] = 0\n",
            "<ipython-input-86-53c554007e9e>:15: SettingWithCopyWarning: \n",
            "A value is trying to be set on a copy of a slice from a DataFrame\n",
            "\n",
            "See the caveats in the documentation: https://pandas.pydata.org/pandas-docs/stable/user_guide/indexing.html#returning-a-view-versus-a-copy\n",
            "  data_psi['PSI, %'][(data_psi['test, %'] - data_psi['train, %']) == 0] = 0\n",
            "<ipython-input-86-53c554007e9e>:15: SettingWithCopyWarning: \n",
            "A value is trying to be set on a copy of a slice from a DataFrame\n",
            "\n",
            "See the caveats in the documentation: https://pandas.pydata.org/pandas-docs/stable/user_guide/indexing.html#returning-a-view-versus-a-copy\n",
            "  data_psi['PSI, %'][(data_psi['test, %'] - data_psi['train, %']) == 0] = 0\n",
            "<ipython-input-86-53c554007e9e>:15: SettingWithCopyWarning: \n",
            "A value is trying to be set on a copy of a slice from a DataFrame\n",
            "\n",
            "See the caveats in the documentation: https://pandas.pydata.org/pandas-docs/stable/user_guide/indexing.html#returning-a-view-versus-a-copy\n",
            "  data_psi['PSI, %'][(data_psi['test, %'] - data_psi['train, %']) == 0] = 0\n",
            "<ipython-input-86-53c554007e9e>:15: SettingWithCopyWarning: \n",
            "A value is trying to be set on a copy of a slice from a DataFrame\n",
            "\n",
            "See the caveats in the documentation: https://pandas.pydata.org/pandas-docs/stable/user_guide/indexing.html#returning-a-view-versus-a-copy\n",
            "  data_psi['PSI, %'][(data_psi['test, %'] - data_psi['train, %']) == 0] = 0\n",
            "<ipython-input-86-53c554007e9e>:15: SettingWithCopyWarning: \n",
            "A value is trying to be set on a copy of a slice from a DataFrame\n",
            "\n",
            "See the caveats in the documentation: https://pandas.pydata.org/pandas-docs/stable/user_guide/indexing.html#returning-a-view-versus-a-copy\n",
            "  data_psi['PSI, %'][(data_psi['test, %'] - data_psi['train, %']) == 0] = 0\n"
          ]
        },
        {
          "output_type": "stream",
          "name": "stdout",
          "text": [
            "Chloride\n",
            "Cholesterol Ratio (Total/HDL)\n",
            "Cholesterol, HDL\n",
            "Cholesterol, LDL, Calculated\n",
            "Cholesterol, Total\n",
            "Creatine Kinase (CK)\n",
            "Creatine Kinase, MB Isoenzyme\n",
            "Creatinine\n",
            "Creatinine, Urine\n",
            "Eosinophils\n"
          ]
        },
        {
          "output_type": "stream",
          "name": "stderr",
          "text": [
            "<ipython-input-86-53c554007e9e>:15: SettingWithCopyWarning: \n",
            "A value is trying to be set on a copy of a slice from a DataFrame\n",
            "\n",
            "See the caveats in the documentation: https://pandas.pydata.org/pandas-docs/stable/user_guide/indexing.html#returning-a-view-versus-a-copy\n",
            "  data_psi['PSI, %'][(data_psi['test, %'] - data_psi['train, %']) == 0] = 0\n",
            "<ipython-input-86-53c554007e9e>:15: SettingWithCopyWarning: \n",
            "A value is trying to be set on a copy of a slice from a DataFrame\n",
            "\n",
            "See the caveats in the documentation: https://pandas.pydata.org/pandas-docs/stable/user_guide/indexing.html#returning-a-view-versus-a-copy\n",
            "  data_psi['PSI, %'][(data_psi['test, %'] - data_psi['train, %']) == 0] = 0\n",
            "<ipython-input-86-53c554007e9e>:15: SettingWithCopyWarning: \n",
            "A value is trying to be set on a copy of a slice from a DataFrame\n",
            "\n",
            "See the caveats in the documentation: https://pandas.pydata.org/pandas-docs/stable/user_guide/indexing.html#returning-a-view-versus-a-copy\n",
            "  data_psi['PSI, %'][(data_psi['test, %'] - data_psi['train, %']) == 0] = 0\n",
            "<ipython-input-86-53c554007e9e>:15: SettingWithCopyWarning: \n",
            "A value is trying to be set on a copy of a slice from a DataFrame\n",
            "\n",
            "See the caveats in the documentation: https://pandas.pydata.org/pandas-docs/stable/user_guide/indexing.html#returning-a-view-versus-a-copy\n",
            "  data_psi['PSI, %'][(data_psi['test, %'] - data_psi['train, %']) == 0] = 0\n",
            "<ipython-input-86-53c554007e9e>:15: SettingWithCopyWarning: \n",
            "A value is trying to be set on a copy of a slice from a DataFrame\n",
            "\n",
            "See the caveats in the documentation: https://pandas.pydata.org/pandas-docs/stable/user_guide/indexing.html#returning-a-view-versus-a-copy\n",
            "  data_psi['PSI, %'][(data_psi['test, %'] - data_psi['train, %']) == 0] = 0\n",
            "<ipython-input-86-53c554007e9e>:15: SettingWithCopyWarning: \n",
            "A value is trying to be set on a copy of a slice from a DataFrame\n",
            "\n",
            "See the caveats in the documentation: https://pandas.pydata.org/pandas-docs/stable/user_guide/indexing.html#returning-a-view-versus-a-copy\n",
            "  data_psi['PSI, %'][(data_psi['test, %'] - data_psi['train, %']) == 0] = 0\n",
            "<ipython-input-86-53c554007e9e>:15: SettingWithCopyWarning: \n",
            "A value is trying to be set on a copy of a slice from a DataFrame\n",
            "\n",
            "See the caveats in the documentation: https://pandas.pydata.org/pandas-docs/stable/user_guide/indexing.html#returning-a-view-versus-a-copy\n",
            "  data_psi['PSI, %'][(data_psi['test, %'] - data_psi['train, %']) == 0] = 0\n",
            "<ipython-input-86-53c554007e9e>:15: SettingWithCopyWarning: \n",
            "A value is trying to be set on a copy of a slice from a DataFrame\n",
            "\n",
            "See the caveats in the documentation: https://pandas.pydata.org/pandas-docs/stable/user_guide/indexing.html#returning-a-view-versus-a-copy\n",
            "  data_psi['PSI, %'][(data_psi['test, %'] - data_psi['train, %']) == 0] = 0\n",
            "<ipython-input-86-53c554007e9e>:15: SettingWithCopyWarning: \n",
            "A value is trying to be set on a copy of a slice from a DataFrame\n",
            "\n",
            "See the caveats in the documentation: https://pandas.pydata.org/pandas-docs/stable/user_guide/indexing.html#returning-a-view-versus-a-copy\n",
            "  data_psi['PSI, %'][(data_psi['test, %'] - data_psi['train, %']) == 0] = 0\n",
            "<ipython-input-86-53c554007e9e>:15: SettingWithCopyWarning: \n",
            "A value is trying to be set on a copy of a slice from a DataFrame\n",
            "\n",
            "See the caveats in the documentation: https://pandas.pydata.org/pandas-docs/stable/user_guide/indexing.html#returning-a-view-versus-a-copy\n",
            "  data_psi['PSI, %'][(data_psi['test, %'] - data_psi['train, %']) == 0] = 0\n"
          ]
        },
        {
          "output_type": "stream",
          "name": "stdout",
          "text": [
            "Ferritin\n",
            "Free Calcium\n",
            "Globulin\n",
            "H\n",
            "Hematocrit\n",
            "Hemoglobin\n",
            "I\n",
            "Immature Granulocytes\n",
            "L\n",
            "Lactate\n"
          ]
        },
        {
          "output_type": "stream",
          "name": "stderr",
          "text": [
            "<ipython-input-86-53c554007e9e>:15: SettingWithCopyWarning: \n",
            "A value is trying to be set on a copy of a slice from a DataFrame\n",
            "\n",
            "See the caveats in the documentation: https://pandas.pydata.org/pandas-docs/stable/user_guide/indexing.html#returning-a-view-versus-a-copy\n",
            "  data_psi['PSI, %'][(data_psi['test, %'] - data_psi['train, %']) == 0] = 0\n",
            "<ipython-input-86-53c554007e9e>:15: SettingWithCopyWarning: \n",
            "A value is trying to be set on a copy of a slice from a DataFrame\n",
            "\n",
            "See the caveats in the documentation: https://pandas.pydata.org/pandas-docs/stable/user_guide/indexing.html#returning-a-view-versus-a-copy\n",
            "  data_psi['PSI, %'][(data_psi['test, %'] - data_psi['train, %']) == 0] = 0\n",
            "<ipython-input-86-53c554007e9e>:15: SettingWithCopyWarning: \n",
            "A value is trying to be set on a copy of a slice from a DataFrame\n",
            "\n",
            "See the caveats in the documentation: https://pandas.pydata.org/pandas-docs/stable/user_guide/indexing.html#returning-a-view-versus-a-copy\n",
            "  data_psi['PSI, %'][(data_psi['test, %'] - data_psi['train, %']) == 0] = 0\n",
            "<ipython-input-86-53c554007e9e>:15: SettingWithCopyWarning: \n",
            "A value is trying to be set on a copy of a slice from a DataFrame\n",
            "\n",
            "See the caveats in the documentation: https://pandas.pydata.org/pandas-docs/stable/user_guide/indexing.html#returning-a-view-versus-a-copy\n",
            "  data_psi['PSI, %'][(data_psi['test, %'] - data_psi['train, %']) == 0] = 0\n",
            "<ipython-input-86-53c554007e9e>:15: SettingWithCopyWarning: \n",
            "A value is trying to be set on a copy of a slice from a DataFrame\n",
            "\n",
            "See the caveats in the documentation: https://pandas.pydata.org/pandas-docs/stable/user_guide/indexing.html#returning-a-view-versus-a-copy\n",
            "  data_psi['PSI, %'][(data_psi['test, %'] - data_psi['train, %']) == 0] = 0\n",
            "<ipython-input-86-53c554007e9e>:15: SettingWithCopyWarning: \n",
            "A value is trying to be set on a copy of a slice from a DataFrame\n",
            "\n",
            "See the caveats in the documentation: https://pandas.pydata.org/pandas-docs/stable/user_guide/indexing.html#returning-a-view-versus-a-copy\n",
            "  data_psi['PSI, %'][(data_psi['test, %'] - data_psi['train, %']) == 0] = 0\n",
            "<ipython-input-86-53c554007e9e>:15: SettingWithCopyWarning: \n",
            "A value is trying to be set on a copy of a slice from a DataFrame\n",
            "\n",
            "See the caveats in the documentation: https://pandas.pydata.org/pandas-docs/stable/user_guide/indexing.html#returning-a-view-versus-a-copy\n",
            "  data_psi['PSI, %'][(data_psi['test, %'] - data_psi['train, %']) == 0] = 0\n",
            "<ipython-input-86-53c554007e9e>:15: SettingWithCopyWarning: \n",
            "A value is trying to be set on a copy of a slice from a DataFrame\n",
            "\n",
            "See the caveats in the documentation: https://pandas.pydata.org/pandas-docs/stable/user_guide/indexing.html#returning-a-view-versus-a-copy\n",
            "  data_psi['PSI, %'][(data_psi['test, %'] - data_psi['train, %']) == 0] = 0\n",
            "<ipython-input-86-53c554007e9e>:15: SettingWithCopyWarning: \n",
            "A value is trying to be set on a copy of a slice from a DataFrame\n",
            "\n",
            "See the caveats in the documentation: https://pandas.pydata.org/pandas-docs/stable/user_guide/indexing.html#returning-a-view-versus-a-copy\n",
            "  data_psi['PSI, %'][(data_psi['test, %'] - data_psi['train, %']) == 0] = 0\n",
            "<ipython-input-86-53c554007e9e>:15: SettingWithCopyWarning: \n",
            "A value is trying to be set on a copy of a slice from a DataFrame\n",
            "\n",
            "See the caveats in the documentation: https://pandas.pydata.org/pandas-docs/stable/user_guide/indexing.html#returning-a-view-versus-a-copy\n",
            "  data_psi['PSI, %'][(data_psi['test, %'] - data_psi['train, %']) == 0] = 0\n"
          ]
        },
        {
          "output_type": "stream",
          "name": "stdout",
          "text": [
            "Lactate Dehydrogenase (LD)\n",
            "Lipase\n",
            "Lymphocytes\n",
            "MCH\n",
            "MCHC\n",
            "MCV\n",
            "Magnesium\n",
            "Metamyelocytes\n",
            "Monocytes\n"
          ]
        },
        {
          "output_type": "stream",
          "name": "stderr",
          "text": [
            "<ipython-input-86-53c554007e9e>:15: SettingWithCopyWarning: \n",
            "A value is trying to be set on a copy of a slice from a DataFrame\n",
            "\n",
            "See the caveats in the documentation: https://pandas.pydata.org/pandas-docs/stable/user_guide/indexing.html#returning-a-view-versus-a-copy\n",
            "  data_psi['PSI, %'][(data_psi['test, %'] - data_psi['train, %']) == 0] = 0\n",
            "<ipython-input-86-53c554007e9e>:15: SettingWithCopyWarning: \n",
            "A value is trying to be set on a copy of a slice from a DataFrame\n",
            "\n",
            "See the caveats in the documentation: https://pandas.pydata.org/pandas-docs/stable/user_guide/indexing.html#returning-a-view-versus-a-copy\n",
            "  data_psi['PSI, %'][(data_psi['test, %'] - data_psi['train, %']) == 0] = 0\n",
            "<ipython-input-86-53c554007e9e>:15: SettingWithCopyWarning: \n",
            "A value is trying to be set on a copy of a slice from a DataFrame\n",
            "\n",
            "See the caveats in the documentation: https://pandas.pydata.org/pandas-docs/stable/user_guide/indexing.html#returning-a-view-versus-a-copy\n",
            "  data_psi['PSI, %'][(data_psi['test, %'] - data_psi['train, %']) == 0] = 0\n",
            "<ipython-input-86-53c554007e9e>:15: SettingWithCopyWarning: \n",
            "A value is trying to be set on a copy of a slice from a DataFrame\n",
            "\n",
            "See the caveats in the documentation: https://pandas.pydata.org/pandas-docs/stable/user_guide/indexing.html#returning-a-view-versus-a-copy\n",
            "  data_psi['PSI, %'][(data_psi['test, %'] - data_psi['train, %']) == 0] = 0\n",
            "<ipython-input-86-53c554007e9e>:15: SettingWithCopyWarning: \n",
            "A value is trying to be set on a copy of a slice from a DataFrame\n",
            "\n",
            "See the caveats in the documentation: https://pandas.pydata.org/pandas-docs/stable/user_guide/indexing.html#returning-a-view-versus-a-copy\n",
            "  data_psi['PSI, %'][(data_psi['test, %'] - data_psi['train, %']) == 0] = 0\n",
            "<ipython-input-86-53c554007e9e>:15: SettingWithCopyWarning: \n",
            "A value is trying to be set on a copy of a slice from a DataFrame\n",
            "\n",
            "See the caveats in the documentation: https://pandas.pydata.org/pandas-docs/stable/user_guide/indexing.html#returning-a-view-versus-a-copy\n",
            "  data_psi['PSI, %'][(data_psi['test, %'] - data_psi['train, %']) == 0] = 0\n",
            "<ipython-input-86-53c554007e9e>:15: SettingWithCopyWarning: \n",
            "A value is trying to be set on a copy of a slice from a DataFrame\n",
            "\n",
            "See the caveats in the documentation: https://pandas.pydata.org/pandas-docs/stable/user_guide/indexing.html#returning-a-view-versus-a-copy\n",
            "  data_psi['PSI, %'][(data_psi['test, %'] - data_psi['train, %']) == 0] = 0\n",
            "<ipython-input-86-53c554007e9e>:15: SettingWithCopyWarning: \n",
            "A value is trying to be set on a copy of a slice from a DataFrame\n",
            "\n",
            "See the caveats in the documentation: https://pandas.pydata.org/pandas-docs/stable/user_guide/indexing.html#returning-a-view-versus-a-copy\n",
            "  data_psi['PSI, %'][(data_psi['test, %'] - data_psi['train, %']) == 0] = 0\n",
            "<ipython-input-86-53c554007e9e>:15: SettingWithCopyWarning: \n",
            "A value is trying to be set on a copy of a slice from a DataFrame\n",
            "\n",
            "See the caveats in the documentation: https://pandas.pydata.org/pandas-docs/stable/user_guide/indexing.html#returning-a-view-versus-a-copy\n",
            "  data_psi['PSI, %'][(data_psi['test, %'] - data_psi['train, %']) == 0] = 0\n"
          ]
        },
        {
          "output_type": "stream",
          "name": "stdout",
          "text": [
            "Myelocytes\n",
            "Neutrophils\n",
            "Oxygen Saturation\n",
            "Phosphate\n",
            "Platelet Count\n",
            "Potassium\n",
            "Potassium, Whole Blood\n",
            "Protein, Total\n",
            "RDW-SD\n",
            "Red Blood Cells\n"
          ]
        },
        {
          "output_type": "stream",
          "name": "stderr",
          "text": [
            "<ipython-input-86-53c554007e9e>:15: SettingWithCopyWarning: \n",
            "A value is trying to be set on a copy of a slice from a DataFrame\n",
            "\n",
            "See the caveats in the documentation: https://pandas.pydata.org/pandas-docs/stable/user_guide/indexing.html#returning-a-view-versus-a-copy\n",
            "  data_psi['PSI, %'][(data_psi['test, %'] - data_psi['train, %']) == 0] = 0\n",
            "<ipython-input-86-53c554007e9e>:15: SettingWithCopyWarning: \n",
            "A value is trying to be set on a copy of a slice from a DataFrame\n",
            "\n",
            "See the caveats in the documentation: https://pandas.pydata.org/pandas-docs/stable/user_guide/indexing.html#returning-a-view-versus-a-copy\n",
            "  data_psi['PSI, %'][(data_psi['test, %'] - data_psi['train, %']) == 0] = 0\n",
            "<ipython-input-86-53c554007e9e>:15: SettingWithCopyWarning: \n",
            "A value is trying to be set on a copy of a slice from a DataFrame\n",
            "\n",
            "See the caveats in the documentation: https://pandas.pydata.org/pandas-docs/stable/user_guide/indexing.html#returning-a-view-versus-a-copy\n",
            "  data_psi['PSI, %'][(data_psi['test, %'] - data_psi['train, %']) == 0] = 0\n",
            "<ipython-input-86-53c554007e9e>:15: SettingWithCopyWarning: \n",
            "A value is trying to be set on a copy of a slice from a DataFrame\n",
            "\n",
            "See the caveats in the documentation: https://pandas.pydata.org/pandas-docs/stable/user_guide/indexing.html#returning-a-view-versus-a-copy\n",
            "  data_psi['PSI, %'][(data_psi['test, %'] - data_psi['train, %']) == 0] = 0\n",
            "<ipython-input-86-53c554007e9e>:15: SettingWithCopyWarning: \n",
            "A value is trying to be set on a copy of a slice from a DataFrame\n",
            "\n",
            "See the caveats in the documentation: https://pandas.pydata.org/pandas-docs/stable/user_guide/indexing.html#returning-a-view-versus-a-copy\n",
            "  data_psi['PSI, %'][(data_psi['test, %'] - data_psi['train, %']) == 0] = 0\n",
            "<ipython-input-86-53c554007e9e>:15: SettingWithCopyWarning: \n",
            "A value is trying to be set on a copy of a slice from a DataFrame\n",
            "\n",
            "See the caveats in the documentation: https://pandas.pydata.org/pandas-docs/stable/user_guide/indexing.html#returning-a-view-versus-a-copy\n",
            "  data_psi['PSI, %'][(data_psi['test, %'] - data_psi['train, %']) == 0] = 0\n",
            "<ipython-input-86-53c554007e9e>:15: SettingWithCopyWarning: \n",
            "A value is trying to be set on a copy of a slice from a DataFrame\n",
            "\n",
            "See the caveats in the documentation: https://pandas.pydata.org/pandas-docs/stable/user_guide/indexing.html#returning-a-view-versus-a-copy\n",
            "  data_psi['PSI, %'][(data_psi['test, %'] - data_psi['train, %']) == 0] = 0\n",
            "<ipython-input-86-53c554007e9e>:15: SettingWithCopyWarning: \n",
            "A value is trying to be set on a copy of a slice from a DataFrame\n",
            "\n",
            "See the caveats in the documentation: https://pandas.pydata.org/pandas-docs/stable/user_guide/indexing.html#returning-a-view-versus-a-copy\n",
            "  data_psi['PSI, %'][(data_psi['test, %'] - data_psi['train, %']) == 0] = 0\n",
            "<ipython-input-86-53c554007e9e>:15: SettingWithCopyWarning: \n",
            "A value is trying to be set on a copy of a slice from a DataFrame\n",
            "\n",
            "See the caveats in the documentation: https://pandas.pydata.org/pandas-docs/stable/user_guide/indexing.html#returning-a-view-versus-a-copy\n",
            "  data_psi['PSI, %'][(data_psi['test, %'] - data_psi['train, %']) == 0] = 0\n",
            "<ipython-input-86-53c554007e9e>:15: SettingWithCopyWarning: \n",
            "A value is trying to be set on a copy of a slice from a DataFrame\n",
            "\n",
            "See the caveats in the documentation: https://pandas.pydata.org/pandas-docs/stable/user_guide/indexing.html#returning-a-view-versus-a-copy\n",
            "  data_psi['PSI, %'][(data_psi['test, %'] - data_psi['train, %']) == 0] = 0\n",
            "<ipython-input-86-53c554007e9e>:15: SettingWithCopyWarning: \n",
            "A value is trying to be set on a copy of a slice from a DataFrame\n",
            "\n",
            "See the caveats in the documentation: https://pandas.pydata.org/pandas-docs/stable/user_guide/indexing.html#returning-a-view-versus-a-copy\n",
            "  data_psi['PSI, %'][(data_psi['test, %'] - data_psi['train, %']) == 0] = 0\n",
            "<ipython-input-86-53c554007e9e>:15: SettingWithCopyWarning: \n",
            "A value is trying to be set on a copy of a slice from a DataFrame\n",
            "\n",
            "See the caveats in the documentation: https://pandas.pydata.org/pandas-docs/stable/user_guide/indexing.html#returning-a-view-versus-a-copy\n",
            "  data_psi['PSI, %'][(data_psi['test, %'] - data_psi['train, %']) == 0] = 0\n",
            "<ipython-input-86-53c554007e9e>:15: SettingWithCopyWarning: \n",
            "A value is trying to be set on a copy of a slice from a DataFrame\n",
            "\n",
            "See the caveats in the documentation: https://pandas.pydata.org/pandas-docs/stable/user_guide/indexing.html#returning-a-view-versus-a-copy\n",
            "  data_psi['PSI, %'][(data_psi['test, %'] - data_psi['train, %']) == 0] = 0\n",
            "<ipython-input-86-53c554007e9e>:15: SettingWithCopyWarning: \n",
            "A value is trying to be set on a copy of a slice from a DataFrame\n",
            "\n",
            "See the caveats in the documentation: https://pandas.pydata.org/pandas-docs/stable/user_guide/indexing.html#returning-a-view-versus-a-copy\n",
            "  data_psi['PSI, %'][(data_psi['test, %'] - data_psi['train, %']) == 0] = 0\n",
            "<ipython-input-86-53c554007e9e>:15: SettingWithCopyWarning: \n",
            "A value is trying to be set on a copy of a slice from a DataFrame\n",
            "\n",
            "See the caveats in the documentation: https://pandas.pydata.org/pandas-docs/stable/user_guide/indexing.html#returning-a-view-versus-a-copy\n",
            "  data_psi['PSI, %'][(data_psi['test, %'] - data_psi['train, %']) == 0] = 0\n",
            "<ipython-input-86-53c554007e9e>:15: SettingWithCopyWarning: \n",
            "A value is trying to be set on a copy of a slice from a DataFrame\n",
            "\n",
            "See the caveats in the documentation: https://pandas.pydata.org/pandas-docs/stable/user_guide/indexing.html#returning-a-view-versus-a-copy\n",
            "  data_psi['PSI, %'][(data_psi['test, %'] - data_psi['train, %']) == 0] = 0\n",
            "<ipython-input-86-53c554007e9e>:15: SettingWithCopyWarning: \n",
            "A value is trying to be set on a copy of a slice from a DataFrame\n",
            "\n",
            "See the caveats in the documentation: https://pandas.pydata.org/pandas-docs/stable/user_guide/indexing.html#returning-a-view-versus-a-copy\n",
            "  data_psi['PSI, %'][(data_psi['test, %'] - data_psi['train, %']) == 0] = 0\n",
            "<ipython-input-86-53c554007e9e>:15: SettingWithCopyWarning: \n",
            "A value is trying to be set on a copy of a slice from a DataFrame\n",
            "\n",
            "See the caveats in the documentation: https://pandas.pydata.org/pandas-docs/stable/user_guide/indexing.html#returning-a-view-versus-a-copy\n",
            "  data_psi['PSI, %'][(data_psi['test, %'] - data_psi['train, %']) == 0] = 0\n",
            "<ipython-input-86-53c554007e9e>:15: SettingWithCopyWarning: \n",
            "A value is trying to be set on a copy of a slice from a DataFrame\n",
            "\n",
            "See the caveats in the documentation: https://pandas.pydata.org/pandas-docs/stable/user_guide/indexing.html#returning-a-view-versus-a-copy\n",
            "  data_psi['PSI, %'][(data_psi['test, %'] - data_psi['train, %']) == 0] = 0\n"
          ]
        },
        {
          "output_type": "stream",
          "name": "stdout",
          "text": [
            "Sodium\n",
            "Thyroid Stimulating Hormone\n",
            "Triglycerides\n",
            "Troponin T\n",
            "Urea Nitrogen\n",
            "Uric Acid\n",
            "White Blood Cells\n",
            "eAG\n",
            "pCO2\n",
            "pO2\n"
          ]
        },
        {
          "output_type": "stream",
          "name": "stderr",
          "text": [
            "<ipython-input-86-53c554007e9e>:15: SettingWithCopyWarning: \n",
            "A value is trying to be set on a copy of a slice from a DataFrame\n",
            "\n",
            "See the caveats in the documentation: https://pandas.pydata.org/pandas-docs/stable/user_guide/indexing.html#returning-a-view-versus-a-copy\n",
            "  data_psi['PSI, %'][(data_psi['test, %'] - data_psi['train, %']) == 0] = 0\n",
            "<ipython-input-86-53c554007e9e>:15: SettingWithCopyWarning: \n",
            "A value is trying to be set on a copy of a slice from a DataFrame\n",
            "\n",
            "See the caveats in the documentation: https://pandas.pydata.org/pandas-docs/stable/user_guide/indexing.html#returning-a-view-versus-a-copy\n",
            "  data_psi['PSI, %'][(data_psi['test, %'] - data_psi['train, %']) == 0] = 0\n",
            "<ipython-input-86-53c554007e9e>:15: SettingWithCopyWarning: \n",
            "A value is trying to be set on a copy of a slice from a DataFrame\n",
            "\n",
            "See the caveats in the documentation: https://pandas.pydata.org/pandas-docs/stable/user_guide/indexing.html#returning-a-view-versus-a-copy\n",
            "  data_psi['PSI, %'][(data_psi['test, %'] - data_psi['train, %']) == 0] = 0\n",
            "<ipython-input-86-53c554007e9e>:15: SettingWithCopyWarning: \n",
            "A value is trying to be set on a copy of a slice from a DataFrame\n",
            "\n",
            "See the caveats in the documentation: https://pandas.pydata.org/pandas-docs/stable/user_guide/indexing.html#returning-a-view-versus-a-copy\n",
            "  data_psi['PSI, %'][(data_psi['test, %'] - data_psi['train, %']) == 0] = 0\n",
            "<ipython-input-86-53c554007e9e>:15: SettingWithCopyWarning: \n",
            "A value is trying to be set on a copy of a slice from a DataFrame\n",
            "\n",
            "See the caveats in the documentation: https://pandas.pydata.org/pandas-docs/stable/user_guide/indexing.html#returning-a-view-versus-a-copy\n",
            "  data_psi['PSI, %'][(data_psi['test, %'] - data_psi['train, %']) == 0] = 0\n",
            "<ipython-input-86-53c554007e9e>:15: SettingWithCopyWarning: \n",
            "A value is trying to be set on a copy of a slice from a DataFrame\n",
            "\n",
            "See the caveats in the documentation: https://pandas.pydata.org/pandas-docs/stable/user_guide/indexing.html#returning-a-view-versus-a-copy\n",
            "  data_psi['PSI, %'][(data_psi['test, %'] - data_psi['train, %']) == 0] = 0\n",
            "<ipython-input-86-53c554007e9e>:15: SettingWithCopyWarning: \n",
            "A value is trying to be set on a copy of a slice from a DataFrame\n",
            "\n",
            "See the caveats in the documentation: https://pandas.pydata.org/pandas-docs/stable/user_guide/indexing.html#returning-a-view-versus-a-copy\n",
            "  data_psi['PSI, %'][(data_psi['test, %'] - data_psi['train, %']) == 0] = 0\n",
            "<ipython-input-86-53c554007e9e>:15: SettingWithCopyWarning: \n",
            "A value is trying to be set on a copy of a slice from a DataFrame\n",
            "\n",
            "See the caveats in the documentation: https://pandas.pydata.org/pandas-docs/stable/user_guide/indexing.html#returning-a-view-versus-a-copy\n",
            "  data_psi['PSI, %'][(data_psi['test, %'] - data_psi['train, %']) == 0] = 0\n",
            "<ipython-input-86-53c554007e9e>:15: SettingWithCopyWarning: \n",
            "A value is trying to be set on a copy of a slice from a DataFrame\n",
            "\n",
            "See the caveats in the documentation: https://pandas.pydata.org/pandas-docs/stable/user_guide/indexing.html#returning-a-view-versus-a-copy\n",
            "  data_psi['PSI, %'][(data_psi['test, %'] - data_psi['train, %']) == 0] = 0\n",
            "<ipython-input-86-53c554007e9e>:15: SettingWithCopyWarning: \n",
            "A value is trying to be set on a copy of a slice from a DataFrame\n",
            "\n",
            "See the caveats in the documentation: https://pandas.pydata.org/pandas-docs/stable/user_guide/indexing.html#returning-a-view-versus-a-copy\n",
            "  data_psi['PSI, %'][(data_psi['test, %'] - data_psi['train, %']) == 0] = 0\n"
          ]
        },
        {
          "output_type": "stream",
          "name": "stdout",
          "text": [
            "INR(PT)_num\n",
            "Intubated_num\n",
            "Ketone_num\n",
            "PT_num\n",
            "Protein_num\n",
            "Specimen Type_num\n",
            "Uhold_num\n",
            "Basophils_num\n",
            "PTT_num\n",
            "RDW_num\n",
            "Urine Color_num\n",
            "pH_num\n"
          ]
        },
        {
          "output_type": "stream",
          "name": "stderr",
          "text": [
            "<ipython-input-86-53c554007e9e>:15: SettingWithCopyWarning: \n",
            "A value is trying to be set on a copy of a slice from a DataFrame\n",
            "\n",
            "See the caveats in the documentation: https://pandas.pydata.org/pandas-docs/stable/user_guide/indexing.html#returning-a-view-versus-a-copy\n",
            "  data_psi['PSI, %'][(data_psi['test, %'] - data_psi['train, %']) == 0] = 0\n",
            "<ipython-input-86-53c554007e9e>:15: SettingWithCopyWarning: \n",
            "A value is trying to be set on a copy of a slice from a DataFrame\n",
            "\n",
            "See the caveats in the documentation: https://pandas.pydata.org/pandas-docs/stable/user_guide/indexing.html#returning-a-view-versus-a-copy\n",
            "  data_psi['PSI, %'][(data_psi['test, %'] - data_psi['train, %']) == 0] = 0\n",
            "<ipython-input-86-53c554007e9e>:15: SettingWithCopyWarning: \n",
            "A value is trying to be set on a copy of a slice from a DataFrame\n",
            "\n",
            "See the caveats in the documentation: https://pandas.pydata.org/pandas-docs/stable/user_guide/indexing.html#returning-a-view-versus-a-copy\n",
            "  data_psi['PSI, %'][(data_psi['test, %'] - data_psi['train, %']) == 0] = 0\n"
          ]
        }
      ],
      "source": [
        "psi_list = []\n",
        "for name in train_feats[2:]:\n",
        "    print(name)\n",
        "    psi_list.append(round(PSI(X_train[name].fillna(-1), X_test[name].fillna(-1), range(10, 90, 10))['PSI, %'].sum(), 5))\n",
        "\n",
        "res = pd.DataFrame({'Name': train_feats[2:], 'PSI, %': psi_list}).sort_values('PSI, %', ascending=False)"
      ]
    },
    {
      "cell_type": "code",
      "execution_count": 89,
      "metadata": {
        "colab": {
          "base_uri": "https://localhost:8080/"
        },
        "id": "HoW393ReNnU1",
        "outputId": "ea826e84-00bb-46bf-eaa8-035c1f065950"
      },
      "outputs": [
        {
          "output_type": "stream",
          "name": "stdout",
          "text": [
            "('% Hemoglobin A1c', 1.15904)\n",
            "('Absolute Basophil Count', 1.32718)\n",
            "('Absolute Eosinophil Count', 0.87483)\n",
            "('Absolute Lymphocyte Count', 3.14322)\n",
            "('Absolute Monocyte Count', 1.20836)\n",
            "('Absolute Neutrophil Count', 1.01671)\n",
            "('Alanine Aminotransferase (ALT)', 1.4646)\n",
            "('Albumin', 1.23164)\n",
            "('Alkaline Phosphatase', 0.97057)\n",
            "('Anion Gap', 0.40483)\n",
            "('Asparate Aminotransferase (AST)', 1.10251)\n",
            "('Atypical Lymphocytes', 1.32276)\n",
            "('Bands', 0.16142)\n",
            "('Base Excess', 2.48945)\n",
            "('Bicarbonate', 0.73763)\n",
            "('Bilirubin, Total', 0.83624)\n",
            "('Calcium, Total', 0.69772)\n",
            "('Calculated Total CO2', 1.94697)\n",
            "('Chloride', 0.70254)\n",
            "('Cholesterol, HDL', 3.65107)\n",
            "('Cholesterol, LDL, Calculated', 3.38304)\n",
            "('Cholesterol, Total', 0.66822)\n",
            "('Creatine Kinase (CK)', 0.76732)\n",
            "('Creatine Kinase, MB Isoenzyme', 2.19106)\n",
            "('Creatinine', 2.63058)\n",
            "('Creatinine, Urine', 3.01111)\n",
            "('Eosinophils', 0.96652)\n",
            "('Globulin', 0.31763)\n",
            "('H', 1.18578)\n",
            "('Hematocrit', 0.36218)\n",
            "('Hemoglobin', 0.31169)\n",
            "('I', 0.33787)\n",
            "('Immature Granulocytes', 0.50301)\n",
            "('L', 0.7758)\n",
            "('Lactate', 1.91932)\n",
            "('Lactate Dehydrogenase (LD)', 0.94386)\n",
            "('Lipase', 2.01508)\n",
            "('Lymphocytes', 0.88693)\n",
            "('MCH', 0.15696)\n",
            "('MCHC', 0.53493)\n",
            "('MCV', 1.29917)\n",
            "('Magnesium', 0.23889)\n",
            "('Metamyelocytes', 0.2877)\n",
            "('Monocytes', 1.03794)\n",
            "('Myelocytes', 0.20811)\n",
            "('Neutrophils', 0.30599)\n",
            "('Phosphate', 0.2028)\n",
            "('Platelet Count', 0.55578)\n",
            "('Potassium', 0.21399)\n",
            "('Potassium, Whole Blood', 1.56913)\n",
            "('Protein, Total', 0.4698)\n",
            "('RDW-SD', 0.52728)\n",
            "('Red Blood Cells', 0.3568)\n",
            "('Sodium', 0.33718)\n",
            "('Urea Nitrogen', 0.23157)\n",
            "('White Blood Cells', 0.20107)\n",
            "('eAG', 1.77629)\n",
            "('pCO2', 1.91385)\n",
            "('pO2', 2.64018)\n",
            "('INR(PT)_num', 0.54333)\n",
            "('Intubated_num', 0.0)\n",
            "('Ketone_num', 0.37206)\n",
            "('PT_num', 0.50187)\n",
            "('Protein_num', 1.24162)\n",
            "('Specimen Type_num', 0.0)\n",
            "('Uhold_num', 0.0)\n",
            "('Basophils_num', 1.18228)\n",
            "('PTT_num', 0.35488)\n",
            "('RDW_num', 0.3099)\n",
            "('Urine Color_num', 0.0)\n",
            "('pH_num', 1.27193)\n"
          ]
        }
      ],
      "source": [
        "psi_feats = []\n",
        "\n",
        "for i in zip(train_feats[2:], psi_list):\n",
        "    if i[1] < 5:\n",
        "        print(i)\n",
        "        psi_feats.append(i[0])"
      ]
    },
    {
      "cell_type": "code",
      "execution_count": 90,
      "metadata": {
        "colab": {
          "base_uri": "https://localhost:8080/"
        },
        "id": "LfNJ-Td-tieR",
        "outputId": "6dbcbc64-355e-46fb-81a2-6e64feb24bb5"
      },
      "outputs": [
        {
          "output_type": "stream",
          "name": "stdout",
          "text": [
            "% Hemoglobin A1c 0.24094105709296731 0.25253507851836576\n",
            "Absolute Basophil Count 0.1511669334195762 0.13021062361582758\n",
            "Absolute Eosinophil Count 0.14781910599030046 0.14118563252358673\n",
            "Absolute Neutrophil Count 0.15020279195331665 0.1407169048183543\n",
            "Bands 0.4819214252896544 0.4591787496293187\n",
            "Calculated Total CO2 0.21861989498511702 0.2266113321852179\n",
            "Chloride -0.021936812362012503 -0.025105929562035945\n",
            "Lactate Dehydrogenase (LD) 0.26420624275621374 0.24572013720326802\n",
            "Phosphate 0.0669564232897577 0.07996688714200473\n",
            "Potassium, Whole Blood 0.2804697813131558 0.2835944568667488\n",
            "RDW-SD 0.23301208194431244 0.21763933882990183\n",
            "White Blood Cells -0.006739794260878673 -0.009794619176039188\n",
            "eAG 0.24661492090577464 0.2344983204471549\n",
            "pCO2 0.2552708897051019 0.23289357461103233\n",
            "INR(PT)_num 0.1739769848793804 0.1733886368884181\n",
            "RDW_num 0.2940045040872967 0.2934924551462381\n"
          ]
        }
      ],
      "source": [
        "import numpy as np\n",
        "\n",
        "const_feats = []\n",
        "for i in psi_feats:\n",
        "    train_gini = roc_auc_score(y_train, X_train[i].fillna(-1)) * 2 - 1\n",
        "    test_gini = roc_auc_score(y_test, X_test[i].fillna(-1)) * 2 - 1\n",
        "    if (np.abs(train_gini - test_gini) < 0.025) and train_gini and test_gini:\n",
        "        print(i, train_gini, test_gini)\n",
        "        const_feats.append(i)"
      ]
    },
    {
      "cell_type": "code",
      "execution_count": 91,
      "metadata": {
        "id": "BjEsRpLJebF3"
      },
      "outputs": [],
      "source": [
        "from hyperopt import fmin, tpe, hp, STATUS_OK, Trials, space_eval, pyll"
      ]
    },
    {
      "cell_type": "code",
      "execution_count": 92,
      "metadata": {
        "id": "fgtwX93_RS2U"
      },
      "outputs": [],
      "source": [
        "from sklearn.metrics import roc_curve, auc, precision_recall_curve"
      ]
    },
    {
      "cell_type": "code",
      "execution_count": 93,
      "metadata": {
        "id": "xOVDXC_Gcevi"
      },
      "outputs": [],
      "source": [
        "import matplotlib.pyplot as plt"
      ]
    },
    {
      "cell_type": "code",
      "execution_count": 94,
      "metadata": {
        "id": "tZJmfya8_mHN"
      },
      "outputs": [],
      "source": [
        "weights = [wf, wt]\n",
        "train_weights = [weights[i] for i in y_train]\n",
        "test_weights = [weights[i] for i in y_test]"
      ]
    },
    {
      "cell_type": "markdown",
      "metadata": {
        "id": "yqMTatmh96bE"
      },
      "source": [
        "#XGBoost"
      ]
    },
    {
      "cell_type": "code",
      "execution_count": 95,
      "metadata": {
        "id": "wsMPlHrOdDOz"
      },
      "outputs": [],
      "source": [
        "def objective(params):\n",
        "    overfit_penalty = 10\n",
        "    print(params)\n",
        "    clf = XGBClassifier(**params)\n",
        "    clf.fit(X_train[const_feats], y_train)\n",
        "    train_score = roc_auc_score(y_train, clf.predict_proba(X_train[const_feats])[:, 1]) * 2 - 1\n",
        "    test_score = roc_auc_score(y_test, clf.predict_proba(X_test[const_feats])[:, 1]) * 2 - 1\n",
        "    print(train_score, test_score)\n",
        "    score = max(0.62, train_score) / max(0.62, test_score) - test_score\n",
        "    return score"
      ]
    },
    {
      "cell_type": "code",
      "execution_count": null,
      "metadata": {
        "id": "0wytdBjnsxMa"
      },
      "outputs": [],
      "source": [
        "params = {\n",
        "'n_estimators': pyll.base.scope.int(hp.quniform('n_estimators', 1000, 10000, 100)),\n",
        "'learning_rate': 0.03,\n",
        "'metric': 'None',\n",
        "'verbose': 1,\n",
        "'application': 'binary',\n",
        "'subsample_freq': 1,\n",
        "'boosting_type': 'gbdt', 'extra_trees': False,\n",
        "'is_unbalance': 'true',\n",
        "'n_jobs': 30,\n",
        "'max_depth': pyll.base.scope.int(hp.quniform('max_depth', 2, 8, 1)),\n",
        "'num_leaves': pyll.base.scope.int(hp.quniform('num_leaves', 8, 128, 1)),\n",
        "'min_child_samples': pyll.base.scope.int(hp.quniform('min_child_samples', 20, 1000, 1)),\n",
        "'max_bin': pyll.base.scope.int(hp.quniform('max_bin', 20, 1000, 1)),\n",
        "'min_child_weight': hp.uniform('min_child_weight', 0.0001, 0.01),\n",
        "'reg_alpha': hp.uniform('reg_alpha', 1, 10000), # 50\n",
        "'reg_lambda': hp.uniform('reg_lambda', 1, 10000), # 150, 300\n",
        "'min_split_gain': hp.uniform('min_split_gain', 0.05, 0.95),\n",
        "'subsample': hp.uniform('subsample', 0.05, 0.95),\n",
        "'colsample_bytree': hp.uniform('colsample_bytree', 0.05, 0.95)\n",
        "}"
      ]
    },
    {
      "cell_type": "code",
      "execution_count": null,
      "metadata": {
        "colab": {
          "base_uri": "https://localhost:8080/"
        },
        "id": "4Ko6BQoyeCJl",
        "outputId": "414dc267-4844-41b4-9ed9-4a1d55a7e595"
      },
      "outputs": [
        {
          "output_type": "stream",
          "name": "stdout",
          "text": [
            "{'application': 'binary', 'boosting_type': 'gbdt', 'colsample_bytree': 0.8623503808116971, 'extra_trees': False, 'is_unbalance': 'true', 'learning_rate': 0.03, 'max_bin': 613, 'max_depth': 6, 'metric': 'None', 'min_child_samples': 706, 'min_child_weight': 0.007915894354334442, 'min_split_gain': 0.9194565497440352, 'n_estimators': 6400, 'n_jobs': 30, 'num_leaves': 104, 'reg_alpha': 9575.960202507322, 'reg_lambda': 6061.565097350147, 'subsample': 0.32247563920452393, 'subsample_freq': 1, 'verbose': 1}\n",
            "  0%|          | 0/10 [00:00<?, ?trial/s, best loss=?]"
          ]
        },
        {
          "output_type": "stream",
          "name": "stderr",
          "text": [
            "/usr/local/lib/python3.10/dist-packages/xgboost/core.py:160: UserWarning: [16:37:39] WARNING: /workspace/src/learner.cc:742: \n",
            "Parameters: { \"application\", \"boosting_type\", \"extra_trees\", \"is_unbalance\", \"metric\", \"min_child_samples\", \"min_split_gain\", \"num_leaves\", \"subsample_freq\", \"verbose\" } are not used.\n",
            "\n",
            "  warnings.warn(smsg, UserWarning)\n",
            "\n"
          ]
        },
        {
          "output_type": "stream",
          "name": "stdout",
          "text": [
            "0.0\n",
            "0.0\n",
            "{'application': 'binary', 'boosting_type': 'gbdt', 'colsample_bytree': 0.12216845986333537, 'extra_trees': False, 'is_unbalance': 'true', 'learning_rate': 0.03, 'max_bin': 615, 'max_depth': 6, 'metric': 'None', 'min_child_samples': 996, 'min_child_weight': 0.0088912337231184, 'min_split_gain': 0.9271154017615292, 'n_estimators': 4400, 'n_jobs': 30, 'num_leaves': 80, 'reg_alpha': 9101.605412422992, 'reg_lambda': 7667.955455607678, 'subsample': 0.26334861540888116, 'subsample_freq': 1, 'verbose': 1}\n",
            " 10%|█         | 1/10 [00:40<06:06, 40.74s/trial, best loss: 1.0]"
          ]
        },
        {
          "output_type": "stream",
          "name": "stderr",
          "text": [
            "/usr/local/lib/python3.10/dist-packages/xgboost/core.py:160: UserWarning: [16:38:20] WARNING: /workspace/src/learner.cc:742: \n",
            "Parameters: { \"application\", \"boosting_type\", \"extra_trees\", \"is_unbalance\", \"metric\", \"min_child_samples\", \"min_split_gain\", \"num_leaves\", \"subsample_freq\", \"verbose\" } are not used.\n",
            "\n",
            "  warnings.warn(smsg, UserWarning)\n",
            "\n"
          ]
        },
        {
          "output_type": "stream",
          "name": "stdout",
          "text": [
            "0.0\n",
            "0.0\n",
            "{'application': 'binary', 'boosting_type': 'gbdt', 'colsample_bytree': 0.5894479424034719, 'extra_trees': False, 'is_unbalance': 'true', 'learning_rate': 0.03, 'max_bin': 578, 'max_depth': 5, 'metric': 'None', 'min_child_samples': 625, 'min_child_weight': 0.002787195514119221, 'min_split_gain': 0.7844464573829409, 'n_estimators': 1200, 'n_jobs': 30, 'num_leaves': 60, 'reg_alpha': 9745.369571546982, 'reg_lambda': 4295.534180664379, 'subsample': 0.8257754883077133, 'subsample_freq': 1, 'verbose': 1}\n",
            " 20%|██        | 2/10 [01:08<04:23, 32.97s/trial, best loss: 1.0]"
          ]
        },
        {
          "output_type": "stream",
          "name": "stderr",
          "text": [
            "/usr/local/lib/python3.10/dist-packages/xgboost/core.py:160: UserWarning: [16:38:47] WARNING: /workspace/src/learner.cc:742: \n",
            "Parameters: { \"application\", \"boosting_type\", \"extra_trees\", \"is_unbalance\", \"metric\", \"min_child_samples\", \"min_split_gain\", \"num_leaves\", \"subsample_freq\", \"verbose\" } are not used.\n",
            "\n",
            "  warnings.warn(smsg, UserWarning)\n",
            "\n"
          ]
        },
        {
          "output_type": "stream",
          "name": "stdout",
          "text": [
            "0.0\n",
            "0.0\n",
            "{'application': 'binary', 'boosting_type': 'gbdt', 'colsample_bytree': 0.20389794410913337, 'extra_trees': False, 'is_unbalance': 'true', 'learning_rate': 0.03, 'max_bin': 565, 'max_depth': 4, 'metric': 'None', 'min_child_samples': 782, 'min_child_weight': 0.0049424323376617875, 'min_split_gain': 0.562172539943643, 'n_estimators': 2200, 'n_jobs': 30, 'num_leaves': 109, 'reg_alpha': 8725.568324263002, 'reg_lambda': 7538.2830674376155, 'subsample': 0.5291144082176226, 'subsample_freq': 1, 'verbose': 1}\n",
            " 30%|███       | 3/10 [01:14<02:26, 20.93s/trial, best loss: 1.0]"
          ]
        },
        {
          "output_type": "stream",
          "name": "stderr",
          "text": [
            "/usr/local/lib/python3.10/dist-packages/xgboost/core.py:160: UserWarning: [16:38:54] WARNING: /workspace/src/learner.cc:742: \n",
            "Parameters: { \"application\", \"boosting_type\", \"extra_trees\", \"is_unbalance\", \"metric\", \"min_child_samples\", \"min_split_gain\", \"num_leaves\", \"subsample_freq\", \"verbose\" } are not used.\n",
            "\n",
            "  warnings.warn(smsg, UserWarning)\n",
            "\n"
          ]
        },
        {
          "output_type": "stream",
          "name": "stdout",
          "text": [
            "0.0\n",
            "0.0\n",
            "{'application': 'binary', 'boosting_type': 'gbdt', 'colsample_bytree': 0.6739475077722985, 'extra_trees': False, 'is_unbalance': 'true', 'learning_rate': 0.03, 'max_bin': 147, 'max_depth': 7, 'metric': 'None', 'min_child_samples': 264, 'min_child_weight': 0.009370932614751502, 'min_split_gain': 0.6126619116563874, 'n_estimators': 3800, 'n_jobs': 30, 'num_leaves': 108, 'reg_alpha': 7189.9029051692, 'reg_lambda': 3737.2690249097873, 'subsample': 0.5339948556827064, 'subsample_freq': 1, 'verbose': 1}\n",
            " 40%|████      | 4/10 [01:29<01:49, 18.28s/trial, best loss: 1.0]"
          ]
        },
        {
          "output_type": "stream",
          "name": "stderr",
          "text": [
            "/usr/local/lib/python3.10/dist-packages/xgboost/core.py:160: UserWarning: [16:39:08] WARNING: /workspace/src/learner.cc:742: \n",
            "Parameters: { \"application\", \"boosting_type\", \"extra_trees\", \"is_unbalance\", \"metric\", \"min_child_samples\", \"min_split_gain\", \"num_leaves\", \"subsample_freq\", \"verbose\" } are not used.\n",
            "\n",
            "  warnings.warn(smsg, UserWarning)\n",
            "\n"
          ]
        },
        {
          "output_type": "stream",
          "name": "stdout",
          "text": [
            "0.0\n",
            "0.0\n",
            "{'application': 'binary', 'boosting_type': 'gbdt', 'colsample_bytree': 0.8117622679006937, 'extra_trees': False, 'is_unbalance': 'true', 'learning_rate': 0.03, 'max_bin': 45, 'max_depth': 7, 'metric': 'None', 'min_child_samples': 291, 'min_child_weight': 0.006139549687715593, 'min_split_gain': 0.09947055992519825, 'n_estimators': 4000, 'n_jobs': 30, 'num_leaves': 38, 'reg_alpha': 6240.803070198999, 'reg_lambda': 3561.77514901101, 'subsample': 0.8865500218054341, 'subsample_freq': 1, 'verbose': 1}\n",
            " 50%|█████     | 5/10 [01:53<01:42, 20.52s/trial, best loss: 1.0]"
          ]
        },
        {
          "output_type": "stream",
          "name": "stderr",
          "text": [
            "/usr/local/lib/python3.10/dist-packages/xgboost/core.py:160: UserWarning: [16:39:33] WARNING: /workspace/src/learner.cc:742: \n",
            "Parameters: { \"application\", \"boosting_type\", \"extra_trees\", \"is_unbalance\", \"metric\", \"min_child_samples\", \"min_split_gain\", \"num_leaves\", \"subsample_freq\", \"verbose\" } are not used.\n",
            "\n",
            "  warnings.warn(smsg, UserWarning)\n",
            "\n"
          ]
        },
        {
          "output_type": "stream",
          "name": "stdout",
          "text": [
            "0.586966728624891\n",
            "0.44511321504024837\n",
            "{'application': 'binary', 'boosting_type': 'gbdt', 'colsample_bytree': 0.21427433618540853, 'extra_trees': False, 'is_unbalance': 'true', 'learning_rate': 0.03, 'max_bin': 782, 'max_depth': 4, 'metric': 'None', 'min_child_samples': 870, 'min_child_weight': 0.005655016585510992, 'min_split_gain': 0.495497979484053, 'n_estimators': 3200, 'n_jobs': 30, 'num_leaves': 78, 'reg_alpha': 1212.8580986536892, 'reg_lambda': 7636.699846778202, 'subsample': 0.49005504359486607, 'subsample_freq': 1, 'verbose': 1}\n",
            " 60%|██████    | 6/10 [02:17<01:25, 21.50s/trial, best loss: 0.5548867849597516]"
          ]
        },
        {
          "output_type": "stream",
          "name": "stderr",
          "text": [
            "/usr/local/lib/python3.10/dist-packages/xgboost/core.py:160: UserWarning: [16:39:56] WARNING: /workspace/src/learner.cc:742: \n",
            "Parameters: { \"application\", \"boosting_type\", \"extra_trees\", \"is_unbalance\", \"metric\", \"min_child_samples\", \"min_split_gain\", \"num_leaves\", \"subsample_freq\", \"verbose\" } are not used.\n",
            "\n",
            "  warnings.warn(smsg, UserWarning)\n",
            "\n"
          ]
        },
        {
          "output_type": "stream",
          "name": "stdout",
          "text": [
            "0.6744348891191461\n",
            "0.6088950562931346\n",
            "{'application': 'binary', 'boosting_type': 'gbdt', 'colsample_bytree': 0.5829287452087167, 'extra_trees': False, 'is_unbalance': 'true', 'learning_rate': 0.03, 'max_bin': 378, 'max_depth': 7, 'metric': 'None', 'min_child_samples': 58, 'min_child_weight': 0.009910824606090983, 'min_split_gain': 0.05640647641204562, 'n_estimators': 8800, 'n_jobs': 30, 'num_leaves': 65, 'reg_alpha': 3776.237968340271, 'reg_lambda': 9263.196840775872, 'subsample': 0.13526945922853933, 'subsample_freq': 1, 'verbose': 1}\n",
            " 70%|███████   | 7/10 [02:44<01:10, 23.46s/trial, best loss: 0.4789031519635527]"
          ]
        },
        {
          "output_type": "stream",
          "name": "stderr",
          "text": [
            "/usr/local/lib/python3.10/dist-packages/xgboost/core.py:160: UserWarning: [16:40:24] WARNING: /workspace/src/learner.cc:742: \n",
            "Parameters: { \"application\", \"boosting_type\", \"extra_trees\", \"is_unbalance\", \"metric\", \"min_child_samples\", \"min_split_gain\", \"num_leaves\", \"subsample_freq\", \"verbose\" } are not used.\n",
            "\n",
            "  warnings.warn(smsg, UserWarning)\n",
            "\n"
          ]
        },
        {
          "output_type": "stream",
          "name": "stdout",
          "text": [
            "0.0\n",
            "0.0\n",
            "{'application': 'binary', 'boosting_type': 'gbdt', 'colsample_bytree': 0.41945476415173416, 'extra_trees': False, 'is_unbalance': 'true', 'learning_rate': 0.03, 'max_bin': 753, 'max_depth': 7, 'metric': 'None', 'min_child_samples': 234, 'min_child_weight': 0.0001363384745663257, 'min_split_gain': 0.05816297474357307, 'n_estimators': 7900, 'n_jobs': 30, 'num_leaves': 15, 'reg_alpha': 6280.293620212724, 'reg_lambda': 7633.616207830435, 'subsample': 0.36548944939578143, 'subsample_freq': 1, 'verbose': 1}\n",
            " 80%|████████  | 8/10 [03:40<01:07, 33.67s/trial, best loss: 0.4789031519635527]"
          ]
        },
        {
          "output_type": "stream",
          "name": "stderr",
          "text": [
            "/usr/local/lib/python3.10/dist-packages/xgboost/core.py:160: UserWarning: [16:41:19] WARNING: /workspace/src/learner.cc:742: \n",
            "Parameters: { \"application\", \"boosting_type\", \"extra_trees\", \"is_unbalance\", \"metric\", \"min_child_samples\", \"min_split_gain\", \"num_leaves\", \"subsample_freq\", \"verbose\" } are not used.\n",
            "\n",
            "  warnings.warn(smsg, UserWarning)\n",
            "\n"
          ]
        },
        {
          "output_type": "stream",
          "name": "stdout",
          "text": [
            "0.0\n",
            "0.0\n",
            "{'application': 'binary', 'boosting_type': 'gbdt', 'colsample_bytree': 0.6310935473671135, 'extra_trees': False, 'is_unbalance': 'true', 'learning_rate': 0.03, 'max_bin': 512, 'max_depth': 6, 'metric': 'None', 'min_child_samples': 313, 'min_child_weight': 0.0030783279216216276, 'min_split_gain': 0.8467365795800775, 'n_estimators': 5600, 'n_jobs': 30, 'num_leaves': 96, 'reg_alpha': 6589.105888156787, 'reg_lambda': 9503.005890305854, 'subsample': 0.5096547646703056, 'subsample_freq': 1, 'verbose': 1}\n",
            " 90%|█████████ | 9/10 [04:30<00:38, 38.77s/trial, best loss: 0.4789031519635527]"
          ]
        },
        {
          "output_type": "stream",
          "name": "stderr",
          "text": [
            "/usr/local/lib/python3.10/dist-packages/xgboost/core.py:160: UserWarning: [16:42:09] WARNING: /workspace/src/learner.cc:742: \n",
            "Parameters: { \"application\", \"boosting_type\", \"extra_trees\", \"is_unbalance\", \"metric\", \"min_child_samples\", \"min_split_gain\", \"num_leaves\", \"subsample_freq\", \"verbose\" } are not used.\n",
            "\n",
            "  warnings.warn(smsg, UserWarning)\n",
            "\n"
          ]
        },
        {
          "output_type": "stream",
          "name": "stdout",
          "text": [
            "0.0\n",
            "0.0\n",
            "100%|██████████| 10/10 [05:05<00:00, 30.59s/trial, best loss: 0.4789031519635527]\n",
            "CPU times: user 6min 25s, sys: 1min 4s, total: 7min 29s\n",
            "Wall time: 5min 5s\n"
          ]
        }
      ],
      "source": [
        "%%time\n",
        "best = fmin(\n",
        "    fn=objective,\n",
        "    space=params,\n",
        "    algo=tpe.suggest,\n",
        "    max_evals=10\n",
        ")"
      ]
    },
    {
      "cell_type": "code",
      "execution_count": null,
      "metadata": {
        "colab": {
          "base_uri": "https://localhost:8080/"
        },
        "id": "_4zr6XV8ABtt",
        "outputId": "5d34ca30-8968-4d11-91fe-affef04f828c"
      },
      "outputs": [
        {
          "data": {
            "text/plain": [
              "{'colsample_bytree': 0.20341192945514136,\n",
              " 'max_bin': 295,\n",
              " 'max_depth': 2,\n",
              " 'min_child_samples': 393,\n",
              " 'min_child_weight': 0.00014337522587402906,\n",
              " 'min_split_gain': 0.3699322968796868,\n",
              " 'n_estimators': 1000,\n",
              " 'num_leaves': 93,\n",
              " 'reg_alpha': 1585.9643525263277,\n",
              " 'reg_lambda': 8430.847992507423,\n",
              " 'subsample': 0.8677552506030853}"
            ]
          },
          "execution_count": 164,
          "metadata": {},
          "output_type": "execute_result"
        }
      ],
      "source": [
        "best"
      ]
    },
    {
      "cell_type": "code",
      "source": [
        "best = {'colsample_bytree': 0.20341192945514136,\n",
        " 'max_bin': 295,\n",
        " 'max_depth': 2,\n",
        " 'min_child_samples': 393,\n",
        " 'min_child_weight': 0.00014337522587402906,\n",
        " 'min_split_gain': 0.3699322968796868,\n",
        " 'n_estimators': 1000,\n",
        " 'num_leaves': 93,\n",
        " 'reg_alpha': 1585.9643525263277,\n",
        " 'reg_lambda': 8430.847992507423,\n",
        " 'subsample': 0.8677552506030853}"
      ],
      "metadata": {
        "id": "YMfP1TU9DkaD"
      },
      "execution_count": 102,
      "outputs": []
    },
    {
      "cell_type": "code",
      "execution_count": 100,
      "metadata": {
        "colab": {
          "base_uri": "https://localhost:8080/",
          "height": 343
        },
        "id": "hF5WXwYIZZpz",
        "outputId": "7fafc117-74ff-4c72-cfba-d5c08fad71a9"
      },
      "outputs": [
        {
          "output_type": "stream",
          "name": "stderr",
          "text": [
            "/usr/local/lib/python3.10/dist-packages/xgboost/core.py:160: UserWarning: [12:10:51] WARNING: /workspace/src/learner.cc:742: \n",
            "Parameters: { \"min_child_samples\", \"min_split_gain\", \"num_leaves\" } are not used.\n",
            "\n",
            "  warnings.warn(smsg, UserWarning)\n"
          ]
        },
        {
          "output_type": "execute_result",
          "data": {
            "text/plain": [
              "XGBClassifier(base_score=None, booster=None, callbacks=None,\n",
              "              colsample_bylevel=None, colsample_bynode=None,\n",
              "              colsample_bytree=0.20341192945514136, device=None,\n",
              "              early_stopping_rounds=None, enable_categorical=False,\n",
              "              eval_metric=None, feature_types=None, gamma=None,\n",
              "              grow_policy=None, importance_type=None,\n",
              "              interaction_constraints=None, learning_rate=None, max_bin=295,\n",
              "              max_cat_threshold=None, max_cat_to_onehot=None,\n",
              "              max_delta_step=None, max_depth=3, max_leaves=None,\n",
              "              min_child_samples=393, min_child_weight=0.00014337522587402906,\n",
              "              min_split_gain=0.3699322968796868, missing=nan,\n",
              "              monotone_constraints=None, multi_strategy=None, n_estimators=7000,\n",
              "              n_jobs=None, ...)"
            ],
            "text/html": [
              "<style>#sk-container-id-2 {color: black;background-color: white;}#sk-container-id-2 pre{padding: 0;}#sk-container-id-2 div.sk-toggleable {background-color: white;}#sk-container-id-2 label.sk-toggleable__label {cursor: pointer;display: block;width: 100%;margin-bottom: 0;padding: 0.3em;box-sizing: border-box;text-align: center;}#sk-container-id-2 label.sk-toggleable__label-arrow:before {content: \"▸\";float: left;margin-right: 0.25em;color: #696969;}#sk-container-id-2 label.sk-toggleable__label-arrow:hover:before {color: black;}#sk-container-id-2 div.sk-estimator:hover label.sk-toggleable__label-arrow:before {color: black;}#sk-container-id-2 div.sk-toggleable__content {max-height: 0;max-width: 0;overflow: hidden;text-align: left;background-color: #f0f8ff;}#sk-container-id-2 div.sk-toggleable__content pre {margin: 0.2em;color: black;border-radius: 0.25em;background-color: #f0f8ff;}#sk-container-id-2 input.sk-toggleable__control:checked~div.sk-toggleable__content {max-height: 200px;max-width: 100%;overflow: auto;}#sk-container-id-2 input.sk-toggleable__control:checked~label.sk-toggleable__label-arrow:before {content: \"▾\";}#sk-container-id-2 div.sk-estimator input.sk-toggleable__control:checked~label.sk-toggleable__label {background-color: #d4ebff;}#sk-container-id-2 div.sk-label input.sk-toggleable__control:checked~label.sk-toggleable__label {background-color: #d4ebff;}#sk-container-id-2 input.sk-hidden--visually {border: 0;clip: rect(1px 1px 1px 1px);clip: rect(1px, 1px, 1px, 1px);height: 1px;margin: -1px;overflow: hidden;padding: 0;position: absolute;width: 1px;}#sk-container-id-2 div.sk-estimator {font-family: monospace;background-color: #f0f8ff;border: 1px dotted black;border-radius: 0.25em;box-sizing: border-box;margin-bottom: 0.5em;}#sk-container-id-2 div.sk-estimator:hover {background-color: #d4ebff;}#sk-container-id-2 div.sk-parallel-item::after {content: \"\";width: 100%;border-bottom: 1px solid gray;flex-grow: 1;}#sk-container-id-2 div.sk-label:hover label.sk-toggleable__label {background-color: #d4ebff;}#sk-container-id-2 div.sk-serial::before {content: \"\";position: absolute;border-left: 1px solid gray;box-sizing: border-box;top: 0;bottom: 0;left: 50%;z-index: 0;}#sk-container-id-2 div.sk-serial {display: flex;flex-direction: column;align-items: center;background-color: white;padding-right: 0.2em;padding-left: 0.2em;position: relative;}#sk-container-id-2 div.sk-item {position: relative;z-index: 1;}#sk-container-id-2 div.sk-parallel {display: flex;align-items: stretch;justify-content: center;background-color: white;position: relative;}#sk-container-id-2 div.sk-item::before, #sk-container-id-2 div.sk-parallel-item::before {content: \"\";position: absolute;border-left: 1px solid gray;box-sizing: border-box;top: 0;bottom: 0;left: 50%;z-index: -1;}#sk-container-id-2 div.sk-parallel-item {display: flex;flex-direction: column;z-index: 1;position: relative;background-color: white;}#sk-container-id-2 div.sk-parallel-item:first-child::after {align-self: flex-end;width: 50%;}#sk-container-id-2 div.sk-parallel-item:last-child::after {align-self: flex-start;width: 50%;}#sk-container-id-2 div.sk-parallel-item:only-child::after {width: 0;}#sk-container-id-2 div.sk-dashed-wrapped {border: 1px dashed gray;margin: 0 0.4em 0.5em 0.4em;box-sizing: border-box;padding-bottom: 0.4em;background-color: white;}#sk-container-id-2 div.sk-label label {font-family: monospace;font-weight: bold;display: inline-block;line-height: 1.2em;}#sk-container-id-2 div.sk-label-container {text-align: center;}#sk-container-id-2 div.sk-container {/* jupyter's `normalize.less` sets `[hidden] { display: none; }` but bootstrap.min.css set `[hidden] { display: none !important; }` so we also need the `!important` here to be able to override the default hidden behavior on the sphinx rendered scikit-learn.org. See: https://github.com/scikit-learn/scikit-learn/issues/21755 */display: inline-block !important;position: relative;}#sk-container-id-2 div.sk-text-repr-fallback {display: none;}</style><div id=\"sk-container-id-2\" class=\"sk-top-container\"><div class=\"sk-text-repr-fallback\"><pre>XGBClassifier(base_score=None, booster=None, callbacks=None,\n",
              "              colsample_bylevel=None, colsample_bynode=None,\n",
              "              colsample_bytree=0.20341192945514136, device=None,\n",
              "              early_stopping_rounds=None, enable_categorical=False,\n",
              "              eval_metric=None, feature_types=None, gamma=None,\n",
              "              grow_policy=None, importance_type=None,\n",
              "              interaction_constraints=None, learning_rate=None, max_bin=295,\n",
              "              max_cat_threshold=None, max_cat_to_onehot=None,\n",
              "              max_delta_step=None, max_depth=3, max_leaves=None,\n",
              "              min_child_samples=393, min_child_weight=0.00014337522587402906,\n",
              "              min_split_gain=0.3699322968796868, missing=nan,\n",
              "              monotone_constraints=None, multi_strategy=None, n_estimators=7000,\n",
              "              n_jobs=None, ...)</pre><b>In a Jupyter environment, please rerun this cell to show the HTML representation or trust the notebook. <br />On GitHub, the HTML representation is unable to render, please try loading this page with nbviewer.org.</b></div><div class=\"sk-container\" hidden><div class=\"sk-item\"><div class=\"sk-estimator sk-toggleable\"><input class=\"sk-toggleable__control sk-hidden--visually\" id=\"sk-estimator-id-2\" type=\"checkbox\" checked><label for=\"sk-estimator-id-2\" class=\"sk-toggleable__label sk-toggleable__label-arrow\">XGBClassifier</label><div class=\"sk-toggleable__content\"><pre>XGBClassifier(base_score=None, booster=None, callbacks=None,\n",
              "              colsample_bylevel=None, colsample_bynode=None,\n",
              "              colsample_bytree=0.20341192945514136, device=None,\n",
              "              early_stopping_rounds=None, enable_categorical=False,\n",
              "              eval_metric=None, feature_types=None, gamma=None,\n",
              "              grow_policy=None, importance_type=None,\n",
              "              interaction_constraints=None, learning_rate=None, max_bin=295,\n",
              "              max_cat_threshold=None, max_cat_to_onehot=None,\n",
              "              max_delta_step=None, max_depth=3, max_leaves=None,\n",
              "              min_child_samples=393, min_child_weight=0.00014337522587402906,\n",
              "              min_split_gain=0.3699322968796868, missing=nan,\n",
              "              monotone_constraints=None, multi_strategy=None, n_estimators=7000,\n",
              "              n_jobs=None, ...)</pre></div></div></div></div></div>"
            ]
          },
          "metadata": {},
          "execution_count": 100
        }
      ],
      "source": [
        "best['max_bin'] = int(best['max_bin'])\n",
        "best['max_depth'] = int(best['max_depth'])\n",
        "best['min_child_samples'] = int(best['min_child_samples'])\n",
        "best['n_estimators'] = int(best['n_estimators'])\n",
        "best['num_leaves'] = int(best['num_leaves'])\n",
        "\n",
        "loss_history = {'train': [], 'eval': []}\n",
        "\n",
        "eval_set = [(X_train[const_feats], y_train), (X_test[const_feats], y_test)]\n",
        "model = XGBClassifier(**best)\n",
        "model.fit(X_train[const_feats], y_train, eval_set=eval_set, verbose=False)"
      ]
    },
    {
      "cell_type": "code",
      "source": [
        "model.save_model('boosting.txt')"
      ],
      "metadata": {
        "colab": {
          "base_uri": "https://localhost:8080/"
        },
        "id": "ZzbMGVNJGshn",
        "outputId": "07e40a51-de34-4064-cc4c-65fde584e341"
      },
      "execution_count": 103,
      "outputs": [
        {
          "output_type": "stream",
          "name": "stderr",
          "text": [
            "/usr/local/lib/python3.10/dist-packages/xgboost/core.py:160: UserWarning: [12:22:11] WARNING: /workspace/src/c_api/c_api.cc:1240: Saving into deprecated binary model format, please consider using `json` or `ubj`. Model format will default to JSON in XGBoost 2.2 if not specified.\n",
            "  warnings.warn(smsg, UserWarning)\n"
          ]
        }
      ]
    },
    {
      "cell_type": "code",
      "source": [
        "model_copy = XGBClassifier()\n",
        "model_copy.load_model('boosting.txt')"
      ],
      "metadata": {
        "id": "r-sjSTLgKDp_"
      },
      "execution_count": 107,
      "outputs": []
    },
    {
      "cell_type": "code",
      "source": [
        "results = model.evals_result()\n",
        "loss_history['train'] = results['validation_0']['logloss']\n",
        "loss_history['test'] = results['validation_1']['logloss']"
      ],
      "metadata": {
        "id": "HLRmldbXIyVD"
      },
      "execution_count": null,
      "outputs": []
    },
    {
      "cell_type": "code",
      "execution_count": null,
      "metadata": {
        "colab": {
          "base_uri": "https://localhost:8080/",
          "height": 410
        },
        "id": "gmHWSkavJNoZ",
        "outputId": "0dcfbd40-7b8c-4ae3-9ab3-b8b15256c5cb"
      },
      "outputs": [
        {
          "output_type": "display_data",
          "data": {
            "text/plain": [
              "<Figure size 700x400 with 1 Axes>"
            ],
            "image/png": "[encoded data removed]"
          },
          "metadata": {}
        }
      ],
      "source": [
        "import matplotlib.pyplot as plt\n",
        "\n",
        "plt.figure(figsize=(7, 4))\n",
        "\n",
        "plt.plot(results['validation_0']['logloss'], label='Обучение', color='red')\n",
        "plt.plot(results['validation_1']['logloss'], label='Валидация', color='blue', linestyle='--')\n",
        "\n",
        "plt.xlabel('Раунд обучения')\n",
        "plt.ylabel('Log Loss')\n",
        "plt.title('История изменения log loss')\n",
        "\n",
        "handles, labels = plt.gca().get_legend_handles_labels()\n",
        "by_label = dict(zip(labels, handles))\n",
        "plt.legend(by_label.values(), by_label.keys())\n",
        "\n",
        "plt.show()"
      ]
    },
    {
      "cell_type": "code",
      "execution_count": null,
      "metadata": {
        "id": "ivlEXYURQ0MI"
      },
      "outputs": [],
      "source": [
        "roc_curves = []\n",
        "pr_curves = []\n",
        "\n",
        "y_prob = model.predict_proba(X_test[const_feats])[:, 1]\n",
        "fpr, tpr, _ = roc_curve(y_test, y_prob)\n",
        "precision, recall, _ = precision_recall_curve(y_test, y_prob)\n",
        "roc_curves.append((fpr, tpr))\n",
        "pr_curves.append((precision, recall))"
      ]
    },
    {
      "cell_type": "code",
      "execution_count": null,
      "metadata": {
        "colab": {
          "base_uri": "https://localhost:8080/",
          "height": 564
        },
        "id": "i_5FeIDJRhx9",
        "outputId": "468d0623-6f74-4861-c897-ca27d0608240"
      },
      "outputs": [
        {
          "output_type": "display_data",
          "data": {
            "text/plain": [
              "<Figure size 700x600 with 1 Axes>"
            ],
            "image/png": "[encoded data removed]"
          },
          "metadata": {}
        }
      ],
      "source": [
        "plt.figure(figsize=(7, 6))\n",
        "for i, (fpr, tpr) in enumerate(roc_curves):\n",
        "    plt.plot(fpr, tpr, label=f'ROC (AUC = {auc(fpr, tpr):.2f})')\n",
        "plt.plot([0, 1], [0, 1], 'k--')\n",
        "plt.xlabel('False Positive Rate')\n",
        "plt.ylabel('True Positive Rate')\n",
        "plt.title('ROC кривая')\n",
        "plt.legend()\n",
        "plt.show()"
      ]
    },
    {
      "cell_type": "code",
      "execution_count": null,
      "metadata": {
        "colab": {
          "base_uri": "https://localhost:8080/",
          "height": 564
        },
        "id": "sizQ9Fh-R_yn",
        "outputId": "ebb9b4b0-a557-4bfc-9703-6e3066efd27e"
      },
      "outputs": [
        {
          "output_type": "display_data",
          "data": {
            "text/plain": [
              "<Figure size 700x600 with 1 Axes>"
            ],
            "image/png": "[encoded data removed]"
          },
          "metadata": {}
        }
      ],
      "source": [
        "plt.figure(figsize=(7, 6))\n",
        "for i, (precision, recall) in enumerate(pr_curves):\n",
        "    plt.plot(recall, precision, label=f'PR (AUC = {auc(recall, precision):.2f})')\n",
        "plt.xlabel('Recall')\n",
        "plt.ylabel('Precision')\n",
        "plt.title('PR кривая')\n",
        "plt.legend()\n",
        "plt.show()"
      ]
    },
    {
      "cell_type": "code",
      "execution_count": null,
      "metadata": {
        "id": "hOwCP5wIasu-"
      },
      "outputs": [],
      "source": [
        "coef = 1 / model.predict_proba(X_train[const_feats])[:, 1].max() - 0.001"
      ]
    },
    {
      "cell_type": "code",
      "execution_count": null,
      "metadata": {
        "colab": {
          "base_uri": "https://localhost:8080/"
        },
        "id": "TI0holYI7fMs",
        "outputId": "72b0e6ed-bf9b-480a-8fc8-1ae8acc4e35d"
      },
      "outputs": [
        {
          "output_type": "stream",
          "name": "stdout",
          "text": [
            "1.4400898852459876\n",
            "              precision    recall  f1-score   support\n",
            "\n",
            "           0       0.87      0.70      0.77     55812\n",
            "           1       0.59      0.80      0.68     30459\n",
            "\n",
            "    accuracy                           0.74     86271\n",
            "   macro avg       0.73      0.75      0.73     86271\n",
            "weighted avg       0.77      0.74      0.74     86271\n",
            "\n"
          ]
        }
      ],
      "source": [
        "print(coef)\n",
        "print(classification_report(y_train, ((model.predict_proba(X_train[const_feats])[:, 1] * coef) > 0.5).astype(int)))"
      ]
    },
    {
      "cell_type": "code",
      "execution_count": null,
      "metadata": {
        "colab": {
          "base_uri": "https://localhost:8080/"
        },
        "id": "T7sbNJNPZxzS",
        "outputId": "09367c3d-9876-4fff-93ee-a910c23072e2"
      },
      "outputs": [
        {
          "output_type": "stream",
          "name": "stdout",
          "text": [
            "              precision    recall  f1-score   support\n",
            "\n",
            "           0       0.85      0.68      0.75     16085\n",
            "           1       0.54      0.76      0.63      8041\n",
            "\n",
            "    accuracy                           0.71     24126\n",
            "   macro avg       0.70      0.72      0.69     24126\n",
            "weighted avg       0.75      0.71      0.71     24126\n",
            "\n"
          ]
        }
      ],
      "source": [
        "print(classification_report(y_test, ((model.predict_proba(X_test[const_feats])[:, 1] * coef) > 0.5).astype(int)))"
      ]
    },
    {
      "cell_type": "code",
      "execution_count": 101,
      "metadata": {
        "colab": {
          "base_uri": "https://localhost:8080/"
        },
        "id": "g2BS6sHLULPL",
        "outputId": "6a865b99-3006-433f-86b7-ddf2f038ce77"
      },
      "outputs": [
        {
          "output_type": "stream",
          "name": "stdout",
          "text": [
            "0.6772522319453929 0.6073469288979225\n"
          ]
        }
      ],
      "source": [
        "print(roc_auc_score(y_train, model.predict_proba(X_train[const_feats])[:, 1], sample_weight=train_weights) * 2 - 1,\n",
        "roc_auc_score(y_test, model.predict_proba(X_test[const_feats])[:, 1], sample_weight=test_weights) * 2 - 1)"
      ]
    },
    {
      "cell_type": "code",
      "execution_count": 108,
      "metadata": {
        "colab": {
          "base_uri": "https://localhost:8080/"
        },
        "id": "0TWqqXSvOYft",
        "outputId": "8d45e72d-2679-4ceb-ab47-1cfd38aea60d"
      },
      "outputs": [
        {
          "output_type": "stream",
          "name": "stdout",
          "text": [
            "('% Hemoglobin A1c', 0.057177026)\n",
            "('Absolute Basophil Count', 0.006746357)\n",
            "('Absolute Eosinophil Count', 0.00887141)\n",
            "('Absolute Neutrophil Count', 0.029591562)\n",
            "('Bands', 0.45055217)\n",
            "('Calculated Total CO2', 0.02428905)\n",
            "('Chloride', 0.005562716)\n",
            "('Lactate Dehydrogenase (LD)', 0.12111838)\n",
            "('Phosphate', 0.0043985755)\n",
            "('Potassium, Whole Blood', 0.05242464)\n",
            "('RDW-SD', 0.04079703)\n",
            "('White Blood Cells', 0.017639533)\n",
            "('eAG', 0.036817078)\n",
            "('pCO2', 0.11690689)\n",
            "('INR(PT)_num', 0.0020957745)\n",
            "('RDW_num', 0.025011765)\n"
          ]
        }
      ],
      "source": [
        "for i in zip(const_feats, model.feature_importances_):\n",
        "    print(i)"
      ]
    },
    {
      "cell_type": "code",
      "execution_count": null,
      "metadata": {
        "colab": {
          "base_uri": "https://localhost:8080/",
          "height": 537
        },
        "id": "OmyYOX90_919",
        "outputId": "ccde41d5-f39e-4ce9-fdc9-a4d4cb45ec19"
      },
      "outputs": [
        {
          "data": {
            "text/plain": [
              "(array([21167., 11292.,  6128.,  4897.,  4786.,  4839.,  7816.,  9548.,\n",
              "         6302.,  9496.]),\n",
              " array([0.1339075 , 0.22044736, 0.30698723, 0.39352709, 0.48006696,\n",
              "        0.56660682, 0.65314668, 0.73968655, 0.82622641, 0.91276628,\n",
              "        0.99930614]),\n",
              " <BarContainer object of 10 artists>)"
            ]
          },
          "execution_count": 165,
          "metadata": {},
          "output_type": "execute_result"
        },
        {
          "data": {
            "image/png": "[encoded data removed]",
            "text/plain": [
              "<Figure size 640x480 with 1 Axes>"
            ]
          },
          "metadata": {},
          "output_type": "display_data"
        }
      ],
      "source": [
        "import matplotlib.pyplot as plt\n",
        "plt.hist(model.predict_proba(X_train[const_feats])[:, 1] * coef)"
      ]
    },
    {
      "cell_type": "code",
      "execution_count": null,
      "metadata": {
        "colab": {
          "base_uri": "https://localhost:8080/",
          "height": 537
        },
        "id": "P1UY3jIp_96y",
        "outputId": "7e9563e8-1069-4fe6-a768-82dfe9923bb5"
      },
      "outputs": [
        {
          "data": {
            "text/plain": [
              "(array([5655., 2849., 1915., 1920., 1171., 1055., 2924., 2670., 2374.,\n",
              "        1593.]),\n",
              " array([0.1339075 , 0.22044736, 0.30698723, 0.39352709, 0.48006696,\n",
              "        0.56660682, 0.65314668, 0.73968655, 0.82622641, 0.91276628,\n",
              "        0.99930614]),\n",
              " <BarContainer object of 10 artists>)"
            ]
          },
          "execution_count": 166,
          "metadata": {},
          "output_type": "execute_result"
        },
        {
          "data": {
            "image/png": "[encoded data removed]",
            "text/plain": [
              "<Figure size 640x480 with 1 Axes>"
            ]
          },
          "metadata": {},
          "output_type": "display_data"
        }
      ],
      "source": [
        "import matplotlib.pyplot as plt\n",
        "plt.hist(model.predict_proba(X_test[const_feats])[:, 1] * coef)"
      ]
    },
    {
      "cell_type": "markdown",
      "metadata": {
        "id": "t9M_e6wmS8uk"
      },
      "source": [
        "#Random Forest"
      ]
    },
    {
      "cell_type": "code",
      "execution_count": null,
      "metadata": {
        "id": "mhr-Uu1xTNcQ"
      },
      "outputs": [],
      "source": [
        "from sklearn.ensemble import RandomForestClassifier\n",
        "from hyperopt.pyll.base import scope"
      ]
    },
    {
      "cell_type": "code",
      "execution_count": null,
      "metadata": {
        "id": "1lQGA7_RUOps"
      },
      "outputs": [],
      "source": [
        "def objective(params):\n",
        "    overfit_penalty = 100\n",
        "    print(params)\n",
        "    clf = RandomForestClassifier(**params)\n",
        "    clf.fit(X_train[const_feats], y_train)\n",
        "    train_score = roc_auc_score(y_train, clf.predict_proba(X_train[const_feats])[:, 1]) * 2 - 1\n",
        "    test_score = roc_auc_score(y_test, clf.predict_proba(X_test[const_feats])[:, 1]) * 2 - 1\n",
        "    print(train_score, test_score)\n",
        "    score = max(0.6, train_score) / max(0.6, test_score) - test_score\n",
        "    return score"
      ]
    },
    {
      "cell_type": "code",
      "execution_count": null,
      "metadata": {
        "id": "tMREkOM7S8u5"
      },
      "outputs": [],
      "source": [
        "params = {\n",
        "    'n_estimators': scope.int(hp.quniform('n_estimators', 100, 1000, 10)),\n",
        "    'max_depth': scope.int(hp.quniform('max_depth', 2, 20, 1)),\n",
        "    'min_samples_split': scope.int(hp.quniform('min_samples_split', 2, 20, 1)),\n",
        "    'min_samples_leaf': scope.int(hp.quniform('min_samples_leaf', 1, 20, 1)),\n",
        "    'max_features': hp.choice('max_features', ['auto', 'sqrt', 'log2', None]),\n",
        "    'bootstrap': hp.choice('bootstrap', [True, False])\n",
        "}"
      ]
    },
    {
      "cell_type": "code",
      "execution_count": null,
      "metadata": {
        "colab": {
          "base_uri": "https://localhost:8080/"
        },
        "id": "ZLA26ayUS8u5",
        "outputId": "9882d812-183c-44d1-cb6a-812b101635e7"
      },
      "outputs": [
        {
          "name": "stdout",
          "output_type": "stream",
          "text": [
            "{'bootstrap': True, 'max_depth': 6, 'max_features': 'sqrt', 'min_samples_leaf': 18, 'min_samples_split': 14, 'n_estimators': 390}\n",
            "0.8197932669597099\n",
            "0.6175785453297578\n",
            "{'bootstrap': True, 'max_depth': 7, 'max_features': 'log2', 'min_samples_leaf': 13, 'min_samples_split': 15, 'n_estimators': 910}\n",
            "0.8677497834577488\n",
            "0.6108170988928863\n",
            "{'bootstrap': False, 'max_depth': 8, 'max_features': None, 'min_samples_leaf': 14, 'min_samples_split': 11, 'n_estimators': 890}\n",
            "0.8641485897649193\n",
            "0.42612056171400403\n",
            "{'bootstrap': False, 'max_depth': 3, 'max_features': 'log2', 'min_samples_leaf': 16, 'min_samples_split': 4, 'n_estimators': 880}\n",
            "0.6916406835612459\n",
            "0.6183958440842716\n",
            "{'bootstrap': False, 'max_depth': 11, 'max_features': None, 'min_samples_leaf': 13, 'min_samples_split': 4, 'n_estimators': 280}\n",
            "0.9382808795043329\n",
            "0.3982204660858206\n",
            "{'bootstrap': False, 'max_depth': 17, 'max_features': 'auto', 'min_samples_leaf': 19, 'min_samples_split': 14, 'n_estimators': 350}\n",
            " 50%|█████     | 5/10 [12:24<13:03, 156.62s/trial, best loss: 0.5000474478260033]"
          ]
        },
        {
          "name": "stderr",
          "output_type": "stream",
          "text": [
            "/usr/local/lib/python3.10/dist-packages/sklearn/ensemble/_forest.py:424: FutureWarning: `max_features='auto'` has been deprecated in 1.1 and will be removed in 1.3. To keep the past behaviour, explicitly set `max_features='sqrt'` or remove this parameter as it is also the default value for RandomForestClassifiers and ExtraTreesClassifiers.\n",
            "  warn(\n",
            "\n"
          ]
        },
        {
          "name": "stdout",
          "output_type": "stream",
          "text": [
            "0.998275903274374\n",
            "0.5957300278410727\n",
            "{'bootstrap': True, 'max_depth': 20, 'max_features': 'auto', 'min_samples_leaf': 17, 'min_samples_split': 3, 'n_estimators': 620}\n",
            " 60%|██████    | 6/10 [13:33<08:27, 126.97s/trial, best loss: 0.5000474478260033]"
          ]
        },
        {
          "name": "stderr",
          "output_type": "stream",
          "text": [
            "/usr/local/lib/python3.10/dist-packages/sklearn/ensemble/_forest.py:424: FutureWarning: `max_features='auto'` has been deprecated in 1.1 and will be removed in 1.3. To keep the past behaviour, explicitly set `max_features='sqrt'` or remove this parameter as it is also the default value for RandomForestClassifiers and ExtraTreesClassifiers.\n",
            "  warn(\n",
            "\n"
          ]
        },
        {
          "name": "stdout",
          "output_type": "stream",
          "text": [
            "0.9977533811284542\n",
            "0.5959277246233041\n",
            "{'bootstrap': True, 'max_depth': 16, 'max_features': 'log2', 'min_samples_leaf': 10, 'min_samples_split': 12, 'n_estimators': 880}\n",
            "0.997985122990801\n",
            "0.6000769447937728\n",
            "{'bootstrap': False, 'max_depth': 20, 'max_features': 'auto', 'min_samples_leaf': 5, 'min_samples_split': 18, 'n_estimators': 470}\n",
            " 80%|████████  | 8/10 [17:12<03:58, 119.19s/trial, best loss: 0.5000474478260033]"
          ]
        },
        {
          "name": "stderr",
          "output_type": "stream",
          "text": [
            "/usr/local/lib/python3.10/dist-packages/sklearn/ensemble/_forest.py:424: FutureWarning: `max_features='auto'` has been deprecated in 1.1 and will be removed in 1.3. To keep the past behaviour, explicitly set `max_features='sqrt'` or remove this parameter as it is also the default value for RandomForestClassifiers and ExtraTreesClassifiers.\n",
            "  warn(\n",
            "\n"
          ]
        },
        {
          "name": "stdout",
          "output_type": "stream",
          "text": [
            "0.9998940268456744\n",
            "0.5938778788240884\n",
            "{'bootstrap': False, 'max_depth': 15, 'max_features': 'sqrt', 'min_samples_leaf': 8, 'min_samples_split': 10, 'n_estimators': 940}\n",
            "0.9984390336487872\n",
            "0.601686383705641\n",
            "100%|██████████| 10/10 [21:58<00:00, 131.89s/trial, best loss: 0.5000474478260033]\n",
            "CPU times: user 21min 41s, sys: 1.87 s, total: 21min 43s\n",
            "Wall time: 21min 58s\n"
          ]
        }
      ],
      "source": [
        "%%time\n",
        "best = fmin(\n",
        "    fn=objective,\n",
        "    space=params,\n",
        "    algo=tpe.suggest,\n",
        "    max_evals=10\n",
        ")"
      ]
    },
    {
      "cell_type": "code",
      "execution_count": null,
      "metadata": {
        "colab": {
          "base_uri": "https://localhost:8080/"
        },
        "id": "ragkZBAKS8u6",
        "outputId": "5af7fcb0-f91b-43c7-c04a-b2cfbebab220"
      },
      "outputs": [
        {
          "data": {
            "text/plain": [
              "{'bootstrap': 1,\n",
              " 'max_depth': 3.0,\n",
              " 'max_features': 2,\n",
              " 'min_samples_leaf': 16.0,\n",
              " 'min_samples_split': 4.0,\n",
              " 'n_estimators': 880.0}"
            ]
          },
          "execution_count": 111,
          "metadata": {},
          "output_type": "execute_result"
        }
      ],
      "source": [
        "best"
      ]
    },
    {
      "cell_type": "code",
      "source": [
        "best = {'bootstrap': 1,\n",
        " 'max_depth': 3.0,\n",
        " 'max_features': 2,\n",
        " 'min_samples_leaf': 16.0,\n",
        " 'min_samples_split': 4.0,\n",
        " 'n_estimators': 880.0}"
      ],
      "metadata": {
        "id": "SxBjaZIx74M8"
      },
      "execution_count": null,
      "outputs": []
    },
    {
      "cell_type": "code",
      "execution_count": null,
      "metadata": {
        "colab": {
          "base_uri": "https://localhost:8080/",
          "height": 165
        },
        "id": "i3AOe-uoS8u6",
        "outputId": "555e75f8-10b6-4862-8eb9-182daa3b78e2"
      },
      "outputs": [
        {
          "name": "stderr",
          "output_type": "stream",
          "text": [
            "/usr/local/lib/python3.10/dist-packages/sklearn/utils/_param_validation.py:558: FutureWarning: Passing an int for a boolean parameter is deprecated in version 1.2 and won't be supported anymore in version 1.4.\n",
            "  warnings.warn(\n"
          ]
        },
        {
          "data": {
            "text/html": [
              "<style>#sk-container-id-2 {color: black;background-color: white;}#sk-container-id-2 pre{padding: 0;}#sk-container-id-2 div.sk-toggleable {background-color: white;}#sk-container-id-2 label.sk-toggleable__label {cursor: pointer;display: block;width: 100%;margin-bottom: 0;padding: 0.3em;box-sizing: border-box;text-align: center;}#sk-container-id-2 label.sk-toggleable__label-arrow:before {content: \"▸\";float: left;margin-right: 0.25em;color: #696969;}#sk-container-id-2 label.sk-toggleable__label-arrow:hover:before {color: black;}#sk-container-id-2 div.sk-estimator:hover label.sk-toggleable__label-arrow:before {color: black;}#sk-container-id-2 div.sk-toggleable__content {max-height: 0;max-width: 0;overflow: hidden;text-align: left;background-color: #f0f8ff;}#sk-container-id-2 div.sk-toggleable__content pre {margin: 0.2em;color: black;border-radius: 0.25em;background-color: #f0f8ff;}#sk-container-id-2 input.sk-toggleable__control:checked~div.sk-toggleable__content {max-height: 200px;max-width: 100%;overflow: auto;}#sk-container-id-2 input.sk-toggleable__control:checked~label.sk-toggleable__label-arrow:before {content: \"▾\";}#sk-container-id-2 div.sk-estimator input.sk-toggleable__control:checked~label.sk-toggleable__label {background-color: #d4ebff;}#sk-container-id-2 div.sk-label input.sk-toggleable__control:checked~label.sk-toggleable__label {background-color: #d4ebff;}#sk-container-id-2 input.sk-hidden--visually {border: 0;clip: rect(1px 1px 1px 1px);clip: rect(1px, 1px, 1px, 1px);height: 1px;margin: -1px;overflow: hidden;padding: 0;position: absolute;width: 1px;}#sk-container-id-2 div.sk-estimator {font-family: monospace;background-color: #f0f8ff;border: 1px dotted black;border-radius: 0.25em;box-sizing: border-box;margin-bottom: 0.5em;}#sk-container-id-2 div.sk-estimator:hover {background-color: #d4ebff;}#sk-container-id-2 div.sk-parallel-item::after {content: \"\";width: 100%;border-bottom: 1px solid gray;flex-grow: 1;}#sk-container-id-2 div.sk-label:hover label.sk-toggleable__label {background-color: #d4ebff;}#sk-container-id-2 div.sk-serial::before {content: \"\";position: absolute;border-left: 1px solid gray;box-sizing: border-box;top: 0;bottom: 0;left: 50%;z-index: 0;}#sk-container-id-2 div.sk-serial {display: flex;flex-direction: column;align-items: center;background-color: white;padding-right: 0.2em;padding-left: 0.2em;position: relative;}#sk-container-id-2 div.sk-item {position: relative;z-index: 1;}#sk-container-id-2 div.sk-parallel {display: flex;align-items: stretch;justify-content: center;background-color: white;position: relative;}#sk-container-id-2 div.sk-item::before, #sk-container-id-2 div.sk-parallel-item::before {content: \"\";position: absolute;border-left: 1px solid gray;box-sizing: border-box;top: 0;bottom: 0;left: 50%;z-index: -1;}#sk-container-id-2 div.sk-parallel-item {display: flex;flex-direction: column;z-index: 1;position: relative;background-color: white;}#sk-container-id-2 div.sk-parallel-item:first-child::after {align-self: flex-end;width: 50%;}#sk-container-id-2 div.sk-parallel-item:last-child::after {align-self: flex-start;width: 50%;}#sk-container-id-2 div.sk-parallel-item:only-child::after {width: 0;}#sk-container-id-2 div.sk-dashed-wrapped {border: 1px dashed gray;margin: 0 0.4em 0.5em 0.4em;box-sizing: border-box;padding-bottom: 0.4em;background-color: white;}#sk-container-id-2 div.sk-label label {font-family: monospace;font-weight: bold;display: inline-block;line-height: 1.2em;}#sk-container-id-2 div.sk-label-container {text-align: center;}#sk-container-id-2 div.sk-container {/* jupyter's `normalize.less` sets `[hidden] { display: none; }` but bootstrap.min.css set `[hidden] { display: none !important; }` so we also need the `!important` here to be able to override the default hidden behavior on the sphinx rendered scikit-learn.org. See: https://github.com/scikit-learn/scikit-learn/issues/21755 */display: inline-block !important;position: relative;}#sk-container-id-2 div.sk-text-repr-fallback {display: none;}</style><div id=\"sk-container-id-2\" class=\"sk-top-container\"><div class=\"sk-text-repr-fallback\"><pre>RandomForestClassifier(bootstrap=1, max_depth=3, max_features=2,\n",
              "                       min_samples_leaf=16, min_samples_split=4,\n",
              "                       n_estimators=880)</pre><b>In a Jupyter environment, please rerun this cell to show the HTML representation or trust the notebook. <br />On GitHub, the HTML representation is unable to render, please try loading this page with nbviewer.org.</b></div><div class=\"sk-container\" hidden><div class=\"sk-item\"><div class=\"sk-estimator sk-toggleable\"><input class=\"sk-toggleable__control sk-hidden--visually\" id=\"sk-estimator-id-2\" type=\"checkbox\" checked><label for=\"sk-estimator-id-2\" class=\"sk-toggleable__label sk-toggleable__label-arrow\">RandomForestClassifier</label><div class=\"sk-toggleable__content\"><pre>RandomForestClassifier(bootstrap=1, max_depth=3, max_features=2,\n",
              "                       min_samples_leaf=16, min_samples_split=4,\n",
              "                       n_estimators=880)</pre></div></div></div></div></div>"
            ],
            "text/plain": [
              "RandomForestClassifier(bootstrap=1, max_depth=3, max_features=2,\n",
              "                       min_samples_leaf=16, min_samples_split=4,\n",
              "                       n_estimators=880)"
            ]
          },
          "execution_count": 112,
          "metadata": {},
          "output_type": "execute_result"
        }
      ],
      "source": [
        "best['max_depth'] = int(best['max_depth'])\n",
        "best['min_samples_leaf'] = int(best['min_samples_leaf'])\n",
        "best['min_samples_split'] = int(best['min_samples_split'])\n",
        "best['n_estimators'] = int(best['n_estimators'])\n",
        "\n",
        "loss_history = {'train': [], 'eval': []}\n",
        "\n",
        "eval_set = [(X_train[const_feats], y_train), (X_test[const_feats], y_test)]\n",
        "model = RandomForestClassifier(**best)\n",
        "model.fit(X_train[const_feats], y_train)"
      ]
    },
    {
      "cell_type": "code",
      "execution_count": null,
      "metadata": {
        "id": "Wo0ScKZzS8u7"
      },
      "outputs": [],
      "source": [
        "roc_curves = []\n",
        "pr_curves = []\n",
        "\n",
        "y_prob = model.predict_proba(X_test[const_feats])[:, 1]\n",
        "fpr, tpr, _ = roc_curve(y_test, y_prob)\n",
        "precision, recall, _ = precision_recall_curve(y_test, y_prob)\n",
        "roc_curves.append((fpr, tpr))\n",
        "pr_curves.append((precision, recall))"
      ]
    },
    {
      "cell_type": "code",
      "execution_count": null,
      "metadata": {
        "colab": {
          "base_uri": "https://localhost:8080/",
          "height": 564
        },
        "id": "DFippMyVS8u7",
        "outputId": "06097f5f-fd9c-4b72-ec74-ee8f19348ef2"
      },
      "outputs": [
        {
          "data": {
            "image/png": "[encoded data removed]",
            "text/plain": [
              "<Figure size 700x600 with 1 Axes>"
            ]
          },
          "metadata": {},
          "output_type": "display_data"
        }
      ],
      "source": [
        "plt.figure(figsize=(7, 6))\n",
        "for i, (fpr, tpr) in enumerate(roc_curves):\n",
        "    plt.plot(fpr, tpr, label=f'ROC (AUC = {auc(fpr, tpr):.2f})')\n",
        "plt.plot([0, 1], [0, 1], 'k--')\n",
        "plt.xlabel('False Positive Rate')\n",
        "plt.ylabel('True Positive Rate')\n",
        "plt.title('ROC кривая')\n",
        "plt.legend()\n",
        "plt.show()"
      ]
    },
    {
      "cell_type": "code",
      "execution_count": null,
      "metadata": {
        "colab": {
          "base_uri": "https://localhost:8080/",
          "height": 564
        },
        "id": "aBHGaP-MS8u7",
        "outputId": "861b91d9-1c4e-48ec-8b15-8255f6dfa939"
      },
      "outputs": [
        {
          "data": {
            "image/png": "[encoded data removed]",
            "text/plain": [
              "<Figure size 700x600 with 1 Axes>"
            ]
          },
          "metadata": {},
          "output_type": "display_data"
        }
      ],
      "source": [
        "plt.figure(figsize=(7, 6))\n",
        "for i, (precision, recall) in enumerate(pr_curves):\n",
        "    plt.plot(recall, precision, label=f'PR (AUC = {auc(recall, precision):.2f})')\n",
        "plt.xlabel('Recall')\n",
        "plt.ylabel('Precision')\n",
        "plt.title('PR кривая')\n",
        "plt.legend()\n",
        "plt.show()"
      ]
    },
    {
      "cell_type": "code",
      "execution_count": null,
      "metadata": {
        "id": "SsbyxqasS8u8"
      },
      "outputs": [],
      "source": [
        "coef = 1 / model.predict_proba(X_train[const_feats])[:, 1].max() - 0.001"
      ]
    },
    {
      "cell_type": "code",
      "execution_count": null,
      "metadata": {
        "colab": {
          "base_uri": "https://localhost:8080/"
        },
        "id": "JqsBvYvyS8u8",
        "outputId": "b6cbc346-31c8-4c2e-a499-c9c7b5063cd4"
      },
      "outputs": [
        {
          "name": "stdout",
          "output_type": "stream",
          "text": [
            "              precision    recall  f1-score   support\n",
            "\n",
            "           0       0.85      0.68      0.75     16085\n",
            "           1       0.54      0.76      0.63      8041\n",
            "\n",
            "    accuracy                           0.70     24126\n",
            "   macro avg       0.70      0.72      0.69     24126\n",
            "weighted avg       0.75      0.70      0.71     24126\n",
            "\n"
          ]
        }
      ],
      "source": [
        "print(classification_report(y_test, ((model.predict_proba(X_test[const_feats])[:, 1] * 1.44) > 0.5).astype(int)))"
      ]
    },
    {
      "cell_type": "code",
      "execution_count": null,
      "metadata": {
        "colab": {
          "base_uri": "https://localhost:8080/"
        },
        "id": "z6HVvGGPS8u8",
        "outputId": "02ed9670-a275-48c8-9253-bceb080c5dd7"
      },
      "outputs": [
        {
          "name": "stdout",
          "output_type": "stream",
          "text": [
            "0.6834972997189577 0.6284467500391613\n"
          ]
        }
      ],
      "source": [
        "print(roc_auc_score(y_train, model.predict_proba(X_train[const_feats])[:, 1], sample_weight=train_weights) * 2 - 1,\n",
        "roc_auc_score(y_test, model.predict_proba(X_test[const_feats])[:, 1], sample_weight=test_weights) * 2 - 1)"
      ]
    },
    {
      "cell_type": "code",
      "execution_count": null,
      "metadata": {
        "colab": {
          "base_uri": "https://localhost:8080/",
          "height": 162
        },
        "id": "PdXKW95dS8u8",
        "outputId": "755f06e6-de95-4dc0-b5b1-e9655d2e427c"
      },
      "outputs": [
        {
          "output_type": "error",
          "ename": "NameError",
          "evalue": "name 'model' is not defined",
          "traceback": [
            "\u001b[0;31m---------------------------------------------------------------------------\u001b[0m",
            "\u001b[0;31mNameError\u001b[0m                                 Traceback (most recent call last)",
            "\u001b[0;32m<ipython-input-95-e1d66ddc0705>\u001b[0m in \u001b[0;36m<cell line: 1>\u001b[0;34m()\u001b[0m\n\u001b[0;32m----> 1\u001b[0;31m \u001b[0;32mfor\u001b[0m \u001b[0mi\u001b[0m \u001b[0;32min\u001b[0m \u001b[0mzip\u001b[0m\u001b[0;34m(\u001b[0m\u001b[0mconst_feats\u001b[0m\u001b[0;34m,\u001b[0m \u001b[0mmodel\u001b[0m\u001b[0;34m.\u001b[0m\u001b[0mfeature_importances_\u001b[0m\u001b[0;34m)\u001b[0m\u001b[0;34m:\u001b[0m\u001b[0;34m\u001b[0m\u001b[0;34m\u001b[0m\u001b[0m\n\u001b[0m\u001b[1;32m      2\u001b[0m     \u001b[0mprint\u001b[0m\u001b[0;34m(\u001b[0m\u001b[0mi\u001b[0m\u001b[0;34m)\u001b[0m\u001b[0;34m\u001b[0m\u001b[0;34m\u001b[0m\u001b[0m\n",
            "\u001b[0;31mNameError\u001b[0m: name 'model' is not defined"
          ]
        }
      ],
      "source": [
        "for i in zip(const_feats, model.feature_importances_):\n",
        "    print(i)"
      ]
    },
    {
      "cell_type": "code",
      "execution_count": null,
      "metadata": {
        "colab": {
          "base_uri": "https://localhost:8080/",
          "height": 541
        },
        "id": "6wS2d9-YS8u9",
        "outputId": "3a084f89-84b4-4112-a8da-4bff95947cd7"
      },
      "outputs": [
        {
          "data": {
            "text/plain": [
              "(array([ 9327.,  7939.,  8985., 13371., 11626., 11876., 10976.,  6092.,\n",
              "         4785.,  1294.]),\n",
              " array([0.10474201, 0.19419572, 0.28364943, 0.37310314, 0.46255685,\n",
              "        0.55201056, 0.64146427, 0.73091798, 0.82037169, 0.9098254 ,\n",
              "        0.99927911]),\n",
              " <BarContainer object of 10 artists>)"
            ]
          },
          "execution_count": 119,
          "metadata": {},
          "output_type": "execute_result"
        },
        {
          "data": {
            "image/png": "[encoded data removed]",
            "text/plain": [
              "<Figure size 640x480 with 1 Axes>"
            ]
          },
          "metadata": {},
          "output_type": "display_data"
        }
      ],
      "source": [
        "import matplotlib.pyplot as plt\n",
        "plt.hist(model.predict_proba(X_train[const_feats])[:, 1] * coef)"
      ]
    },
    {
      "cell_type": "code",
      "execution_count": null,
      "metadata": {
        "colab": {
          "base_uri": "https://localhost:8080/",
          "height": 537
        },
        "id": "d66917Z1S8u9",
        "outputId": "b18b0f77-cb96-4b8c-f7e8-a4353e7cee92"
      },
      "outputs": [
        {
          "data": {
            "text/plain": [
              "(array([2377., 1942., 2565., 2942., 3461., 4068., 3405., 2397.,  723.,\n",
              "         246.]),\n",
              " array([0.10476278, 0.19090053, 0.27703829, 0.36317604, 0.44931379,\n",
              "        0.53545154, 0.62158929, 0.70772704, 0.7938648 , 0.88000255,\n",
              "        0.9661403 ]),\n",
              " <BarContainer object of 10 artists>)"
            ]
          },
          "execution_count": 120,
          "metadata": {},
          "output_type": "execute_result"
        },
        {
          "data": {
            "image/png": "[encoded data removed]",
            "text/plain": [
              "<Figure size 640x480 with 1 Axes>"
            ]
          },
          "metadata": {},
          "output_type": "display_data"
        }
      ],
      "source": [
        "import matplotlib.pyplot as plt\n",
        "plt.hist(model.predict_proba(X_test[const_feats])[:, 1] * coef)"
      ]
    },
    {
      "cell_type": "markdown",
      "metadata": {
        "id": "mICZA2FWZfzE"
      },
      "source": [
        "#SVM"
      ]
    },
    {
      "cell_type": "code",
      "execution_count": null,
      "metadata": {
        "id": "0f9wkSVPZfzY"
      },
      "outputs": [],
      "source": [
        "from sklearn.svm import SVC\n",
        "import matplotlib.pyplot as plt\n",
        "import numpy as np\n",
        "from hyperopt import fmin, tpe, hp, STATUS_OK, Trials\n",
        "from hyperopt.pyll.base import scope\n",
        "from sklearn.datasets import load_breast_cancer\n",
        "from sklearn.metrics import roc_curve, auc, precision_recall_curve\n",
        "from sklearn.model_selection import train_test_split\n",
        "from sklearn.svm import SVC\n",
        "from sklearn.preprocessing import StandardScaler\n",
        "from sklearn.pipeline import make_pipeline"
      ]
    },
    {
      "cell_type": "code",
      "execution_count": null,
      "metadata": {
        "colab": {
          "background_save": true,
          "base_uri": "https://localhost:8080/"
        },
        "id": "DRdrtWQWC2NA",
        "outputId": "72c3c384-028d-4687-b4bb-7f968fbf9dfb"
      },
      "outputs": [
        {
          "name": "stdout",
          "output_type": "stream",
          "text": [
            "0.5437218697928952\n",
            "0.5212282467337799\n",
            " 20%|██        | 1/5 [33:57<2:15:51, 2037.99s/trial, best loss: 0.4787717532662201]"
          ]
        },
        {
          "name": "stderr",
          "output_type": "stream",
          "text": [
            "/usr/local/lib/python3.10/dist-packages/sklearn/svm/_base.py:299: ConvergenceWarning: Solver terminated early (max_iter=100).  Consider pre-processing your data with StandardScaler or MinMaxScaler.\n",
            "  warnings.warn(\n",
            "\n"
          ]
        },
        {
          "name": "stdout",
          "output_type": "stream",
          "text": [
            "0.22076442428267418\n",
            "0.21828168714294782\n",
            " 40%|████      | 2/5 [34:05<42:10, 843.51s/trial, best loss: 0.4787717532662201]   "
          ]
        },
        {
          "name": "stderr",
          "output_type": "stream",
          "text": [
            "/usr/local/lib/python3.10/dist-packages/sklearn/svm/_base.py:299: ConvergenceWarning: Solver terminated early (max_iter=500).  Consider pre-processing your data with StandardScaler or MinMaxScaler.\n",
            "  warnings.warn(\n",
            "\n"
          ]
        },
        {
          "name": "stdout",
          "output_type": "stream",
          "text": [
            "0.3570540867351186\n",
            "0.34795565329489286\n",
            " 60%|██████    | 3/5 [34:38<15:47, 473.54s/trial, best loss: 0.4787717532662201]"
          ]
        },
        {
          "name": "stderr",
          "output_type": "stream",
          "text": [
            "/usr/local/lib/python3.10/dist-packages/sklearn/svm/_base.py:299: ConvergenceWarning: Solver terminated early (max_iter=100).  Consider pre-processing your data with StandardScaler or MinMaxScaler.\n",
            "  warnings.warn(\n",
            "\n"
          ]
        },
        {
          "name": "stdout",
          "output_type": "stream",
          "text": [
            "0.19328978047987444\n",
            "0.21287963996454762\n",
            " 80%|████████  | 4/5 [34:42<04:48, 288.17s/trial, best loss: 0.4787717532662201]"
          ]
        },
        {
          "name": "stderr",
          "output_type": "stream",
          "text": [
            "/usr/local/lib/python3.10/dist-packages/sklearn/svm/_base.py:299: ConvergenceWarning: Solver terminated early (max_iter=200).  Consider pre-processing your data with StandardScaler or MinMaxScaler.\n",
            "  warnings.warn(\n",
            "\n"
          ]
        },
        {
          "name": "stdout",
          "output_type": "stream",
          "text": [
            "0.3713037294721985\n",
            "0.3647525502363026\n",
            "100%|██████████| 5/5 [34:56<00:00, 419.25s/trial, best loss: 0.4787717532662201]\n",
            "Best parameters: {'C': 0.011742562456722712, 'class_weight': 1, 'coef0': 0.665932735145493, 'degree': 4.0, 'gamma': 0, 'kernel': 0, 'max_iter': 0, 'shrinking': 1, 'tol': 0.0030183686323014317}\n"
          ]
        }
      ],
      "source": [
        "\n",
        "\n",
        "# Store the loss history and curve data\n",
        "loss_history = {'train': [], 'eval': []}\n",
        "roc_curves = []\n",
        "pr_curves = []\n",
        "\n",
        "# Define the objective function\n",
        "def objective(params):\n",
        "    # Convert the hyperparameters to the appropriate data types\n",
        "    params['C'] = float(params['C'])\n",
        "    params['degree'] = int(params['degree']) if 'degree' in params else 3\n",
        "\n",
        "    # Define the SVC within a pipeline (with scaling)\n",
        "    clf = make_pipeline(\n",
        "        StandardScaler(),\n",
        "        SVC(\n",
        "            C=params['C'],\n",
        "            kernel=params['kernel'],\n",
        "            degree=params.get('degree', 3),\n",
        "            gamma=params.get('gamma', 'scale'),\n",
        "            coef0=params.get('coef0', 0.0),\n",
        "            shrinking=params['shrinking'],\n",
        "            probability=True,\n",
        "            tol=params['tol'],\n",
        "            cache_size=200,\n",
        "            class_weight=params.get('class_weight', None),\n",
        "            max_iter=params['max_iter'],\n",
        "            random_state=42\n",
        "        )\n",
        "    )\n",
        "\n",
        "    # Fit the model\n",
        "    clf.fit(X_train[const_feats], y_train)\n",
        "\n",
        "    # Compute predictions and probabilities\n",
        "    y_prob = clf.predict_proba(X_test[const_feats])[:, 1]\n",
        "\n",
        "    # Compute ROC and PR curves\n",
        "    fpr, tpr, _ = roc_curve(y_test, y_prob)\n",
        "    precision, recall, _ = precision_recall_curve(y_test, y_prob)\n",
        "\n",
        "    # Calculate evaluation loss (use negative AUC for minimization)\n",
        "    #eval_loss = 1 - auc(fpr, tpr)\n",
        "    train_score = np.abs(roc_auc_score(y_train, clf.predict_proba(X_train[const_feats])[:, 1]) * 2 - 1)\n",
        "    test_score = np.abs(roc_auc_score(y_test, clf.predict_proba(X_test[const_feats])[:, 1]) * 2 - 1)\n",
        "    print(train_score, test_score)\n",
        "    eval_loss = max(0.6, train_score) / max(0.6, test_score) - test_score\n",
        "    # Store the loss history and curve data\n",
        "    loss_history['train'].append(None)  # No train loss for SVM\n",
        "    loss_history['eval'].append(eval_loss)\n",
        "    roc_curves.append((fpr, tpr))\n",
        "    pr_curves.append((precision, recall))\n",
        "\n",
        "    return {'loss': eval_loss, 'status': STATUS_OK}\n",
        "\n",
        "params = {\n",
        "    'C': hp.loguniform('C', np.log(1e-3), np.log(1e3)),\n",
        "    'kernel': hp.choice('kernel', ['linear', 'poly', 'rbf', 'sigmoid']),\n",
        "    'degree': scope.int(hp.quniform('degree', 2, 5, 1)),  # Only used for 'poly' kernel\n",
        "    'gamma': hp.choice('gamma', ['scale', 'auto']),\n",
        "    'coef0': hp.uniform('coef0', 0, 1),  # Only used for 'poly' and 'sigmoid' kernels\n",
        "    'shrinking': hp.choice('shrinking', [True, False]),\n",
        "    'tol': hp.loguniform('tol', np.log(1e-5), np.log(1e-1)),\n",
        "    'class_weight': hp.choice('class_weight', [None, 'balanced']),\n",
        "    'max_iter': hp.choice('max_iter', [-1, 100, 200, 300, 400, 500])\n",
        "}\n",
        "\n",
        "trials = Trials()\n",
        "best = fmin(\n",
        "    fn=objective,\n",
        "    space=params,\n",
        "    algo=tpe.suggest,\n",
        "    max_evals=5,\n",
        "    trials=trials\n",
        ")\n",
        "\n",
        "print(\"Best parameters:\", best)"
      ]
    },
    {
      "cell_type": "code",
      "source": [
        "best = {'C': 0.011742562456722712, 'class_weight': 'balanced', 'coef0': 0.665932735145493, 'degree': 4.0, 'gamma': 0, 'kernel': 'linear', 'max_iter': 0, 'shrinking': 1, 'tol': 0.0030183686323014317}\n"
      ],
      "metadata": {
        "id": "0Tv1lc31jrT-"
      },
      "execution_count": null,
      "outputs": []
    },
    {
      "cell_type": "code",
      "execution_count": null,
      "metadata": {
        "id": "ds984bm4aZfZ",
        "colab": {
          "base_uri": "https://localhost:8080/",
          "height": 1000
        },
        "outputId": "b6daa84c-44ac-485b-89fe-2069cc84f8a1"
      },
      "outputs": [
        {
          "output_type": "stream",
          "name": "stdout",
          "text": [
            "Best parameters: {'C': 0.011742562456722712, 'class_weight': 'balanced', 'coef0': 0.665932735145493, 'degree': 4.0, 'gamma': 0, 'kernel': 'linear', 'max_iter': 0, 'shrinking': 1, 'tol': 0.0030183686323014317}\n"
          ]
        },
        {
          "output_type": "stream",
          "name": "stderr",
          "text": [
            "/usr/local/lib/python3.10/dist-packages/sklearn/utils/_param_validation.py:558: FutureWarning: Passing an int for a boolean parameter is deprecated in version 1.2 and won't be supported anymore in version 1.4.\n",
            "  warnings.warn(\n",
            "/usr/local/lib/python3.10/dist-packages/sklearn/svm/_base.py:299: ConvergenceWarning: Solver terminated early (max_iter=0).  Consider pre-processing your data with StandardScaler or MinMaxScaler.\n",
            "  warnings.warn(\n"
          ]
        },
        {
          "output_type": "stream",
          "name": "stdout",
          "text": [
            "GINI 0.0 0.0\n"
          ]
        },
        {
          "output_type": "display_data",
          "data": {
            "text/plain": [
              "<Figure size 700x600 with 1 Axes>"
            ],
            "image/png": "[encoded data removed]"
          },
          "metadata": {}
        },
        {
          "output_type": "display_data",
          "data": {
            "text/plain": [
              "<Figure size 700x600 with 1 Axes>"
            ],
            "image/png": "[encoded data removed]"
          },
          "metadata": {}
        }
      ],
      "source": [
        "# Print the best parameters found\n",
        "print(\"Best parameters:\", best)\n",
        "class_weights = [None, 'balanced']\n",
        "kernels = ['linear', 'poly', 'rbf', 'sigmoid']\n",
        "\n",
        "#best['class_weight'] = class_weights[best['class_weight']]\n",
        "best['degree'] = int(best['degree'])\n",
        "#best['kernel'] = kernels[best['kernel']]\n",
        "\n",
        "model = make_pipeline(\n",
        "        StandardScaler(),\n",
        "        SVC(\n",
        "            C=best['C'],\n",
        "            kernel=best['kernel'],\n",
        "            degree=best.get('degree', 3),\n",
        "            gamma=best.get('gamma', 'scale'),\n",
        "            coef0=best.get('coef0', 0.0),\n",
        "            shrinking=best['shrinking'],\n",
        "            probability=True,\n",
        "            tol=best['tol'],\n",
        "            cache_size=200,\n",
        "            class_weight=best.get('class_weight', None),\n",
        "            max_iter=best['max_iter'],\n",
        "            random_state=42\n",
        "        )\n",
        "    )\n",
        "\n",
        "model.fit(X_train[const_feats], y_train)\n",
        "\n",
        "y_prob = model.predict_proba(X_test[const_feats])[:, 1]\n",
        "\n",
        "fpr, tpr, _ = roc_curve(y_test, y_prob)\n",
        "precision, recall, _ = precision_recall_curve(y_test, y_prob)\n",
        "\n",
        "train_score = roc_auc_score(y_train, model.predict_proba(X_train[const_feats])[:, 1]) * 2 - 1\n",
        "test_score = roc_auc_score(y_test, model.predict_proba(X_test[const_feats])[:, 1]) * 2 - 1\n",
        "print('GINI', train_score, test_score)\n",
        "\n",
        "plt.figure(figsize=(7, 6))\n",
        "plt.plot(fpr, tpr, label=f'ROC (AUC = {auc(fpr, tpr):.2f})')\n",
        "plt.plot([0, 1], [0, 1], 'k--')\n",
        "plt.xlabel('False Positive Rate')\n",
        "plt.ylabel('True Positive Rate')\n",
        "plt.title('ROC Curves')\n",
        "plt.legend()\n",
        "plt.show()\n",
        "\n",
        "plt.figure(figsize=(7, 6))\n",
        "plt.plot(recall, precision, label=f'PR (AUC = {auc(recall, precision):.2f})')\n",
        "plt.xlabel('Recall')\n",
        "plt.ylabel('Precision')\n",
        "plt.title('Precision-Recall Curves')\n",
        "plt.legend()\n",
        "plt.show()"
      ]
    },
    {
      "cell_type": "code",
      "execution_count": null,
      "metadata": {
        "id": "aMSG3Mge4rV0"
      },
      "outputs": [],
      "source": [
        "import matplotlib.pyplot as plt\n",
        "import numpy as np\n",
        "from hyperopt import fmin, tpe, hp, STATUS_OK, Trials\n",
        "from hyperopt.pyll.base import scope\n",
        "from sklearn.datasets import load_breast_cancer\n",
        "from sklearn.metrics import roc_curve, auc, precision_recall_curve\n",
        "from sklearn.model_selection import train_test_split\n",
        "from sklearn.svm import SVC\n",
        "from sklearn.preprocessing import StandardScaler\n",
        "from sklearn.pipeline import make_pipeline\n",
        "\n",
        "def objective(params):\n",
        "    params['C'] = float(params['C'])\n",
        "    params['degree'] = int(params['degree']) if 'degree' in params else 3\n",
        "\n",
        "    clf = make_pipeline(\n",
        "        StandardScaler(),\n",
        "        SVC(\n",
        "            C=params['C'],\n",
        "            kernel=params['kernel'],\n",
        "            degree=params.get('degree', 3),\n",
        "            gamma=params.get('gamma', 'scale'),\n",
        "            coef0=params.get('coef0', 0.0),\n",
        "            shrinking=params['shrinking'],\n",
        "            probability=True,\n",
        "            tol=params['tol'],\n",
        "            cache_size=200,\n",
        "            class_weight=params.get('class_weight', None),\n",
        "            max_iter=params['max_iter'],\n",
        "            random_state=42\n",
        "        )\n",
        "    )\n",
        "\n",
        "    clf.fit(X_train[const_feats], y_train)\n",
        "\n",
        "    train_score = np.abs(roc_auc_score(y_train, clf.predict_proba(X_train[const_feats])[:, 1]) * 2 - 1)\n",
        "    test_score = np.abs(roc_auc_score(y_test, clf.predict_proba(X_test[const_feats])[:, 1]) * 2 - 1)\n",
        "    print(train_score, test_score)\n",
        "    score = -test_score\n",
        "    return {'loss': score, 'status': STATUS_OK}"
      ]
    },
    {
      "cell_type": "code",
      "execution_count": null,
      "metadata": {
        "colab": {
          "base_uri": "https://localhost:8080/"
        },
        "id": "pHRnT01shSH9",
        "outputId": "316e732e-541a-4e1a-ed7b-185f32652278"
      },
      "outputs": [
        {
          "name": "stdout",
          "output_type": "stream",
          "text": [
            "\r  0%|          | 0/3 [00:00<?, ?trial/s, best loss=?]"
          ]
        }
      ],
      "source": [
        "loss_history = {'train': [], 'eval': []}\n",
        "roc_curves = []\n",
        "pr_curves = []\n",
        "\n",
        "params = {\n",
        "    'C': hp.loguniform('C', np.log(1e-3), np.log(1e3)),\n",
        "    'kernel': hp.choice('kernel', ['linear', 'poly', 'rbf', 'sigmoid']),\n",
        "    'degree': scope.int(hp.quniform('degree', 2, 5, 1)),\n",
        "    'gamma': hp.choice('gamma', ['scale', 'auto']),\n",
        "    'coef0': hp.uniform('coef0', 0, 1),\n",
        "    'shrinking': hp.choice('shrinking', [True, False]),\n",
        "    'tol': hp.loguniform('tol', np.log(1e-5), np.log(1e-1)),\n",
        "    'class_weight': hp.choice('class_weight', [None, 'balanced']),\n",
        "    'max_iter': hp.choice('max_iter', [-1, 100, 200, 300, 400, 500])\n",
        "}\n",
        "\n",
        "trials = Trials()\n",
        "best = fmin(\n",
        "    fn=objective,\n",
        "    space=params,\n",
        "    algo=tpe.suggest,\n",
        "    max_evals=3,\n",
        "    trials=trials\n",
        ")\n",
        "\n",
        "# Print the best parameters found\n",
        "print(\"Best parameters:\", best)\n",
        "if best['class_weight'] == 0:\n",
        "    best['class_weight'] = None\n",
        "\n",
        "model = make_pipeline(\n",
        "    StandardScaler(),\n",
        "    SVC(\n",
        "            C=best['C'],\n",
        "            kernel=best['kernel'],\n",
        "            degree=best.get('degree', 3),\n",
        "            gamma=best.get('gamma', 'scale'),\n",
        "            coef0=best.get('coef0', 0.0),\n",
        "            shrinking=best['shrinking'],\n",
        "            probability=True,\n",
        "            tol=best['tol'],\n",
        "            cache_size=200,\n",
        "            class_weight=best.get('class_weight', None),\n",
        "            max_iter=best['max_iter'],\n",
        "            random_state=42\n",
        "    )\n",
        ")\n",
        "\n",
        "model.fit(X_train[const_feats], y_train)\n",
        "\n",
        "y_prob = model.predict_proba(X_test[const_feats])[:, 1]\n",
        "\n",
        "fpr, tpr, _ = roc_curve(y_test, y_prob)\n",
        "precision, recall, _ = precision_recall_curve(y_test, y_prob)\n",
        "\n",
        "eval_loss = 1 - auc(fpr, tpr)\n",
        "\n",
        "loss_history['train'].append(None)\n",
        "loss_history['eval'].append(eval_loss)\n",
        "roc_curves.append((fpr, tpr))\n",
        "pr_curves.append((precision, recall))"
      ]
    },
    {
      "cell_type": "code",
      "execution_count": null,
      "metadata": {
        "id": "JPPc8LhjhcPe"
      },
      "outputs": [],
      "source": [
        "plt.figure(figsize=(7, 4))\n",
        "for i, eval_loss in enumerate(loss_history['eval']):\n",
        "    plt.plot(i, eval_loss, 'bo', alpha=0.6, label='Валидация' if i == 0 else \"\")\n",
        "plt.xlabel('Trial')\n",
        "plt.ylabel('Evaluation Loss')\n",
        "plt.title('Evaluation Loss History')\n",
        "plt.legend()\n",
        "plt.show()\n",
        "\n",
        "# Plot ROC curves\n",
        "plt.figure(figsize=(14, 7))\n",
        "for i, (fpr, tpr) in enumerate(roc_curves):\n",
        "    plt.plot(fpr, tpr, label=f'Trial {i+1} ROC (AUC = {auc(fpr, tpr):.2f})')\n",
        "plt.plot([0, 1], [0, 1], 'k--')\n",
        "plt.xlabel('False Positive Rate')\n",
        "plt.ylabel('True Positive Rate')\n",
        "plt.title('ROC Curves')\n",
        "plt.legend()\n",
        "plt.show()\n",
        "\n",
        "# Plot Precision-Recall curves\n",
        "plt.figure(figsize=(14, 7))\n",
        "for i, (precision, recall) in enumerate(pr_curves):\n",
        "    plt.plot(recall, precision, label=f'Trial {i+1} PR')\n",
        "plt.xlabel('Recall')\n",
        "plt.ylabel('Precision')\n",
        "plt.title('Precision-Recall Curves')\n",
        "plt.legend()\n",
        "plt.show()\n"
      ]
    },
    {
      "cell_type": "code",
      "execution_count": null,
      "metadata": {
        "id": "9Oo1Atc9ZfzZ"
      },
      "outputs": [],
      "source": [
        "def objective(params):\n",
        "    overfit_penalty = 10\n",
        "    print(params)\n",
        "    clf = SVC(**params, probability=True)\n",
        "    clf.fit(X_train[const_feats], y_train)\n",
        "    train_score = roc_auc_score(y_train, clf.predict_proba(X_train[const_feats])[:, 1]) * 2 - 1\n",
        "    test_score = roc_auc_score(y_test, clf.predict_proba(X_test[const_feats])[:, 1]) * 2 - 1\n",
        "    print(train_score, test_score)\n",
        "    score = max(0.6, train_score) / max(0.6, test_score) - test_score\n",
        "    return score"
      ]
    },
    {
      "cell_type": "code",
      "execution_count": null,
      "metadata": {
        "id": "lgFVtkLoZfzZ"
      },
      "outputs": [],
      "source": [
        "params = {\n",
        "    'C': hp.uniform('C', 0.1, 10.0),\n",
        "    'kernel': hp.choice('kernel', ['linear', 'rbf', 'poly']),\n",
        "    'gamma': hp.uniform('gamma', 0.001, 1.0) if 'rbf' or 'poly' in ['kernel'] else 'scale'\n",
        "}"
      ]
    },
    {
      "cell_type": "code",
      "execution_count": null,
      "metadata": {
        "colab": {
          "base_uri": "https://localhost:8080/"
        },
        "id": "PhWIofr1ZfzZ",
        "outputId": "6b24b259-9538-49ed-acc9-8812e3dd457a"
      },
      "outputs": [
        {
          "name": "stdout",
          "output_type": "stream",
          "text": [
            "{'C': 0.22741714576764777, 'gamma': 0.3629450824142406, 'kernel': 'poly'}\n",
            "  0%|          | 0/10 [00:00<?, ?trial/s, best loss=?]"
          ]
        }
      ],
      "source": [
        "%%time\n",
        "best = fmin(\n",
        "    fn=objective,\n",
        "    space=params,\n",
        "    algo=tpe.suggest,\n",
        "    max_evals=10\n",
        ")"
      ]
    },
    {
      "cell_type": "code",
      "execution_count": null,
      "metadata": {
        "id": "sC6fECHvZfza"
      },
      "outputs": [],
      "source": [
        "best"
      ]
    },
    {
      "cell_type": "code",
      "execution_count": null,
      "metadata": {
        "colab": {
          "base_uri": "https://localhost:8080/",
          "height": 302
        },
        "id": "HL8IwbRVZfzb",
        "outputId": "9a5df1ec-d2ba-4541-b8e5-5b4e44409b75"
      },
      "outputs": [
        {
          "name": "stderr",
          "output_type": "stream",
          "text": [
            "/usr/local/lib/python3.10/dist-packages/xgboost/core.py:160: UserWarning: [21:29:11] WARNING: /workspace/src/learner.cc:742: \n",
            "Parameters: { \"C\", \"kernel\" } are not used.\n",
            "\n",
            "  warnings.warn(smsg, UserWarning)\n"
          ]
        },
        {
          "data": {
            "text/html": [
              "<style>#sk-container-id-2 {color: black;background-color: white;}#sk-container-id-2 pre{padding: 0;}#sk-container-id-2 div.sk-toggleable {background-color: white;}#sk-container-id-2 label.sk-toggleable__label {cursor: pointer;display: block;width: 100%;margin-bottom: 0;padding: 0.3em;box-sizing: border-box;text-align: center;}#sk-container-id-2 label.sk-toggleable__label-arrow:before {content: \"▸\";float: left;margin-right: 0.25em;color: #696969;}#sk-container-id-2 label.sk-toggleable__label-arrow:hover:before {color: black;}#sk-container-id-2 div.sk-estimator:hover label.sk-toggleable__label-arrow:before {color: black;}#sk-container-id-2 div.sk-toggleable__content {max-height: 0;max-width: 0;overflow: hidden;text-align: left;background-color: #f0f8ff;}#sk-container-id-2 div.sk-toggleable__content pre {margin: 0.2em;color: black;border-radius: 0.25em;background-color: #f0f8ff;}#sk-container-id-2 input.sk-toggleable__control:checked~div.sk-toggleable__content {max-height: 200px;max-width: 100%;overflow: auto;}#sk-container-id-2 input.sk-toggleable__control:checked~label.sk-toggleable__label-arrow:before {content: \"▾\";}#sk-container-id-2 div.sk-estimator input.sk-toggleable__control:checked~label.sk-toggleable__label {background-color: #d4ebff;}#sk-container-id-2 div.sk-label input.sk-toggleable__control:checked~label.sk-toggleable__label {background-color: #d4ebff;}#sk-container-id-2 input.sk-hidden--visually {border: 0;clip: rect(1px 1px 1px 1px);clip: rect(1px, 1px, 1px, 1px);height: 1px;margin: -1px;overflow: hidden;padding: 0;position: absolute;width: 1px;}#sk-container-id-2 div.sk-estimator {font-family: monospace;background-color: #f0f8ff;border: 1px dotted black;border-radius: 0.25em;box-sizing: border-box;margin-bottom: 0.5em;}#sk-container-id-2 div.sk-estimator:hover {background-color: #d4ebff;}#sk-container-id-2 div.sk-parallel-item::after {content: \"\";width: 100%;border-bottom: 1px solid gray;flex-grow: 1;}#sk-container-id-2 div.sk-label:hover label.sk-toggleable__label {background-color: #d4ebff;}#sk-container-id-2 div.sk-serial::before {content: \"\";position: absolute;border-left: 1px solid gray;box-sizing: border-box;top: 0;bottom: 0;left: 50%;z-index: 0;}#sk-container-id-2 div.sk-serial {display: flex;flex-direction: column;align-items: center;background-color: white;padding-right: 0.2em;padding-left: 0.2em;position: relative;}#sk-container-id-2 div.sk-item {position: relative;z-index: 1;}#sk-container-id-2 div.sk-parallel {display: flex;align-items: stretch;justify-content: center;background-color: white;position: relative;}#sk-container-id-2 div.sk-item::before, #sk-container-id-2 div.sk-parallel-item::before {content: \"\";position: absolute;border-left: 1px solid gray;box-sizing: border-box;top: 0;bottom: 0;left: 50%;z-index: -1;}#sk-container-id-2 div.sk-parallel-item {display: flex;flex-direction: column;z-index: 1;position: relative;background-color: white;}#sk-container-id-2 div.sk-parallel-item:first-child::after {align-self: flex-end;width: 50%;}#sk-container-id-2 div.sk-parallel-item:last-child::after {align-self: flex-start;width: 50%;}#sk-container-id-2 div.sk-parallel-item:only-child::after {width: 0;}#sk-container-id-2 div.sk-dashed-wrapped {border: 1px dashed gray;margin: 0 0.4em 0.5em 0.4em;box-sizing: border-box;padding-bottom: 0.4em;background-color: white;}#sk-container-id-2 div.sk-label label {font-family: monospace;font-weight: bold;display: inline-block;line-height: 1.2em;}#sk-container-id-2 div.sk-label-container {text-align: center;}#sk-container-id-2 div.sk-container {/* jupyter's `normalize.less` sets `[hidden] { display: none; }` but bootstrap.min.css set `[hidden] { display: none !important; }` so we also need the `!important` here to be able to override the default hidden behavior on the sphinx rendered scikit-learn.org. See: https://github.com/scikit-learn/scikit-learn/issues/21755 */display: inline-block !important;position: relative;}#sk-container-id-2 div.sk-text-repr-fallback {display: none;}</style><div id=\"sk-container-id-2\" class=\"sk-top-container\"><div class=\"sk-text-repr-fallback\"><pre>XGBClassifier(C=0.1, base_score=None, booster=None, callbacks=None,\n",
              "              colsample_bylevel=None, colsample_bynode=None,\n",
              "              colsample_bytree=None, device=None, early_stopping_rounds=None,\n",
              "              enable_categorical=False, eval_metric=None, feature_types=None,\n",
              "              gamma=0.001, grow_policy=None, importance_type=None,\n",
              "              interaction_constraints=None, kernel=&#x27;linear&#x27;, learning_rate=None,\n",
              "              max_bin=None, max_cat_threshold=None, max_cat_to_onehot=None,\n",
              "              max_delta_step=None, max_depth=None, max_leaves=None,\n",
              "              min_child_weight=None, missing=nan, monotone_constraints=None,\n",
              "              multi_strategy=None, n_estimators=None, n_jobs=None, ...)</pre><b>In a Jupyter environment, please rerun this cell to show the HTML representation or trust the notebook. <br />On GitHub, the HTML representation is unable to render, please try loading this page with nbviewer.org.</b></div><div class=\"sk-container\" hidden><div class=\"sk-item\"><div class=\"sk-estimator sk-toggleable\"><input class=\"sk-toggleable__control sk-hidden--visually\" id=\"sk-estimator-id-2\" type=\"checkbox\" checked><label for=\"sk-estimator-id-2\" class=\"sk-toggleable__label sk-toggleable__label-arrow\">XGBClassifier</label><div class=\"sk-toggleable__content\"><pre>XGBClassifier(C=0.1, base_score=None, booster=None, callbacks=None,\n",
              "              colsample_bylevel=None, colsample_bynode=None,\n",
              "              colsample_bytree=None, device=None, early_stopping_rounds=None,\n",
              "              enable_categorical=False, eval_metric=None, feature_types=None,\n",
              "              gamma=0.001, grow_policy=None, importance_type=None,\n",
              "              interaction_constraints=None, kernel=&#x27;linear&#x27;, learning_rate=None,\n",
              "              max_bin=None, max_cat_threshold=None, max_cat_to_onehot=None,\n",
              "              max_delta_step=None, max_depth=None, max_leaves=None,\n",
              "              min_child_weight=None, missing=nan, monotone_constraints=None,\n",
              "              multi_strategy=None, n_estimators=None, n_jobs=None, ...)</pre></div></div></div></div></div>"
            ],
            "text/plain": [
              "XGBClassifier(C=0.1, base_score=None, booster=None, callbacks=None,\n",
              "              colsample_bylevel=None, colsample_bynode=None,\n",
              "              colsample_bytree=None, device=None, early_stopping_rounds=None,\n",
              "              enable_categorical=False, eval_metric=None, feature_types=None,\n",
              "              gamma=0.001, grow_policy=None, importance_type=None,\n",
              "              interaction_constraints=None, kernel='linear', learning_rate=None,\n",
              "              max_bin=None, max_cat_threshold=None, max_cat_to_onehot=None,\n",
              "              max_delta_step=None, max_depth=None, max_leaves=None,\n",
              "              min_child_weight=None, missing=nan, monotone_constraints=None,\n",
              "              multi_strategy=None, n_estimators=None, n_jobs=None, ...)"
            ]
          },
          "execution_count": 93,
          "metadata": {},
          "output_type": "execute_result"
        }
      ],
      "source": [
        "params = {\n",
        "    'C': 0.1,\n",
        "    'kernel': 'linear', #['linear', 'rbf', 'poly']),\n",
        "    'gamma': 0.001,\n",
        "\n",
        "}\n",
        "\n",
        "loss_history = {'train': [], 'eval': []}\n",
        "\n",
        "eval_set = [(X_train[const_feats], y_train), (X_test[const_feats], y_test)]\n",
        "model = XGBClassifier(**params)\n",
        "model.fit(X_train[const_feats], y_train, eval_set=eval_set, verbose=False)"
      ]
    },
    {
      "cell_type": "code",
      "execution_count": null,
      "metadata": {
        "id": "GfHno8UE1X3o"
      },
      "outputs": [],
      "source": [
        "train_loss = model.evals_result()['validation_0']['logloss']\n",
        "eval_loss = model.evals_result()['validation_1']['logloss']\n",
        "\n",
        "loss_history['train'].append(train_loss)\n",
        "loss_history['eval'].append(eval_loss)"
      ]
    },
    {
      "cell_type": "code",
      "execution_count": null,
      "metadata": {
        "id": "WzDL9HvB2iyS"
      },
      "outputs": [],
      "source": []
    },
    {
      "cell_type": "code",
      "execution_count": null,
      "metadata": {
        "colab": {
          "base_uri": "https://localhost:8080/",
          "height": 410
        },
        "id": "erDVj4VCZfzb",
        "outputId": "5cf087f3-9e11-46e3-c35d-82758f51b5c1"
      },
      "outputs": [
        {
          "data": {
            "image/png": "[encoded data removed]",
            "text/plain": [
              "<Figure size 700x400 with 1 Axes>"
            ]
          },
          "metadata": {},
          "output_type": "display_data"
        }
      ],
      "source": [
        "import matplotlib.pyplot as plt\n",
        "\n",
        "plt.figure(figsize=(7, 4))\n",
        "\n",
        "for i, trial in enumerate(loss_history['train']):\n",
        "    plt.plot(trial, 'r', alpha=0.6, label='Обучение' if i == 0 else \"\")\n",
        "\n",
        "for i, trial in enumerate(loss_history['eval']):\n",
        "    plt.plot(trial, 'b--', alpha=0.6, label='Валидация' if i == 0 else \"\")\n",
        "\n",
        "plt.xlabel('Раунд обучения')\n",
        "plt.ylabel('Log Loss')\n",
        "plt.title('История изменение log loss')\n",
        "\n",
        "handles, labels = plt.gca().get_legend_handles_labels()\n",
        "by_label = dict(zip(labels, handles))\n",
        "plt.legend(by_label.values(), by_label.keys())\n",
        "\n",
        "plt.show()"
      ]
    },
    {
      "cell_type": "code",
      "execution_count": null,
      "metadata": {
        "id": "lvYCA7KpZfzc"
      },
      "outputs": [],
      "source": [
        "roc_curves = []\n",
        "pr_curves = []\n",
        "\n",
        "y_prob = model.predict_proba(X_test[const_feats])[:, 1]\n",
        "fpr, tpr, _ = roc_curve(y_test, y_prob)\n",
        "precision, recall, _ = precision_recall_curve(y_test, y_prob)\n",
        "roc_curves.append((fpr, tpr))\n",
        "pr_curves.append((precision, recall))"
      ]
    },
    {
      "cell_type": "code",
      "execution_count": null,
      "metadata": {
        "colab": {
          "base_uri": "https://localhost:8080/",
          "height": 564
        },
        "id": "LmzNZyP9Zfzc",
        "outputId": "25d23c16-fff3-4198-a03e-6b546b1b38d2"
      },
      "outputs": [
        {
          "data": {
            "image/png": "[encoded data removed]",
            "text/plain": [
              "<Figure size 700x600 with 1 Axes>"
            ]
          },
          "metadata": {},
          "output_type": "display_data"
        }
      ],
      "source": [
        "plt.figure(figsize=(7, 6))\n",
        "for i, (fpr, tpr) in enumerate(roc_curves):\n",
        "    plt.plot(fpr, tpr, label=f'ROC (AUC = {auc(fpr, tpr):.2f})')\n",
        "plt.plot([0, 1], [0, 1], 'k--')\n",
        "plt.xlabel('False Positive Rate')\n",
        "plt.ylabel('True Positive Rate')\n",
        "plt.title('ROC кривая')\n",
        "plt.legend()\n",
        "plt.show()"
      ]
    },
    {
      "cell_type": "code",
      "execution_count": null,
      "metadata": {
        "colab": {
          "base_uri": "https://localhost:8080/",
          "height": 564
        },
        "id": "HEl_UhZ3Zfzc",
        "outputId": "2b49a2f5-8cdc-4741-c32b-9f0ce7fd54be"
      },
      "outputs": [
        {
          "data": {
            "image/png": "[encoded data removed]",
            "text/plain": [
              "<Figure size 700x600 with 1 Axes>"
            ]
          },
          "metadata": {},
          "output_type": "display_data"
        }
      ],
      "source": [
        "plt.figure(figsize=(7, 6))\n",
        "for i, (precision, recall) in enumerate(pr_curves):\n",
        "    plt.plot(recall, precision, label=f'PR (AUC = {auc(recall, precision):.2f})')\n",
        "plt.xlabel('Recall')\n",
        "plt.ylabel('Precision')\n",
        "plt.title('PR кривая')\n",
        "plt.legend()\n",
        "plt.show()"
      ]
    },
    {
      "cell_type": "code",
      "execution_count": null,
      "metadata": {
        "id": "hcpG2boyZfzc"
      },
      "outputs": [],
      "source": [
        "coef = 1 / model.predict_proba(X_train[const_feats])[:, 1].max() - 0.001"
      ]
    },
    {
      "cell_type": "code",
      "execution_count": null,
      "metadata": {
        "colab": {
          "base_uri": "https://localhost:8080/"
        },
        "id": "AmIERmIGZfzc",
        "outputId": "ca22dd91-08af-4fd3-92a6-bc64b51b1a4c"
      },
      "outputs": [
        {
          "name": "stdout",
          "output_type": "stream",
          "text": [
            "1.4400898852459876\n",
            "              precision    recall  f1-score   support\n",
            "\n",
            "           0       0.87      0.70      0.77     55812\n",
            "           1       0.59      0.80      0.68     30459\n",
            "\n",
            "    accuracy                           0.74     86271\n",
            "   macro avg       0.73      0.75      0.73     86271\n",
            "weighted avg       0.77      0.74      0.74     86271\n",
            "\n"
          ]
        }
      ],
      "source": [
        "print(coef)\n",
        "print(classification_report(y_train, ((model.predict_proba(X_train[const_feats])[:, 1] * coef) > 0.5).astype(int)))"
      ]
    },
    {
      "cell_type": "code",
      "execution_count": null,
      "metadata": {
        "colab": {
          "base_uri": "https://localhost:8080/"
        },
        "id": "mAKh42SGZfzd",
        "outputId": "b6cbc346-31c8-4c2e-a499-c9c7b5063cd4"
      },
      "outputs": [
        {
          "name": "stdout",
          "output_type": "stream",
          "text": [
            "              precision    recall  f1-score   support\n",
            "\n",
            "           0       0.85      0.68      0.75     16085\n",
            "           1       0.54      0.76      0.63      8041\n",
            "\n",
            "    accuracy                           0.70     24126\n",
            "   macro avg       0.70      0.72      0.69     24126\n",
            "weighted avg       0.75      0.70      0.71     24126\n",
            "\n"
          ]
        }
      ],
      "source": [
        "print(classification_report(y_test, ((model.predict_proba(X_test[const_feats])[:, 1] * 1.44) > 0.5).astype(int)))"
      ]
    },
    {
      "cell_type": "code",
      "execution_count": null,
      "metadata": {
        "colab": {
          "base_uri": "https://localhost:8080/"
        },
        "id": "Hn4hbTZrZfzd",
        "outputId": "89d72eb6-80bc-47fd-efc8-ef133759b79e"
      },
      "outputs": [
        {
          "name": "stdout",
          "output_type": "stream",
          "text": [
            "0.6724577926056081 0.6104215429649251\n"
          ]
        }
      ],
      "source": [
        "print(roc_auc_score(y_train, model.predict_proba(X_train[const_feats])[:, 1], sample_weight=train_weights) * 2 - 1,\n",
        "roc_auc_score(y_test, model.predict_proba(X_test[const_feats])[:, 1], sample_weight=test_weights) * 2 - 1)"
      ]
    },
    {
      "cell_type": "code",
      "execution_count": null,
      "metadata": {
        "colab": {
          "base_uri": "https://localhost:8080/"
        },
        "id": "rts5JrPoZfze",
        "outputId": "b8df3d96-9c6a-4c3a-8384-d9f07b6e8453"
      },
      "outputs": [
        {
          "name": "stdout",
          "output_type": "stream",
          "text": [
            "('% Hemoglobin A1c', 0.05925077)\n",
            "('Absolute Basophil Count', 0.0069727064)\n",
            "('Absolute Eosinophil Count', 0.010077603)\n",
            "('Absolute Neutrophil Count', 0.026590712)\n",
            "('Bands', 0.3981259)\n",
            "('Calculated Total CO2', 0.027850706)\n",
            "('Chloride', 0.0050614793)\n",
            "('Lactate Dehydrogenase (LD)', 0.19622967)\n",
            "('Phosphate', 0.0057452093)\n",
            "('Potassium, Whole Blood', 0.059642542)\n",
            "('RDW-SD', 0.030192642)\n",
            "('White Blood Cells', 0.020123383)\n",
            "('eAG', 0.03855531)\n",
            "('pCO2', 0.084662355)\n",
            "('INR(PT)_num', 0.0018462675)\n",
            "('RDW_num', 0.029072715)\n"
          ]
        }
      ],
      "source": [
        "for i in zip(const_feats, model.feature_importances_):\n",
        "    print(i)"
      ]
    },
    {
      "cell_type": "code",
      "execution_count": null,
      "metadata": {
        "colab": {
          "base_uri": "https://localhost:8080/",
          "height": 537
        },
        "id": "z5N8scY6Zfze",
        "outputId": "ccde41d5-f39e-4ce9-fdc9-a4d4cb45ec19"
      },
      "outputs": [
        {
          "data": {
            "text/plain": [
              "(array([21167., 11292.,  6128.,  4897.,  4786.,  4839.,  7816.,  9548.,\n",
              "         6302.,  9496.]),\n",
              " array([0.1339075 , 0.22044736, 0.30698723, 0.39352709, 0.48006696,\n",
              "        0.56660682, 0.65314668, 0.73968655, 0.82622641, 0.91276628,\n",
              "        0.99930614]),\n",
              " <BarContainer object of 10 artists>)"
            ]
          },
          "execution_count": 165,
          "metadata": {},
          "output_type": "execute_result"
        },
        {
          "data": {
            "image/png": "[encoded data removed]",
            "text/plain": [
              "<Figure size 640x480 with 1 Axes>"
            ]
          },
          "metadata": {},
          "output_type": "display_data"
        }
      ],
      "source": [
        "import matplotlib.pyplot as plt\n",
        "plt.hist(model.predict_proba(X_train[const_feats])[:, 1] * coef)"
      ]
    },
    {
      "cell_type": "code",
      "execution_count": null,
      "metadata": {
        "colab": {
          "base_uri": "https://localhost:8080/",
          "height": 537
        },
        "id": "nbIaiJdOZfzf",
        "outputId": "7e9563e8-1069-4fe6-a768-82dfe9923bb5"
      },
      "outputs": [
        {
          "data": {
            "text/plain": [
              "(array([5655., 2849., 1915., 1920., 1171., 1055., 2924., 2670., 2374.,\n",
              "        1593.]),\n",
              " array([0.1339075 , 0.22044736, 0.30698723, 0.39352709, 0.48006696,\n",
              "        0.56660682, 0.65314668, 0.73968655, 0.82622641, 0.91276628,\n",
              "        0.99930614]),\n",
              " <BarContainer object of 10 artists>)"
            ]
          },
          "execution_count": 166,
          "metadata": {},
          "output_type": "execute_result"
        },
        {
          "data": {
            "image/png": "[encoded data removed]",
            "text/plain": [
              "<Figure size 640x480 with 1 Axes>"
            ]
          },
          "metadata": {},
          "output_type": "display_data"
        }
      ],
      "source": [
        "import matplotlib.pyplot as plt\n",
        "plt.hist(model.predict_proba(X_test[const_feats])[:, 1] * coef)"
      ]
    },
    {
      "cell_type": "markdown",
      "metadata": {
        "id": "xhjBTnSDD54V"
      },
      "source": [
        "#LOGREG"
      ]
    },
    {
      "cell_type": "code",
      "execution_count": null,
      "metadata": {
        "colab": {
          "base_uri": "https://localhost:8080/",
          "height": 1000
        },
        "id": "wgrzAKPONEs2",
        "outputId": "da73a59e-1a65-4f88-ad73-d8048d42775a"
      },
      "outputs": [
        {
          "name": "stdout",
          "output_type": "stream",
          "text": [
            "{'C': 36.614022115931775, 'penalty': 'l2'}\n",
            "Optimization terminated successfully.\n",
            "         Current function value: 0.559453\n",
            "         Iterations 6\n",
            "0.507701153925955\n",
            "0.48605685263088816\n",
            "{'C': 0.8456899109262144, 'penalty': 'l2'}\n",
            "Optimization terminated successfully.\n",
            "         Current function value: 0.559453\n",
            "         Iterations 6\n",
            "0.507701153925955\n",
            "0.48605685263088816\n",
            "{'C': 15.23471552608414, 'penalty': 'l2'}\n",
            "Optimization terminated successfully.\n",
            "         Current function value: 0.559453\n",
            "         Iterations 6\n",
            "0.507701153925955\n",
            "0.48605685263088816\n",
            "{'C': 5.2288965185228695e-05, 'penalty': 'l2'}\n",
            "Optimization terminated successfully.\n",
            "         Current function value: 0.559453\n",
            "         Iterations 6\n",
            "0.507701153925955\n",
            "0.48605685263088816\n",
            "{'C': 0.001908020573974207, 'penalty': 'l2'}\n",
            "Optimization terminated successfully.\n",
            "         Current function value: 0.559453\n",
            "         Iterations 6\n",
            "0.507701153925955\n",
            "0.48605685263088816\n",
            "{'C': 5.868114473345455, 'penalty': 'l2'}\n",
            "Optimization terminated successfully.\n",
            "         Current function value: 0.559453\n",
            "         Iterations 6\n",
            "0.507701153925955\n",
            "0.48605685263088816\n",
            "{'C': 0.03588616047047569, 'penalty': 'l2'}\n",
            "Optimization terminated successfully.\n",
            "         Current function value: 0.559453\n",
            "         Iterations 6\n",
            "0.507701153925955\n",
            "0.48605685263088816\n",
            "{'C': 6.833926911823881e-05, 'penalty': 'l2'}\n",
            "Optimization terminated successfully.\n",
            "         Current function value: 0.559453\n",
            "         Iterations 6\n",
            "0.507701153925955\n",
            "0.48605685263088816\n",
            "{'C': 4.821864401292444e-05, 'penalty': 'l2'}\n",
            "Optimization terminated successfully.\n",
            "         Current function value: 0.559453\n",
            "         Iterations 6\n",
            "0.507701153925955\n",
            "0.48605685263088816\n",
            "{'C': 2.6107188821531886, 'penalty': 'l2'}\n",
            "Optimization terminated successfully.\n",
            "         Current function value: 0.559453\n",
            "         Iterations 6\n",
            "0.507701153925955\n",
            "0.48605685263088816\n",
            "100%|██████████| 10/10 [00:09<00:00,  1.06trial/s, best loss: 0.5139431473691118]\n",
            "Optimization terminated successfully.\n",
            "         Current function value: 0.559453\n",
            "         Iterations 6\n"
          ]
        },
        {
          "data": {
            "image/png": "[encoded data removed]",
            "text/plain": [
              "<Figure size 700x600 with 1 Axes>"
            ]
          },
          "metadata": {},
          "output_type": "display_data"
        },
        {
          "name": "stdout",
          "output_type": "stream",
          "text": [
            "CPU times: user 5.82 s, sys: 3.12 s, total: 8.94 s\n",
            "Wall time: 10.7 s\n"
          ]
        }
      ],
      "source": [
        "%%time\n",
        "\n",
        "import numpy as np\n",
        "import pandas as pd\n",
        "from hyperopt import fmin, tpe, hp, Trials\n",
        "from hyperopt.pyll.base import scope\n",
        "from sklearn.model_selection import train_test_split\n",
        "from sklearn.metrics import roc_auc_score, roc_curve, precision_recall_curve, auc\n",
        "import matplotlib.pyplot as plt\n",
        "import statsmodels.api as sm\n",
        "\n",
        "\n",
        "def objective(params):\n",
        "    overfit_penalty = 100\n",
        "    print(params)\n",
        "    clf = sm.Logit(y_train, X_train[const_feats])\n",
        "    result = clf.fit()\n",
        "    train_score = roc_auc_score(y_train, result.predict(X_train[const_feats])) * 2 - 1\n",
        "    test_score = roc_auc_score(y_test, result.predict(X_test[const_feats])) * 2 - 1\n",
        "    print(train_score, test_score)\n",
        "    score = max(0.6, train_score) / max(0.6, test_score) - test_score\n",
        "    return score\n",
        "\n",
        "params = {\n",
        "    'penalty': hp.choice('penalty', ['l2']),\n",
        "    'C': hp.loguniform('C', np.log(1e-5), np.log(1e2))\n",
        "}\n",
        "\n",
        "best = fmin(\n",
        "    fn=objective,\n",
        "    space=params,\n",
        "    algo=tpe.suggest,\n",
        "    max_evals=10\n",
        ")\n",
        "\n",
        "best['penalty'] = 'l2'\n",
        "\n",
        "loss_history = {'train': [], 'eval': []}\n",
        "\n",
        "model = sm.Logit(y_train, X_train[const_feats])\n",
        "result = model.fit()\n",
        "roc_curves = []\n",
        "pr_curves = []\n",
        "\n",
        "y_prob = result.predict(X_test[const_feats])\n",
        "fpr, tpr, _ = roc_curve(y_test, y_prob)\n",
        "precision, recall, _ = precision_recall_curve(y_test, y_prob)\n",
        "roc_curves.append((fpr, tpr))\n",
        "pr_curves.append((precision, recall))\n",
        "\n",
        "plt.figure(figsize=(7, 6))\n",
        "for i, (fpr, tpr) in enumerate(roc_curves):\n",
        "    plt.plot(fpr, tpr, label=f'ROC (AUC = {auc(fpr, tpr):.2f})')\n",
        "plt.plot([0, 1], [0, 1], 'k--')\n",
        "plt.xlabel('False Positive Rate')\n",
        "plt.ylabel('True Positive Rate')\n",
        "plt.title('ROC Curve')\n",
        "plt.legend()\n",
        "plt.show()\n"
      ]
    },
    {
      "cell_type": "code",
      "execution_count": null,
      "metadata": {
        "id": "4eGuJFRHA7iJ"
      },
      "outputs": [],
      "source": [
        "train_score = roc_auc_score(y_train, result.predict(X_train[const_feats])) * 2 - 1\n",
        "test_score = roc_auc_score(y_test, result.predict(X_test[const_feats])) * 2 - 1"
      ]
    },
    {
      "cell_type": "code",
      "execution_count": null,
      "metadata": {
        "colab": {
          "base_uri": "https://localhost:8080/"
        },
        "id": "ClRKCuEmA7pz",
        "outputId": "fb8c83ba-dfee-401f-8c75-89ba925c1db2"
      },
      "outputs": [
        {
          "name": "stdout",
          "output_type": "stream",
          "text": [
            "0.507701153925955 0.48605685263088816\n"
          ]
        }
      ],
      "source": [
        "print(train_score, test_score)"
      ]
    },
    {
      "cell_type": "markdown",
      "metadata": {
        "id": "vRUEEHFPcATZ"
      },
      "source": [
        "#LSTM"
      ]
    },
    {
      "cell_type": "code",
      "execution_count": null,
      "metadata": {
        "id": "ldCgxLqGb_Uc"
      },
      "outputs": [],
      "source": [
        "import numpy as np\n",
        "import pandas as pd\n",
        "from sklearn.model_selection import train_test_split\n",
        "from sklearn.metrics import roc_auc_score, roc_curve, precision_recall_curve, auc\n",
        "import matplotlib.pyplot as plt\n",
        "import torch\n",
        "import torch.nn as nn\n",
        "import torch.optim as optim\n",
        "from torch.utils.data import Dataset, DataLoader\n",
        "from hyperopt import fmin, tpe, hp, Trials\n",
        "from hyperopt.pyll.base import scope\n",
        "\n",
        "class EventSequenceDataset(Dataset):\n",
        "    def __init__(self, X, y, sequence_length=1):\n",
        "        self.X = X\n",
        "        self.y = y\n",
        "        self.sequence_length = sequence_length\n",
        "        self.subject_ids = X['subject_id'].unique()\n",
        "        self.data = self._create_sequences()\n",
        "\n",
        "    def _create_sequences(self):\n",
        "        data = []\n",
        "        for subject_id in self.subject_ids:\n",
        "            subject_data = self.X[self.X['subject_id'] == subject_id]\n",
        "            subject_labels = self.y[self.X['subject_id'] == subject_id]\n",
        "            for i in range(len(subject_data)):\n",
        "                if i == 0:\n",
        "                    previous_event = np.full((self.sequence_length, self.X.shape[1] - 1), -1)\n",
        "                else:\n",
        "                    previous_event = subject_data.iloc[max(0, i - self.sequence_length):i].values[:, 1:]\n",
        "                    if len(previous_event) < self.sequence_length:\n",
        "                        padding = np.full((self.sequence_length - len(previous_event), self.X.shape[1] - 1), -1)\n",
        "                        previous_event = np.vstack((padding, previous_event))\n",
        "                previous_event = np.vstack((previous_event, subject_data.iloc[i, 1:]))\n",
        "                data.append((previous_event, subject_labels.iloc[i]))\n",
        "        return data\n",
        "\n",
        "    def __len__(self):\n",
        "        return len(self.data)\n",
        "\n",
        "    def __getitem__(self, idx):\n",
        "        label = self.data[idx][1]\n",
        "        return torch.tensor(self.data[idx][0].tolist()), torch.tensor(label)"
      ]
    },
    {
      "cell_type": "code",
      "execution_count": null,
      "metadata": {
        "id": "T_PHOu_jdYAW"
      },
      "outputs": [],
      "source": [
        "train_dataset = EventSequenceDataset(res_ds.loc[res_ds.subject_id.isin(train_ids)][['subject_id'] + const_feats], y_train, sequence_length=2)\n",
        "test_dataset = EventSequenceDataset(res_ds.loc[res_ds.subject_id.isin(test_ids)][['subject_id'] + const_feats], y_test, sequence_length=2)"
      ]
    },
    {
      "cell_type": "code",
      "execution_count": null,
      "metadata": {
        "id": "qb_mWA44_jJk"
      },
      "outputs": [],
      "source": [
        "train_loader = DataLoader(train_dataset, batch_size=32, shuffle=True)\n",
        "test_loader = DataLoader(test_dataset, batch_size=32, shuffle=False)"
      ]
    },
    {
      "cell_type": "code",
      "execution_count": null,
      "metadata": {
        "id": "F0rxnxQZAc_q"
      },
      "outputs": [],
      "source": [
        "device = 'cpu'"
      ]
    },
    {
      "cell_type": "code",
      "execution_count": null,
      "metadata": {
        "id": "u7t7TA5XlyO2"
      },
      "outputs": [],
      "source": [
        "class LSTMModel(nn.Module):\n",
        "    def __init__(self, input_dim, hidden_dim, output_dim):\n",
        "        super(LSTMModel, self).__init__()\n",
        "        self.lstm = nn.LSTM(input_dim, hidden_dim, batch_first=True)\n",
        "        self.fc = nn.Linear(hidden_dim, output_dim)\n",
        "        self.sigmoid = nn.Sigmoid()\n",
        "\n",
        "    def forward(self, x):\n",
        "        h0 = torch.zeros(1, x.size(0), hidden_dim).to(x.device)\n",
        "        c0 = torch.zeros(1, x.size(0), hidden_dim).to(x.device)\n",
        "        out, _ = self.lstm(x, (h0, c0))\n",
        "        out = self.fc(out[:, -1, :])\n",
        "        out = self.sigmoid(out)\n",
        "        return out\n",
        "\n",
        "input_dim = len(const_feats)\n",
        "hidden_dim = 50\n",
        "output_dim = 1\n",
        "model = LSTMModel(input_dim, hidden_dim, output_dim).to(device)\n"
      ]
    },
    {
      "cell_type": "code",
      "execution_count": null,
      "metadata": {
        "colab": {
          "base_uri": "https://localhost:8080/",
          "height": 71
        },
        "id": "xyq1ErP5A7tl",
        "outputId": "ea97a42f-8ab8-40c2-c6ad-aef19e8ab41e"
      },
      "outputs": [
        {
          "data": {
            "application/vnd.google.colaboratory.intrinsic+json": {
              "type": "string"
            },
            "text/plain": [
              "\"\\n# Plot ROC curve\\nfpr, tpr, _ = roc_curve(all_labels, all_preds)\\nplt.figure(figsize=(7, 6))\\nplt.plot(fpr, tpr, label=f'ROC (AUC = {auc(fpr, tpr):.2f})')\\nplt.plot([0, 1], [0, 1], 'k--')\\nplt.xlabel('False Positive Rate')\\nplt.ylabel('True Positive Rate')\\nplt.title('ROC Curve')\\nplt.legend()\\nplt.show()\\n\""
            ]
          },
          "execution_count": 100,
          "metadata": {},
          "output_type": "execute_result"
        }
      ],
      "source": [
        "def train_model(model, train_loader, criterion, optimizer, num_epochs=25):\n",
        "    model.train()\n",
        "    for epoch in range(num_epochs):\n",
        "        for sequences, labels in train_loader:\n",
        "            sequences = sequences.float().to(device)\n",
        "            labels = labels.float().to(device)\n",
        "\n",
        "            outputs = model(sequences)\n",
        "            loss = criterion(outputs.squeeze(), labels)\n",
        "\n",
        "            optimizer.zero_grad()\n",
        "            loss.backward()\n",
        "            optimizer.step()\n",
        "\n",
        "def evaluate_model(model, test_loader):\n",
        "    model.eval()\n",
        "    all_labels = []\n",
        "    all_preds = []\n",
        "    with torch.no_grad():\n",
        "        for sequences, labels in test_loader:\n",
        "            sequences = sequences.float().to(device)\n",
        "            labels = labels.float().to(device)\n",
        "\n",
        "            outputs = model(sequences)\n",
        "            preds = torch.sigmoid(outputs).cpu().numpy()\n",
        "            all_labels.extend(labels.cpu().numpy())\n",
        "            all_preds.extend(preds)\n",
        "\n",
        "    roc_auc = roc_auc_score(all_labels, all_preds)\n",
        "    return roc_auc\n",
        "\n",
        "\n",
        "'''\n",
        "# Plot ROC curve\n",
        "fpr, tpr, _ = roc_curve(all_labels, all_preds)\n",
        "plt.figure(figsize=(7, 6))\n",
        "plt.plot(fpr, tpr, label=f'ROC (AUC = {auc(fpr, tpr):.2f})')\n",
        "plt.plot([0, 1], [0, 1], 'k--')\n",
        "plt.xlabel('False Positive Rate')\n",
        "plt.ylabel('True Positive Rate')\n",
        "plt.title('ROC Curve')\n",
        "plt.legend()\n",
        "plt.show()\n",
        "'''"
      ]
    },
    {
      "cell_type": "code",
      "execution_count": null,
      "metadata": {
        "id": "mel0qCQdVCc2"
      },
      "outputs": [],
      "source": [
        "criterion = nn.BCEWithLogitsLoss()\n",
        "optimizer = optim.Adam(model.parameters(), lr=0.001)\n",
        "\n",
        "train_model(model, train_loader, criterion, optimizer, num_epochs=25)"
      ]
    },
    {
      "cell_type": "code",
      "execution_count": null,
      "metadata": {
        "colab": {
          "base_uri": "https://localhost:8080/"
        },
        "id": "rMU-Mkv_w7_T",
        "outputId": "93e0ad44-3e5f-44be-f649-0ea69cf22ec2"
      },
      "outputs": [
        {
          "name": "stdout",
          "output_type": "stream",
          "text": [
            "ROC AUC: 0.732785949567287\n"
          ]
        }
      ],
      "source": [
        "roc_auc = evaluate_model(model, train_loader)\n",
        "print(f'ROC AUC: {roc_auc * 2 - 1}')"
      ]
    },
    {
      "cell_type": "code",
      "execution_count": null,
      "metadata": {
        "colab": {
          "base_uri": "https://localhost:8080/"
        },
        "id": "EUkcMGO7Vbas",
        "outputId": "bcc8b3ad-e0b8-4cf5-9bed-9e0196e89ca7"
      },
      "outputs": [
        {
          "name": "stdout",
          "output_type": "stream",
          "text": [
            "ROC AUC: 0.5234197894015118\n"
          ]
        }
      ],
      "source": [
        "roc_auc = evaluate_model(model, test_loader)\n",
        "print(f'ROC AUC: {roc_auc * 2 - 1}')"
      ]
    }
  ],
  "metadata": {
    "colab": {
      "provenance": []
    },
    "kernelspec": {
      "display_name": "Python 3",
      "name": "python3"
    },
    "language_info": {
      "name": "python"
    }
  },
  "nbformat": 4,
  "nbformat_minor": 0
}